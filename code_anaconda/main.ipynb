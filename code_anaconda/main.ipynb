{
 "cells": [
  {
   "cell_type": "code",
   "execution_count": null,
   "metadata": {},
   "outputs": [],
   "source": [
    "import glob\n",
    "import os\n",
    "import datetime\n",
    "import subprocess\n",
    "import shlex\n",
    "\n",
    "import downloader\n",
    "import af_import\n",
    "import rst_import_lct\n",
    "import rst_import_vcf\n",
    "import polygon_import\n",
    "import run_step1\n",
    "import run_step2\n",
    "import export_shp"
   ]
  },
  {
   "cell_type": "markdown",
   "metadata": {},
   "source": [
    "## Download MODIS land cover and vegetation fields data"
   ]
  },
  {
   "cell_type": "code",
   "execution_count": null,
   "metadata": {},
   "outputs": [],
   "source": [
    "year = 2016\n",
    "is_leap = (year % 4 == 0)\n",
    "tag_lct = 'modlct_%d' % year\n",
    "tag_vcf = 'modvcf_%d' % year\n",
    "tag_af = 'mod_global_%d_v7m' % year\n",
    "tag_regnum = 'regnum'"
   ]
  },
  {
   "cell_type": "code",
   "execution_count": null,
   "metadata": {},
   "outputs": [],
   "source": [
    "url_lct = 'https://e4ftl01.cr.usgs.gov/MOTA/MCD12Q1.006/%d.01.01/' % year\n",
    "url_vcf = 'https://e4ftl01.cr.usgs.gov/MOLT/MOD44B.006/%d.03.%02d/' % (year, 5 if is_leap else 6)\n",
    "\n",
    "ddir_lct = './downloads/e4ftl01.cr.usgs.gov/MOTA/MCD12Q1.006/%d.01.01' % year\n",
    "ddir_vcf = './downloads/e4ftl01.cr.usgs.gov/MOLT/MOD44B.006/%d.03.%02d/' % (year, 5 if is_leap else 6)"
   ]
  },
  {
   "cell_type": "code",
   "execution_count": null,
   "metadata": {},
   "outputs": [],
   "source": [
    "downloader.download_all(url_lct)"
   ]
  },
  {
   "cell_type": "code",
   "execution_count": null,
   "metadata": {},
   "outputs": [],
   "source": [
    "downloader.purge_corrupted(ddir_lct, url=url_lct)"
   ]
  },
  {
   "cell_type": "code",
   "execution_count": null,
   "metadata": {},
   "outputs": [],
   "source": [
    "downloader.download_all(url_vcf)"
   ]
  },
  {
   "cell_type": "code",
   "execution_count": null,
   "metadata": {},
   "outputs": [],
   "source": [
    "downloader.purge_corrupted(ddir_vcf, url=url_vcf)"
   ]
  },
  {
   "cell_type": "markdown",
   "metadata": {},
   "source": [
    "## Create a PostGIS database"
   ]
  },
  {
   "cell_type": "code",
   "execution_count": null,
   "metadata": {},
   "outputs": [],
   "source": [
    "os.environ['PGDATABASE'] = 'gis'\n",
    "os.environ['PGUSER'] = 'docker'\n",
    "os.environ['PGPASSWORD'] = 'docker'\n",
    "os.environ['PGHOST'] = 'localhost'\n",
    "os.environ['PGPORT'] = '5432'"
   ]
  },
  {
   "cell_type": "code",
   "execution_count": null,
   "metadata": {},
   "outputs": [],
   "source": [
    "!psql postgres -c 'SELECT version();'\n",
    "!pg_lsclusters"
   ]
  },
  {
   "cell_type": "code",
   "execution_count": null,
   "metadata": {
    "scrolled": true
   },
   "outputs": [],
   "source": [
    "!psql -d gis -c 'CREATE LANGUAGE plpython3u;' "
   ]
  },
  {
   "cell_type": "markdown",
   "metadata": {},
   "source": [
    "## Import land cover type\n",
    "\n",
    "Get filenames of MCD12Q1 land cover type data"
   ]
  },
  {
   "cell_type": "code",
   "execution_count": null,
   "metadata": {},
   "outputs": [],
   "source": [
    "# tag to identify dataset\n",
    "ddir = './downloads/e4ftl01.cr.usgs.gov/MOTA/MCD12Q1.006'\n",
    "\n",
    "search_string = \"%(ddir)s/%(year)s.01.01/MCD12Q1.A%(year)s001.h??v??.006.*.hdf\" % dict(\n",
    "        ddir = ddir, year=year)"
   ]
  },
  {
   "cell_type": "code",
   "execution_count": null,
   "metadata": {},
   "outputs": [],
   "source": [
    "# grab hdf file names\n",
    "fnames = sorted(glob.glob(search_string))\n",
    "print('found %d hdf files' % len(fnames) )"
   ]
  },
  {
   "cell_type": "code",
   "execution_count": null,
   "metadata": {},
   "outputs": [],
   "source": [
    "rst_import_lct.main(tag_lct, fnames)"
   ]
  },
  {
   "cell_type": "markdown",
   "metadata": {},
   "source": [
    "## Import vegetation continuous fields"
   ]
  },
  {
   "cell_type": "code",
   "execution_count": null,
   "metadata": {},
   "outputs": [],
   "source": [
    "ddir = './downloads/e4ftl01.cr.usgs.gov/MOLT/MOD44B.006'\n",
    "\n",
    "search_string = \"%(ddir)s/%(year)s.03.0[56]/MOD44B.A%(year)s065.h??v??.006.*.hdf\" % dict(\n",
    "        ddir = ddir, year=year)\n",
    "\n",
    "# grab hdf file names\n",
    "fnames = sorted(glob.glob(search_string))"
   ]
  },
  {
   "cell_type": "code",
   "execution_count": null,
   "metadata": {},
   "outputs": [],
   "source": [
    "rst_import_vcf.main(tag_vcf, fnames)"
   ]
  },
  {
   "cell_type": "markdown",
   "metadata": {},
   "source": [
    "## Import countries of the world shapefile"
   ]
  },
  {
   "cell_type": "code",
   "execution_count": null,
   "metadata": {},
   "outputs": [],
   "source": [
    "if not os.path.exists('all_countries/All_Countries.shp'):\n",
    "    subprocess.run(shlex.split('wget https://s3-us-west-2.amazonaws.com/earthlab-finn/All_Countries.zip'))\n",
    "    subprocess.run(shlex.split('unzip All_Countries.zip -d all_countries'))\n",
    "    subprocess.run(['rm', 'All_Countries.zip'])"
   ]
  },
  {
   "cell_type": "code",
   "execution_count": null,
   "metadata": {},
   "outputs": [],
   "source": [
    "polygon_import.main('regnum')"
   ]
  },
  {
   "cell_type": "markdown",
   "metadata": {},
   "source": [
    "## Import active fire data"
   ]
  },
  {
   "cell_type": "code",
   "execution_count": null,
   "metadata": {},
   "outputs": [],
   "source": [
    "if not os.path.exists('firms/global_2016/fire_archive_M6_28864.shp'):\n",
    "    if not os.path.exists('2016-global-DL_FIRE_M6_28864.zip'):\n",
    "        subprocess.run(shlex.split('wget https://s3-us-west-2.amazonaws.com/earthlab-finn/2016-global-DL_FIRE_M6_28864.zip'))\n",
    "    if not os.path.exists('downloads/firms/global_2016'): \n",
    "        os.makedirs('downloads/firms/global_2016')\n",
    "    subprocess.run(shlex.split('unzip 2016-global-DL_FIRE_M6_28864.zip -d downloads/firms/global_2016'))"
   ]
  },
  {
   "cell_type": "code",
   "execution_count": null,
   "metadata": {},
   "outputs": [],
   "source": [
    "dt0 = datetime.date(year, 1, 1)\n",
    "dt1 = datetime.date(year+1, 1, 1)\n",
    "\n",
    "# source dir\n",
    "ddir = 'downloads/firms'\n",
    "\n",
    "# shp file names\n",
    "arcnames = ['M6_28864', ]\n",
    "fnames = [os.path.join(ddir, 'global_%d' % year, 'fire_archive_%s.shp' % _) for _ in arcnames]"
   ]
  },
  {
   "cell_type": "code",
   "execution_count": null,
   "metadata": {},
   "outputs": [],
   "source": [
    "from importlib import reload\n",
    "reload(af_import)\n",
    "af_import.main(tag_af, fnames)"
   ]
  },
  {
   "cell_type": "markdown",
   "metadata": {},
   "source": [
    "## Running \"step 1\" grouping points"
   ]
  },
  {
   "cell_type": "code",
   "execution_count": null,
   "metadata": {
    "scrolled": false
   },
   "outputs": [],
   "source": [
    "run_step1.main(tag_af, dt0, dt1, ver='v7m')"
   ]
  },
  {
   "cell_type": "markdown",
   "metadata": {},
   "source": [
    "## Running \"step 2\""
   ]
  },
  {
   "cell_type": "code",
   "execution_count": null,
   "metadata": {},
   "outputs": [],
   "source": [
    "assert run_step2.ver == 'v8b'\n",
    "rasters = [\n",
    "        {'tag': tag_lct,\n",
    "            'kind': 'thematic',\n",
    "            'variable': 'lct'},\n",
    "        {'tag': tag_vcf,\n",
    "            'kind': 'continuous',\n",
    "            'variables': ['tree', 'herb', 'bare'],\n",
    "            },\n",
    "        {'tag': tag_regnum,\n",
    "            'kind': 'polygons',\n",
    "            'variable_in': 'region_num',\n",
    "            'variable': 'regnum',\n",
    "            }\n",
    "\n",
    "        ]"
   ]
  },
  {
   "cell_type": "code",
   "execution_count": null,
   "metadata": {},
   "outputs": [],
   "source": [
    "run_step2.main(tag_af, rasters, dt0, dt1)"
   ]
  },
  {
   "cell_type": "markdown",
   "metadata": {},
   "source": [
    "## Export the output"
   ]
  },
  {
   "cell_type": "code",
   "execution_count": null,
   "metadata": {},
   "outputs": [],
   "source": [
    "odir = '.'\n",
    "schema = 'af_' + tag_af\n",
    "tblname = 'out_{0}_{1}_{2}'.format(tag_lct, tag_vcf, tag_regnum)\n",
    "flds = ('v_lct', 'f_lct', 'v_tree', 'v_herb', 'v_bare', 'v_regnum')\n",
    "tblname"
   ]
  },
  {
   "cell_type": "code",
   "execution_count": null,
   "metadata": {},
   "outputs": [],
   "source": [
    "export_shp.main(odir, schema, tblname, flds)"
   ]
  },
  {
   "cell_type": "code",
   "execution_count": null,
   "metadata": {},
   "outputs": [],
   "source": []
  }
 ],
 "metadata": {
  "kernelspec": {
   "display_name": "Python 3",
   "language": "python",
   "name": "python3"
  },
  "language_info": {
   "codemirror_mode": {
    "name": "ipython",
    "version": 3
   },
   "file_extension": ".py",
   "mimetype": "text/x-python",
   "name": "python",
   "nbconvert_exporter": "python",
   "pygments_lexer": "ipython3",
   "version": "3.7.0"
  }
 },
 "nbformat": 4,
 "nbformat_minor": 2
}
