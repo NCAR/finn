{
 "cells": [
  {
   "cell_type": "code",
   "execution_count": null,
   "metadata": {},
   "outputs": [],
   "source": [
    "import glob\n",
    "import os\n",
    "import re\n",
    "import datetime\n",
    "import subprocess\n",
    "import shlex\n",
    "import gdal\n",
    "from importlib import reload\n",
    "from subprocess import PIPE\n",
    "\n",
    "import downloader\n",
    "import af_import\n",
    "import rst_import_lct\n",
    "import rst_import_vcf\n",
    "import rst_import\n",
    "import polygon_import\n",
    "import run_step1\n",
    "import run_step2\n",
    "import export_shp"
   ]
  },
  {
   "cell_type": "markdown",
   "metadata": {},
   "source": [
    "## ActiveFire data"
   ]
  },
  {
   "cell_type": "code",
   "execution_count": null,
   "metadata": {},
   "outputs": [],
   "source": [
    "# tag to identify active fire dataset\n",
    "tag_af = 'mod_global_2016_v7m'\n",
    "\n",
    "# source dir\n",
    "ddir_af = 'downloads/firms'\n",
    "\n",
    "# shp file names\n",
    "arcnames = ['M6_28864', ]\n",
    "af_fnames = [os.path.join(ddir_af, 'global_2016', 'fire_archive_%s.shp' % _) for _ in arcnames]"
   ]
  },
  {
   "cell_type": "code",
   "execution_count": null,
   "metadata": {},
   "outputs": [],
   "source": [
    "# unpack active fire zip file if needed\n",
    "if not os.path.exists('firms/global_2016/fire_archive_M6_28864.shp'):\n",
    "    if not os.path.exists('2016-global-DL_FIRE_M6_28864.zip'):\n",
    "        subprocess.run(shlex.split('wget https://s3-us-west-2.amazonaws.com/earthlab-finn/2016-global-DL_FIRE_M6_28864.zip'))\n",
    "    if not os.path.exists('downloads/firms/global_2016'): \n",
    "        os.makedirs('downloads/firms/global_2016')\n",
    "    subprocess.run(shlex.split('unzip 2016-global-DL_FIRE_M6_28864.zip -d downloads/firms/global_2016'))"
   ]
  },
  {
   "cell_type": "markdown",
   "metadata": {},
   "source": [
    "## Download MODIS land cover and vegetation fields data"
   ]
  },
  {
   "cell_type": "code",
   "execution_count": null,
   "metadata": {},
   "outputs": [],
   "source": [
    "# year for raster\n",
    "year = 2016\n",
    "is_leap = (year % 4 == 0)\n",
    "\n",
    "# tag to identify datasets\n",
    "tag_lct = 'modlct_%d' % year\n",
    "tag_vcf = 'modvcf_%d' % year\n",
    "tag_regnum = 'regnum'\n",
    "\n",
    "url_lct = 'https://e4ftl01.cr.usgs.gov/MOTA/MCD12Q1.006/%d.01.01/' % year\n",
    "url_vcf = 'https://e4ftl01.cr.usgs.gov/MOLT/MOD44B.006/%d.03.%02d/' % (year, 5 if is_leap else 6)\n",
    "\n",
    "ddir_lct = './downloads/e4ftl01.cr.usgs.gov/MOTA/MCD12Q1.006/%d.01.01' % year\n",
    "ddir_vcf = './downloads/e4ftl01.cr.usgs.gov/MOLT/MOD44B.006/%d.03.%02d/' % (year, 5 if is_leap else 6)"
   ]
  },
  {
   "cell_type": "code",
   "execution_count": null,
   "metadata": {},
   "outputs": [],
   "source": [
    "downloader.download_all(url_lct)"
   ]
  },
  {
   "cell_type": "code",
   "execution_count": null,
   "metadata": {},
   "outputs": [],
   "source": [
    "downloader.purge_corrupted(ddir_lct, url=url_lct)"
   ]
  },
  {
   "cell_type": "code",
   "execution_count": null,
   "metadata": {},
   "outputs": [],
   "source": [
    "downloader.download_all(url_vcf)"
   ]
  },
  {
   "cell_type": "code",
   "execution_count": null,
   "metadata": {},
   "outputs": [],
   "source": [
    "downloader.purge_corrupted(ddir_vcf, url=url_vcf)"
   ]
  },
  {
   "cell_type": "markdown",
   "metadata": {},
   "source": [
    "## PostGIS database settings"
   ]
  },
  {
   "cell_type": "code",
   "execution_count": null,
   "metadata": {},
   "outputs": [],
   "source": [
    "os.environ['PGDATABASE'] = 'gis'\n",
    "os.environ['PGUSER'] = 'docker'\n",
    "os.environ['PGPASSWORD'] = 'docker'\n",
    "os.environ['PGHOST'] = 'localhost'\n",
    "os.environ['PGPORT'] = '5432'"
   ]
  },
  {
   "cell_type": "code",
   "execution_count": null,
   "metadata": {},
   "outputs": [],
   "source": [
    "# show info for the database\n",
    "!psql postgres -c 'SELECT version();'\n",
    "!pg_lsclusters"
   ]
  },
  {
   "cell_type": "code",
   "execution_count": null,
   "metadata": {
    "scrolled": true
   },
   "outputs": [],
   "source": [
    "# TODO i want to move this to Dockerfile somehow\n",
    "# create plpython, needed only once for the database\n",
    "try:\n",
    "    p = subprocess.run(shlex.split(\"psql -d gis -c 'CREATE LANGUAGE plpython3u;'\"), check=True, capture_output=True)\n",
    "except subprocess.CalledProcessError as e:\n",
    "    if 'already exists' in e.stderr.decode():\n",
    "        pass"
   ]
  },
  {
   "cell_type": "markdown",
   "metadata": {},
   "source": [
    "## Import land cover type\n",
    "\n",
    "Get filenames of MCD12Q1 land cover type data"
   ]
  },
  {
   "cell_type": "code",
   "execution_count": null,
   "metadata": {},
   "outputs": [],
   "source": [
    "# grab hdf file names\n",
    "search_string = \"%(ddir)s/MCD12Q1.A%(year)s001.h??v??.006.*.hdf\" % dict(\n",
    "        ddir = ddir_lct, year=year)\n",
    "fnames_lct = sorted(glob.glob(search_string))\n",
    "print('found %d hdf files' % len(fnames_lct) )"
   ]
  },
  {
   "cell_type": "code",
   "execution_count": null,
   "metadata": {},
   "outputs": [],
   "source": [
    "reload(rst_import)\n",
    "rst_import.main(tag_lct, 'lct', fnames_lct, run_merge=False, run_resample=True, run_import=True)"
   ]
  },
  {
   "cell_type": "markdown",
   "metadata": {},
   "source": [
    "## Import vegetation continuous fields"
   ]
  },
  {
   "cell_type": "code",
   "execution_count": null,
   "metadata": {},
   "outputs": [],
   "source": [
    "# grab hdf file names\n",
    "search_string = \"%(ddir)s/MOD44B.A%(year)s065.h??v??.006.*.hdf\" % dict(\n",
    "        ddir = ddir_vcf, year=year)\n",
    "fnames_vcf = sorted(glob.glob(search_string))\n",
    "print('found %d hdf files' % len(fnames_vcf) )"
   ]
  },
  {
   "cell_type": "code",
   "execution_count": null,
   "metadata": {},
   "outputs": [],
   "source": [
    "reload(rst_import)\n",
    "rst_import.main(tag_vcf, 'vcf', fnames_vcf)"
   ]
  },
  {
   "cell_type": "markdown",
   "metadata": {},
   "source": [
    "## Import countries of the world shapefile"
   ]
  },
  {
   "cell_type": "code",
   "execution_count": null,
   "metadata": {},
   "outputs": [],
   "source": [
    "if not os.path.exists('all_countries/All_Countries.shp'):\n",
    "    subprocess.run(shlex.split('wget https://s3-us-west-2.amazonaws.com/earthlab-finn/All_Countries.zip'))\n",
    "    subprocess.run(shlex.split('unzip All_Countries.zip -d all_countries'))\n",
    "    subprocess.run(['rm', 'All_Countries.zip'])"
   ]
  },
  {
   "cell_type": "code",
   "execution_count": null,
   "metadata": {},
   "outputs": [],
   "source": [
    "polygon_import.main('regnum')"
   ]
  },
  {
   "cell_type": "markdown",
   "metadata": {},
   "source": [
    "## Import active fire data"
   ]
  },
  {
   "cell_type": "code",
   "execution_count": null,
   "metadata": {},
   "outputs": [],
   "source": [
    "reload(af_import)\n",
    "af_import.main(tag_af, af_fnames)\n",
    "print()\n",
    "for i,fn in enumerate(af_fnames):\n",
    "    print(fn)\n",
    "    p = subprocess.run(['psql', '-c', 'select count(*) from \"af_%s\".af_in_%d;' % (tag_af, i+1)], stdout=PIPE)\n",
    "    print(p.stdout.decode())\n"
   ]
  },
  {
   "cell_type": "markdown",
   "metadata": {},
   "source": [
    "## Running \"step 1\" grouping points"
   ]
  },
  {
   "cell_type": "code",
   "execution_count": null,
   "metadata": {},
   "outputs": [],
   "source": [
    "# You can either set fist and last day of analysis by your self here,\n",
    "\n",
    "# firstday = datetime.date(year, 1, 1)\n",
    "# lastday = datetime.date(year+1, 1, 1)\n",
    "\n",
    "# or use the period covered by the input active fire file (keep both variables to None)\n",
    "\n",
    "firstday = None\n",
    "lastday = None\n"
   ]
  },
  {
   "cell_type": "code",
   "execution_count": null,
   "metadata": {
    "scrolled": false
   },
   "outputs": [],
   "source": [
    "reload(run_step1)\n",
    "run_step1.main(tag_af, firstday=firstday, lastday=lastday, ver='v7m', run_prep = True, run_work=True)"
   ]
  },
  {
   "cell_type": "markdown",
   "metadata": {},
   "source": [
    "## Running \"step 2\""
   ]
  },
  {
   "cell_type": "code",
   "execution_count": null,
   "metadata": {},
   "outputs": [],
   "source": [
    "assert run_step2.ver == 'v8b'\n",
    "\n",
    "rasters = [\n",
    "        {'tag': tag_lct,\n",
    "            'kind': 'thematic',\n",
    "            'variable': 'lct'},\n",
    "        {'tag': tag_vcf,\n",
    "            'kind': 'continuous',\n",
    "            'variables': ['tree', 'herb', 'bare'],\n",
    "            },\n",
    "        {'tag': tag_regnum,\n",
    "            'kind': 'polygons',\n",
    "            'variable_in': 'region_num',\n",
    "            'variable': 'regnum',\n",
    "            },\n",
    "        ]"
   ]
  },
  {
   "cell_type": "code",
   "execution_count": null,
   "metadata": {},
   "outputs": [],
   "source": [
    "run_step2.main(tag_af, rasters, firstday=firstday, lastday=lastday)"
   ]
  },
  {
   "cell_type": "markdown",
   "metadata": {},
   "source": [
    "## Export the output"
   ]
  },
  {
   "cell_type": "code",
   "execution_count": null,
   "metadata": {},
   "outputs": [],
   "source": [
    "odir = '.'\n",
    "schema = 'af_' + tag_af\n",
    "tblname = 'out_{0}_{1}_{2}'.format(tag_lct, tag_vcf, tag_regnum)\n",
    "flds = ('v_lct', 'f_lct', 'v_tree', 'v_herb', 'v_bare', 'v_regnum')\n",
    "tblname"
   ]
  },
  {
   "cell_type": "code",
   "execution_count": null,
   "metadata": {},
   "outputs": [],
   "source": [
    "export_shp.main(odir, schema, tblname, flds)"
   ]
  },
  {
   "cell_type": "code",
   "execution_count": null,
   "metadata": {},
   "outputs": [],
   "source": []
  }
 ],
 "metadata": {
  "kernelspec": {
   "display_name": "Python 3",
   "language": "python",
   "name": "python3"
  }
 },
 "nbformat": 4,
 "nbformat_minor": 2
}
