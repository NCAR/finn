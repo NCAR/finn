{
 "cells": [
  {
   "cell_type": "code",
   "execution_count": 16,
   "metadata": {},
   "outputs": [],
   "source": [
    "import glob\n",
    "import os\n",
    "import re\n",
    "import datetime\n",
    "import subprocess\n",
    "import shlex\n",
    "import gdal\n",
    "\n",
    "import downloader\n",
    "import af_import\n",
    "import rst_import_lct\n",
    "import rst_import_vcf\n",
    "import rst_import\n",
    "import polygon_import\n",
    "import run_step1\n",
    "import run_step2\n",
    "import export_shp"
   ]
  },
  {
   "cell_type": "markdown",
   "metadata": {},
   "source": [
    "## ActiveFire data"
   ]
  },
  {
   "cell_type": "code",
   "execution_count": 5,
   "metadata": {},
   "outputs": [],
   "source": [
    "\n",
    "tag_af = 'mod_na_2012'\n",
    "\n",
    "# source dir\n",
    "ddir = 'downloads/firms'\n",
    "\n",
    "# shp file names\n",
    "arcnames = ['M6_34602', ]\n",
    "af_fnames = [os.path.join(ddir, tag_af, 'fire_archive_%s.shp' % _) for _ in arcnames]\n",
    "\n",
    "\n",
    "for fn in af_fnames:\n",
    "    if not os.path.exists(fn):\n",
    "        zn = list(os.path.split(fn))\n",
    "        #print(zn)\n",
    "        zn[1] = re.sub(r'fire_archive_([^.]+).shp', r'DL_FIRE_\\1.zip', zn[1])\n",
    "        #print(zn)\n",
    "        zn = os.path.join(*zn)\n",
    "        #print(zn)\n",
    "        subprocess.run(['unzip', zn, '-d', os.path.join(ddir, tag_af)])"
   ]
  },
  {
   "cell_type": "markdown",
   "metadata": {},
   "source": [
    "## Download MODIS land cover and vegetation fields data"
   ]
  },
  {
   "cell_type": "code",
   "execution_count": 6,
   "metadata": {},
   "outputs": [],
   "source": [
    "year = 2012\n",
    "is_leap = (year % 4 == 0)\n",
    "tag_lct = 'modlct_%d' % year\n",
    "tag_vcf = 'modvcf_%d' % year\n",
    "tag_regnum = 'regnum'"
   ]
  },
  {
   "cell_type": "code",
   "execution_count": 7,
   "metadata": {},
   "outputs": [],
   "source": [
    "url_lct = 'https://e4ftl01.cr.usgs.gov/MOTA/MCD12Q1.006/%d.01.01/' % year\n",
    "url_vcf = 'https://e4ftl01.cr.usgs.gov/MOLT/MOD44B.006/%d.03.%02d/' % (year, 5 if is_leap else 6)\n",
    "\n",
    "ddir_lct = './downloads/e4ftl01.cr.usgs.gov/MOTA/MCD12Q1.006/%d.01.01' % year\n",
    "ddir_vcf = './downloads/e4ftl01.cr.usgs.gov/MOLT/MOD44B.006/%d.03.%02d/' % (year, 5 if is_leap else 6)"
   ]
  },
  {
   "cell_type": "code",
   "execution_count": 26,
   "metadata": {},
   "outputs": [
    {
     "name": "stdout",
     "output_type": "stream",
     "text": [
      "reading shp file ... Done\n",
      "<class 'numpy.ndarray'>\n",
      "False\n"
     ]
    },
    {
     "name": "stderr",
     "output_type": "stream",
     "text": [
      "/home/finn/code_anaconda/downloader.py:110: UserWarning: No parser was explicitly specified, so I'm using the best available HTML parser for this system (\"html.parser\"). This usually isn't a problem, but if you run this code on another system, or in a different virtual environment, it may use a different parser and behave differently.\n",
      "\n",
      "The code that caused this warning is on line 110 of the file /home/finn/code_anaconda/downloader.py. To get rid of this warning, pass the additional argument 'features=\"html.parser\"' to the BeautifulSoup constructor.\n",
      "\n",
      "  soup = BeautifulSoup(requests.get(url).text)\n"
     ]
    },
    {
     "name": "stdout",
     "output_type": "stream",
     "text": [
      "https://e4ftl01.cr.usgs.gov/MOTA/MCD12Q1.006/2012.01.01/BROWSE.MCD12Q1.A2012001.h07v06.006.2018054210306.1.jpg\n",
      "https://e4ftl01.cr.usgs.gov/MOTA/MCD12Q1.006/2012.01.01/BROWSE.MCD12Q1.A2012001.h07v07.006.2018054211946.1.jpg\n",
      "https://e4ftl01.cr.usgs.gov/MOTA/MCD12Q1.006/2012.01.01/BROWSE.MCD12Q1.A2012001.h08v04.006.2018054212230.1.jpg\n",
      "https://e4ftl01.cr.usgs.gov/MOTA/MCD12Q1.006/2012.01.01/BROWSE.MCD12Q1.A2012001.h08v05.006.2018054212715.1.jpg\n",
      "https://e4ftl01.cr.usgs.gov/MOTA/MCD12Q1.006/2012.01.01/BROWSE.MCD12Q1.A2012001.h08v06.006.2018054213207.1.jpg\n",
      "https://e4ftl01.cr.usgs.gov/MOTA/MCD12Q1.006/2012.01.01/BROWSE.MCD12Q1.A2012001.h08v07.006.2018054213232.1.jpg\n",
      "https://e4ftl01.cr.usgs.gov/MOTA/MCD12Q1.006/2012.01.01/BROWSE.MCD12Q1.A2012001.h09v03.006.2018054214637.1.jpg\n",
      "https://e4ftl01.cr.usgs.gov/MOTA/MCD12Q1.006/2012.01.01/BROWSE.MCD12Q1.A2012001.h09v04.006.2018054215001.1.jpg\n",
      "https://e4ftl01.cr.usgs.gov/MOTA/MCD12Q1.006/2012.01.01/BROWSE.MCD12Q1.A2012001.h09v05.006.2018054215129.1.jpg\n",
      "https://e4ftl01.cr.usgs.gov/MOTA/MCD12Q1.006/2012.01.01/BROWSE.MCD12Q1.A2012001.h09v06.006.2018054215219.1.jpg\n",
      "https://e4ftl01.cr.usgs.gov/MOTA/MCD12Q1.006/2012.01.01/BROWSE.MCD12Q1.A2012001.h09v07.006.2018054215308.1.jpg\n",
      "https://e4ftl01.cr.usgs.gov/MOTA/MCD12Q1.006/2012.01.01/BROWSE.MCD12Q1.A2012001.h10v03.006.2018054215812.1.jpg\n",
      "https://e4ftl01.cr.usgs.gov/MOTA/MCD12Q1.006/2012.01.01/BROWSE.MCD12Q1.A2012001.h10v04.006.2018054220146.1.jpg\n",
      "https://e4ftl01.cr.usgs.gov/MOTA/MCD12Q1.006/2012.01.01/BROWSE.MCD12Q1.A2012001.h10v05.006.2018054220404.1.jpg\n",
      "https://e4ftl01.cr.usgs.gov/MOTA/MCD12Q1.006/2012.01.01/BROWSE.MCD12Q1.A2012001.h10v06.006.2018054220554.1.jpg\n",
      "https://e4ftl01.cr.usgs.gov/MOTA/MCD12Q1.006/2012.01.01/BROWSE.MCD12Q1.A2012001.h10v07.006.2018054220837.1.jpg\n",
      "https://e4ftl01.cr.usgs.gov/MOTA/MCD12Q1.006/2012.01.01/BROWSE.MCD12Q1.A2012001.h11v03.006.2018054223003.1.jpg\n",
      "https://e4ftl01.cr.usgs.gov/MOTA/MCD12Q1.006/2012.01.01/BROWSE.MCD12Q1.A2012001.h11v04.006.2018054223141.1.jpg\n",
      "https://e4ftl01.cr.usgs.gov/MOTA/MCD12Q1.006/2012.01.01/BROWSE.MCD12Q1.A2012001.h11v05.006.2018054223112.1.jpg\n",
      "https://e4ftl01.cr.usgs.gov/MOTA/MCD12Q1.006/2012.01.01/BROWSE.MCD12Q1.A2012001.h11v06.006.2018054223322.1.jpg\n",
      "https://e4ftl01.cr.usgs.gov/MOTA/MCD12Q1.006/2012.01.01/BROWSE.MCD12Q1.A2012001.h11v07.006.2018054223534.1.jpg\n",
      "https://e4ftl01.cr.usgs.gov/MOTA/MCD12Q1.006/2012.01.01/BROWSE.MCD12Q1.A2012001.h12v03.006.2018054225116.1.jpg\n",
      "https://e4ftl01.cr.usgs.gov/MOTA/MCD12Q1.006/2012.01.01/BROWSE.MCD12Q1.A2012001.h12v04.006.2018054225210.1.jpg\n",
      "https://e4ftl01.cr.usgs.gov/MOTA/MCD12Q1.006/2012.01.01/BROWSE.MCD12Q1.A2012001.h12v05.006.2018054225344.1.jpg\n",
      "https://e4ftl01.cr.usgs.gov/MOTA/MCD12Q1.006/2012.01.01/BROWSE.MCD12Q1.A2012001.h12v07.006.2018054231348.1.jpg\n",
      "https://e4ftl01.cr.usgs.gov/MOTA/MCD12Q1.006/2012.01.01/BROWSE.MCD12Q1.A2012001.h13v03.006.2018055002216.1.jpg\n",
      "https://e4ftl01.cr.usgs.gov/MOTA/MCD12Q1.006/2012.01.01/BROWSE.MCD12Q1.A2012001.h13v04.006.2018054235139.1.jpg\n",
      "https://e4ftl01.cr.usgs.gov/MOTA/MCD12Q1.006/2012.01.01/BROWSE.MCD12Q1.A2012001.h14v03.006.2018055001956.1.jpg\n",
      "https://e4ftl01.cr.usgs.gov/MOTA/MCD12Q1.006/2012.01.01/BROWSE.MCD12Q1.A2012001.h14v04.006.2018055002011.1.jpg\n",
      "https://e4ftl01.cr.usgs.gov/MOTA/MCD12Q1.006/2012.01.01/MCD12Q1.A2012001.h07v06.006.2018054210306.hdf\n",
      "https://e4ftl01.cr.usgs.gov/MOTA/MCD12Q1.006/2012.01.01/MCD12Q1.A2012001.h07v06.006.2018054210306.hdf.xml\n",
      "https://e4ftl01.cr.usgs.gov/MOTA/MCD12Q1.006/2012.01.01/MCD12Q1.A2012001.h07v07.006.2018054211946.hdf\n",
      "https://e4ftl01.cr.usgs.gov/MOTA/MCD12Q1.006/2012.01.01/MCD12Q1.A2012001.h07v07.006.2018054211946.hdf.xml\n",
      "https://e4ftl01.cr.usgs.gov/MOTA/MCD12Q1.006/2012.01.01/MCD12Q1.A2012001.h08v04.006.2018054212230.hdf\n",
      "https://e4ftl01.cr.usgs.gov/MOTA/MCD12Q1.006/2012.01.01/MCD12Q1.A2012001.h08v04.006.2018054212230.hdf.xml\n",
      "https://e4ftl01.cr.usgs.gov/MOTA/MCD12Q1.006/2012.01.01/MCD12Q1.A2012001.h08v05.006.2018054212715.hdf\n",
      "https://e4ftl01.cr.usgs.gov/MOTA/MCD12Q1.006/2012.01.01/MCD12Q1.A2012001.h08v05.006.2018054212715.hdf.xml\n",
      "https://e4ftl01.cr.usgs.gov/MOTA/MCD12Q1.006/2012.01.01/MCD12Q1.A2012001.h08v06.006.2018054213207.hdf\n",
      "https://e4ftl01.cr.usgs.gov/MOTA/MCD12Q1.006/2012.01.01/MCD12Q1.A2012001.h08v06.006.2018054213207.hdf.xml\n",
      "https://e4ftl01.cr.usgs.gov/MOTA/MCD12Q1.006/2012.01.01/MCD12Q1.A2012001.h08v07.006.2018054213232.hdf\n",
      "https://e4ftl01.cr.usgs.gov/MOTA/MCD12Q1.006/2012.01.01/MCD12Q1.A2012001.h08v07.006.2018054213232.hdf.xml\n",
      "https://e4ftl01.cr.usgs.gov/MOTA/MCD12Q1.006/2012.01.01/MCD12Q1.A2012001.h09v03.006.2018054214637.hdf\n",
      "https://e4ftl01.cr.usgs.gov/MOTA/MCD12Q1.006/2012.01.01/MCD12Q1.A2012001.h09v03.006.2018054214637.hdf.xml\n",
      "https://e4ftl01.cr.usgs.gov/MOTA/MCD12Q1.006/2012.01.01/MCD12Q1.A2012001.h09v04.006.2018054215001.hdf\n",
      "https://e4ftl01.cr.usgs.gov/MOTA/MCD12Q1.006/2012.01.01/MCD12Q1.A2012001.h09v04.006.2018054215001.hdf.xml\n",
      "https://e4ftl01.cr.usgs.gov/MOTA/MCD12Q1.006/2012.01.01/MCD12Q1.A2012001.h09v05.006.2018054215129.hdf\n",
      "https://e4ftl01.cr.usgs.gov/MOTA/MCD12Q1.006/2012.01.01/MCD12Q1.A2012001.h09v05.006.2018054215129.hdf.xml\n",
      "https://e4ftl01.cr.usgs.gov/MOTA/MCD12Q1.006/2012.01.01/MCD12Q1.A2012001.h09v06.006.2018054215219.hdf\n",
      "https://e4ftl01.cr.usgs.gov/MOTA/MCD12Q1.006/2012.01.01/MCD12Q1.A2012001.h09v06.006.2018054215219.hdf.xml\n",
      "https://e4ftl01.cr.usgs.gov/MOTA/MCD12Q1.006/2012.01.01/MCD12Q1.A2012001.h09v07.006.2018054215308.hdf\n",
      "https://e4ftl01.cr.usgs.gov/MOTA/MCD12Q1.006/2012.01.01/MCD12Q1.A2012001.h09v07.006.2018054215308.hdf.xml\n",
      "https://e4ftl01.cr.usgs.gov/MOTA/MCD12Q1.006/2012.01.01/MCD12Q1.A2012001.h10v03.006.2018054215812.hdf\n",
      "https://e4ftl01.cr.usgs.gov/MOTA/MCD12Q1.006/2012.01.01/MCD12Q1.A2012001.h10v03.006.2018054215812.hdf.xml\n",
      "https://e4ftl01.cr.usgs.gov/MOTA/MCD12Q1.006/2012.01.01/MCD12Q1.A2012001.h10v04.006.2018054220146.hdf\n",
      "https://e4ftl01.cr.usgs.gov/MOTA/MCD12Q1.006/2012.01.01/MCD12Q1.A2012001.h10v04.006.2018054220146.hdf.xml\n",
      "https://e4ftl01.cr.usgs.gov/MOTA/MCD12Q1.006/2012.01.01/MCD12Q1.A2012001.h10v05.006.2018054220404.hdf\n",
      "https://e4ftl01.cr.usgs.gov/MOTA/MCD12Q1.006/2012.01.01/MCD12Q1.A2012001.h10v05.006.2018054220404.hdf.xml\n",
      "https://e4ftl01.cr.usgs.gov/MOTA/MCD12Q1.006/2012.01.01/MCD12Q1.A2012001.h10v06.006.2018054220554.hdf\n",
      "https://e4ftl01.cr.usgs.gov/MOTA/MCD12Q1.006/2012.01.01/MCD12Q1.A2012001.h10v06.006.2018054220554.hdf.xml\n",
      "https://e4ftl01.cr.usgs.gov/MOTA/MCD12Q1.006/2012.01.01/MCD12Q1.A2012001.h10v07.006.2018054220837.hdf\n",
      "https://e4ftl01.cr.usgs.gov/MOTA/MCD12Q1.006/2012.01.01/MCD12Q1.A2012001.h10v07.006.2018054220837.hdf.xml\n",
      "https://e4ftl01.cr.usgs.gov/MOTA/MCD12Q1.006/2012.01.01/MCD12Q1.A2012001.h11v03.006.2018054223003.hdf\n",
      "https://e4ftl01.cr.usgs.gov/MOTA/MCD12Q1.006/2012.01.01/MCD12Q1.A2012001.h11v03.006.2018054223003.hdf.xml\n",
      "https://e4ftl01.cr.usgs.gov/MOTA/MCD12Q1.006/2012.01.01/MCD12Q1.A2012001.h11v04.006.2018054223141.hdf\n",
      "https://e4ftl01.cr.usgs.gov/MOTA/MCD12Q1.006/2012.01.01/MCD12Q1.A2012001.h11v04.006.2018054223141.hdf.xml\n",
      "https://e4ftl01.cr.usgs.gov/MOTA/MCD12Q1.006/2012.01.01/MCD12Q1.A2012001.h11v05.006.2018054223112.hdf\n",
      "https://e4ftl01.cr.usgs.gov/MOTA/MCD12Q1.006/2012.01.01/MCD12Q1.A2012001.h11v05.006.2018054223112.hdf.xml\n",
      "https://e4ftl01.cr.usgs.gov/MOTA/MCD12Q1.006/2012.01.01/MCD12Q1.A2012001.h11v06.006.2018054223322.hdf\n",
      "https://e4ftl01.cr.usgs.gov/MOTA/MCD12Q1.006/2012.01.01/MCD12Q1.A2012001.h11v06.006.2018054223322.hdf.xml\n",
      "https://e4ftl01.cr.usgs.gov/MOTA/MCD12Q1.006/2012.01.01/MCD12Q1.A2012001.h11v07.006.2018054223534.hdf\n",
      "https://e4ftl01.cr.usgs.gov/MOTA/MCD12Q1.006/2012.01.01/MCD12Q1.A2012001.h11v07.006.2018054223534.hdf.xml\n",
      "https://e4ftl01.cr.usgs.gov/MOTA/MCD12Q1.006/2012.01.01/MCD12Q1.A2012001.h12v03.006.2018054225116.hdf\n",
      "https://e4ftl01.cr.usgs.gov/MOTA/MCD12Q1.006/2012.01.01/MCD12Q1.A2012001.h12v03.006.2018054225116.hdf.xml\n",
      "https://e4ftl01.cr.usgs.gov/MOTA/MCD12Q1.006/2012.01.01/MCD12Q1.A2012001.h12v04.006.2018054225210.hdf\n",
      "https://e4ftl01.cr.usgs.gov/MOTA/MCD12Q1.006/2012.01.01/MCD12Q1.A2012001.h12v04.006.2018054225210.hdf.xml\n",
      "https://e4ftl01.cr.usgs.gov/MOTA/MCD12Q1.006/2012.01.01/MCD12Q1.A2012001.h12v05.006.2018054225344.hdf\n",
      "https://e4ftl01.cr.usgs.gov/MOTA/MCD12Q1.006/2012.01.01/MCD12Q1.A2012001.h12v05.006.2018054225344.hdf.xml\n"
     ]
    },
    {
     "name": "stdout",
     "output_type": "stream",
     "text": [
      "https://e4ftl01.cr.usgs.gov/MOTA/MCD12Q1.006/2012.01.01/MCD12Q1.A2012001.h12v07.006.2018054231348.hdf\n",
      "https://e4ftl01.cr.usgs.gov/MOTA/MCD12Q1.006/2012.01.01/MCD12Q1.A2012001.h12v07.006.2018054231348.hdf.xml\n",
      "https://e4ftl01.cr.usgs.gov/MOTA/MCD12Q1.006/2012.01.01/MCD12Q1.A2012001.h13v03.006.2018055002216.hdf\n",
      "https://e4ftl01.cr.usgs.gov/MOTA/MCD12Q1.006/2012.01.01/MCD12Q1.A2012001.h13v03.006.2018055002216.hdf.xml\n",
      "https://e4ftl01.cr.usgs.gov/MOTA/MCD12Q1.006/2012.01.01/MCD12Q1.A2012001.h13v04.006.2018054235139.hdf\n",
      "https://e4ftl01.cr.usgs.gov/MOTA/MCD12Q1.006/2012.01.01/MCD12Q1.A2012001.h13v04.006.2018054235139.hdf.xml\n",
      "https://e4ftl01.cr.usgs.gov/MOTA/MCD12Q1.006/2012.01.01/MCD12Q1.A2012001.h14v03.006.2018055001956.hdf\n",
      "https://e4ftl01.cr.usgs.gov/MOTA/MCD12Q1.006/2012.01.01/MCD12Q1.A2012001.h14v03.006.2018055001956.hdf.xml\n",
      "https://e4ftl01.cr.usgs.gov/MOTA/MCD12Q1.006/2012.01.01/MCD12Q1.A2012001.h14v04.006.2018055002011.hdf\n",
      "https://e4ftl01.cr.usgs.gov/MOTA/MCD12Q1.006/2012.01.01/MCD12Q1.A2012001.h14v04.006.2018055002011.hdf.xml\n"
     ]
    }
   ],
   "source": [
    "from importlib import reload\n",
    "reload(downloader)\n",
    "downloader.download_only_needed(url_lct, pnts=af_fnames[0])"
   ]
  },
  {
   "cell_type": "code",
   "execution_count": 27,
   "metadata": {},
   "outputs": [
    {
     "name": "stdout",
     "output_type": "stream",
     "text": [
      "./downloads/e4ftl01.cr.usgs.gov/MOTA/MCD12Q1.006/2012.01.01/MCD12Q1.A2012001.h07v06.006.2018054210306.hdf ... OK\n",
      "./downloads/e4ftl01.cr.usgs.gov/MOTA/MCD12Q1.006/2012.01.01/MCD12Q1.A2012001.h07v07.006.2018054211946.hdf ... OK\n",
      "./downloads/e4ftl01.cr.usgs.gov/MOTA/MCD12Q1.006/2012.01.01/MCD12Q1.A2012001.h08v04.006.2018054212230.hdf ... OK\n",
      "./downloads/e4ftl01.cr.usgs.gov/MOTA/MCD12Q1.006/2012.01.01/MCD12Q1.A2012001.h08v05.006.2018054212715.hdf ... OK\n",
      "./downloads/e4ftl01.cr.usgs.gov/MOTA/MCD12Q1.006/2012.01.01/MCD12Q1.A2012001.h08v06.006.2018054213207.hdf ... OK\n",
      "./downloads/e4ftl01.cr.usgs.gov/MOTA/MCD12Q1.006/2012.01.01/MCD12Q1.A2012001.h08v07.006.2018054213232.hdf ... OK\n",
      "./downloads/e4ftl01.cr.usgs.gov/MOTA/MCD12Q1.006/2012.01.01/MCD12Q1.A2012001.h09v03.006.2018054214637.hdf ... OK\n",
      "./downloads/e4ftl01.cr.usgs.gov/MOTA/MCD12Q1.006/2012.01.01/MCD12Q1.A2012001.h09v04.006.2018054215001.hdf ... OK\n",
      "./downloads/e4ftl01.cr.usgs.gov/MOTA/MCD12Q1.006/2012.01.01/MCD12Q1.A2012001.h09v05.006.2018054215129.hdf ... OK\n",
      "./downloads/e4ftl01.cr.usgs.gov/MOTA/MCD12Q1.006/2012.01.01/MCD12Q1.A2012001.h09v06.006.2018054215219.hdf ... OK\n",
      "./downloads/e4ftl01.cr.usgs.gov/MOTA/MCD12Q1.006/2012.01.01/MCD12Q1.A2012001.h09v07.006.2018054215308.hdf ... OK\n",
      "./downloads/e4ftl01.cr.usgs.gov/MOTA/MCD12Q1.006/2012.01.01/MCD12Q1.A2012001.h10v03.006.2018054215812.hdf ... OK\n",
      "./downloads/e4ftl01.cr.usgs.gov/MOTA/MCD12Q1.006/2012.01.01/MCD12Q1.A2012001.h10v04.006.2018054220146.hdf ... OK\n",
      "./downloads/e4ftl01.cr.usgs.gov/MOTA/MCD12Q1.006/2012.01.01/MCD12Q1.A2012001.h10v05.006.2018054220404.hdf ... OK\n",
      "./downloads/e4ftl01.cr.usgs.gov/MOTA/MCD12Q1.006/2012.01.01/MCD12Q1.A2012001.h10v06.006.2018054220554.hdf ... OK\n",
      "./downloads/e4ftl01.cr.usgs.gov/MOTA/MCD12Q1.006/2012.01.01/MCD12Q1.A2012001.h10v07.006.2018054220837.hdf ... OK\n",
      "./downloads/e4ftl01.cr.usgs.gov/MOTA/MCD12Q1.006/2012.01.01/MCD12Q1.A2012001.h11v03.006.2018054223003.hdf ... OK\n",
      "./downloads/e4ftl01.cr.usgs.gov/MOTA/MCD12Q1.006/2012.01.01/MCD12Q1.A2012001.h11v04.006.2018054223141.hdf ... OK\n",
      "./downloads/e4ftl01.cr.usgs.gov/MOTA/MCD12Q1.006/2012.01.01/MCD12Q1.A2012001.h11v05.006.2018054223112.hdf ... OK\n",
      "./downloads/e4ftl01.cr.usgs.gov/MOTA/MCD12Q1.006/2012.01.01/MCD12Q1.A2012001.h11v06.006.2018054223322.hdf ... OK\n",
      "./downloads/e4ftl01.cr.usgs.gov/MOTA/MCD12Q1.006/2012.01.01/MCD12Q1.A2012001.h11v07.006.2018054223534.hdf ... OK\n",
      "./downloads/e4ftl01.cr.usgs.gov/MOTA/MCD12Q1.006/2012.01.01/MCD12Q1.A2012001.h12v03.006.2018054225116.hdf ... OK\n",
      "./downloads/e4ftl01.cr.usgs.gov/MOTA/MCD12Q1.006/2012.01.01/MCD12Q1.A2012001.h12v04.006.2018054225210.hdf ... OK\n",
      "./downloads/e4ftl01.cr.usgs.gov/MOTA/MCD12Q1.006/2012.01.01/MCD12Q1.A2012001.h12v05.006.2018054225344.hdf ... OK\n",
      "./downloads/e4ftl01.cr.usgs.gov/MOTA/MCD12Q1.006/2012.01.01/MCD12Q1.A2012001.h12v07.006.2018054231348.hdf ... OK\n",
      "./downloads/e4ftl01.cr.usgs.gov/MOTA/MCD12Q1.006/2012.01.01/MCD12Q1.A2012001.h13v03.006.2018055002216.hdf ... OK\n",
      "./downloads/e4ftl01.cr.usgs.gov/MOTA/MCD12Q1.006/2012.01.01/MCD12Q1.A2012001.h13v04.006.2018054235139.hdf ... OK\n",
      "./downloads/e4ftl01.cr.usgs.gov/MOTA/MCD12Q1.006/2012.01.01/MCD12Q1.A2012001.h14v03.006.2018055001956.hdf ... OK\n",
      "./downloads/e4ftl01.cr.usgs.gov/MOTA/MCD12Q1.006/2012.01.01/MCD12Q1.A2012001.h14v04.006.2018055002011.hdf ... OK\n"
     ]
    }
   ],
   "source": [
    "downloader.purge_corrupted(ddir_lct, url=url_lct)"
   ]
  },
  {
   "cell_type": "code",
   "execution_count": 29,
   "metadata": {},
   "outputs": [
    {
     "name": "stdout",
     "output_type": "stream",
     "text": [
      "reading shp file ... Done\n",
      "https://e4ftl01.cr.usgs.gov/MOLT/MOD44B.006/2012.03.05/BROWSE.MOD44B.A2012065.h07v06.006.2017081132640.1.jpg\n",
      "https://e4ftl01.cr.usgs.gov/MOLT/MOD44B.006/2012.03.05/BROWSE.MOD44B.A2012065.h07v07.006.2017081130654.1.jpg\n",
      "https://e4ftl01.cr.usgs.gov/MOLT/MOD44B.006/2012.03.05/BROWSE.MOD44B.A2012065.h08v04.006.2017081122051.1.jpg\n",
      "https://e4ftl01.cr.usgs.gov/MOLT/MOD44B.006/2012.03.05/BROWSE.MOD44B.A2012065.h08v05.006.2017081125522.1.jpg\n",
      "https://e4ftl01.cr.usgs.gov/MOLT/MOD44B.006/2012.03.05/BROWSE.MOD44B.A2012065.h08v06.006.2017081134816.1.jpg\n",
      "https://e4ftl01.cr.usgs.gov/MOLT/MOD44B.006/2012.03.05/BROWSE.MOD44B.A2012065.h08v07.006.2017081132004.1.jpg\n",
      "https://e4ftl01.cr.usgs.gov/MOLT/MOD44B.006/2012.03.05/BROWSE.MOD44B.A2012065.h09v03.006.2017081131529.1.jpg\n",
      "https://e4ftl01.cr.usgs.gov/MOLT/MOD44B.006/2012.03.05/BROWSE.MOD44B.A2012065.h09v04.006.2017081130241.1.jpg\n",
      "https://e4ftl01.cr.usgs.gov/MOLT/MOD44B.006/2012.03.05/BROWSE.MOD44B.A2012065.h09v05.006.2017081130345.1.jpg\n",
      "https://e4ftl01.cr.usgs.gov/MOLT/MOD44B.006/2012.03.05/BROWSE.MOD44B.A2012065.h09v06.006.2017081133946.1.jpg\n",
      "https://e4ftl01.cr.usgs.gov/MOLT/MOD44B.006/2012.03.05/BROWSE.MOD44B.A2012065.h09v07.006.2017081133146.1.jpg\n",
      "https://e4ftl01.cr.usgs.gov/MOLT/MOD44B.006/2012.03.05/BROWSE.MOD44B.A2012065.h10v03.006.2017081135136.1.jpg\n",
      "https://e4ftl01.cr.usgs.gov/MOLT/MOD44B.006/2012.03.05/BROWSE.MOD44B.A2012065.h10v04.006.2017081131239.1.jpg\n",
      "https://e4ftl01.cr.usgs.gov/MOLT/MOD44B.006/2012.03.05/BROWSE.MOD44B.A2012065.h10v05.006.2017081130533.1.jpg\n",
      "https://e4ftl01.cr.usgs.gov/MOLT/MOD44B.006/2012.03.05/BROWSE.MOD44B.A2012065.h10v06.006.2017081122629.1.jpg\n",
      "https://e4ftl01.cr.usgs.gov/MOLT/MOD44B.006/2012.03.05/BROWSE.MOD44B.A2012065.h10v07.006.2017081131301.1.jpg\n",
      "https://e4ftl01.cr.usgs.gov/MOLT/MOD44B.006/2012.03.05/BROWSE.MOD44B.A2012065.h11v03.006.2017081131201.1.jpg\n",
      "https://e4ftl01.cr.usgs.gov/MOLT/MOD44B.006/2012.03.05/BROWSE.MOD44B.A2012065.h11v04.006.2017081131922.1.jpg\n",
      "https://e4ftl01.cr.usgs.gov/MOLT/MOD44B.006/2012.03.05/BROWSE.MOD44B.A2012065.h11v05.006.2017081124605.1.jpg\n",
      "https://e4ftl01.cr.usgs.gov/MOLT/MOD44B.006/2012.03.05/BROWSE.MOD44B.A2012065.h11v06.006.2017081131750.1.jpg\n",
      "https://e4ftl01.cr.usgs.gov/MOLT/MOD44B.006/2012.03.05/BROWSE.MOD44B.A2012065.h11v07.006.2017081133532.1.jpg\n",
      "https://e4ftl01.cr.usgs.gov/MOLT/MOD44B.006/2012.03.05/BROWSE.MOD44B.A2012065.h12v03.006.2017081130349.1.jpg\n",
      "https://e4ftl01.cr.usgs.gov/MOLT/MOD44B.006/2012.03.05/BROWSE.MOD44B.A2012065.h12v04.006.2017081130108.1.jpg\n",
      "https://e4ftl01.cr.usgs.gov/MOLT/MOD44B.006/2012.03.05/BROWSE.MOD44B.A2012065.h12v05.006.2017081121816.1.jpg\n",
      "https://e4ftl01.cr.usgs.gov/MOLT/MOD44B.006/2012.03.05/BROWSE.MOD44B.A2012065.h12v07.006.2017081132216.1.jpg\n",
      "https://e4ftl01.cr.usgs.gov/MOLT/MOD44B.006/2012.03.05/BROWSE.MOD44B.A2012065.h13v03.006.2017081134711.1.jpg\n",
      "https://e4ftl01.cr.usgs.gov/MOLT/MOD44B.006/2012.03.05/BROWSE.MOD44B.A2012065.h13v04.006.2017081144743.1.jpg\n",
      "https://e4ftl01.cr.usgs.gov/MOLT/MOD44B.006/2012.03.05/BROWSE.MOD44B.A2012065.h14v03.006.2017081134820.1.jpg\n",
      "https://e4ftl01.cr.usgs.gov/MOLT/MOD44B.006/2012.03.05/BROWSE.MOD44B.A2012065.h14v04.006.2017081132255.1.jpg\n",
      "https://e4ftl01.cr.usgs.gov/MOLT/MOD44B.006/2012.03.05/MOD44B.A2012065.h07v06.006.2017081170142.hdf\n",
      "https://e4ftl01.cr.usgs.gov/MOLT/MOD44B.006/2012.03.05/MOD44B.A2012065.h07v06.006.2017081170142.hdf.xml\n",
      "https://e4ftl01.cr.usgs.gov/MOLT/MOD44B.006/2012.03.05/MOD44B.A2012065.h07v07.006.2017081170138.hdf\n",
      "https://e4ftl01.cr.usgs.gov/MOLT/MOD44B.006/2012.03.05/MOD44B.A2012065.h07v07.006.2017081170138.hdf.xml\n",
      "https://e4ftl01.cr.usgs.gov/MOLT/MOD44B.006/2012.03.05/MOD44B.A2012065.h08v04.006.2017081160719.hdf\n",
      "https://e4ftl01.cr.usgs.gov/MOLT/MOD44B.006/2012.03.05/MOD44B.A2012065.h08v04.006.2017081160719.hdf.xml\n",
      "https://e4ftl01.cr.usgs.gov/MOLT/MOD44B.006/2012.03.05/MOD44B.A2012065.h08v05.006.2017081160744.hdf\n",
      "https://e4ftl01.cr.usgs.gov/MOLT/MOD44B.006/2012.03.05/MOD44B.A2012065.h08v05.006.2017081160744.hdf.xml\n",
      "https://e4ftl01.cr.usgs.gov/MOLT/MOD44B.006/2012.03.05/MOD44B.A2012065.h08v06.006.2017081170149.hdf\n",
      "https://e4ftl01.cr.usgs.gov/MOLT/MOD44B.006/2012.03.05/MOD44B.A2012065.h08v06.006.2017081170149.hdf.xml\n",
      "https://e4ftl01.cr.usgs.gov/MOLT/MOD44B.006/2012.03.05/MOD44B.A2012065.h08v07.006.2017081170236.hdf\n",
      "https://e4ftl01.cr.usgs.gov/MOLT/MOD44B.006/2012.03.05/MOD44B.A2012065.h08v07.006.2017081170236.hdf.xml\n",
      "https://e4ftl01.cr.usgs.gov/MOLT/MOD44B.006/2012.03.05/MOD44B.A2012065.h09v03.006.2017081170410.hdf\n",
      "https://e4ftl01.cr.usgs.gov/MOLT/MOD44B.006/2012.03.05/MOD44B.A2012065.h09v03.006.2017081170410.hdf.xml\n",
      "https://e4ftl01.cr.usgs.gov/MOLT/MOD44B.006/2012.03.05/MOD44B.A2012065.h09v04.006.2017081160713.hdf\n",
      "https://e4ftl01.cr.usgs.gov/MOLT/MOD44B.006/2012.03.05/MOD44B.A2012065.h09v04.006.2017081160713.hdf.xml\n",
      "https://e4ftl01.cr.usgs.gov/MOLT/MOD44B.006/2012.03.05/MOD44B.A2012065.h09v05.006.2017081160758.hdf\n",
      "https://e4ftl01.cr.usgs.gov/MOLT/MOD44B.006/2012.03.05/MOD44B.A2012065.h09v05.006.2017081160758.hdf.xml\n",
      "https://e4ftl01.cr.usgs.gov/MOLT/MOD44B.006/2012.03.05/MOD44B.A2012065.h09v06.006.2017081170400.hdf\n",
      "https://e4ftl01.cr.usgs.gov/MOLT/MOD44B.006/2012.03.05/MOD44B.A2012065.h09v06.006.2017081170400.hdf.xml\n",
      "https://e4ftl01.cr.usgs.gov/MOLT/MOD44B.006/2012.03.05/MOD44B.A2012065.h09v07.006.2017081165515.hdf\n",
      "https://e4ftl01.cr.usgs.gov/MOLT/MOD44B.006/2012.03.05/MOD44B.A2012065.h09v07.006.2017081165515.hdf.xml\n",
      "https://e4ftl01.cr.usgs.gov/MOLT/MOD44B.006/2012.03.05/MOD44B.A2012065.h10v03.006.2017081170815.hdf\n",
      "https://e4ftl01.cr.usgs.gov/MOLT/MOD44B.006/2012.03.05/MOD44B.A2012065.h10v03.006.2017081170815.hdf.xml\n",
      "https://e4ftl01.cr.usgs.gov/MOLT/MOD44B.006/2012.03.05/MOD44B.A2012065.h10v04.006.2017081160828.hdf\n",
      "https://e4ftl01.cr.usgs.gov/MOLT/MOD44B.006/2012.03.05/MOD44B.A2012065.h10v04.006.2017081160828.hdf.xml\n",
      "https://e4ftl01.cr.usgs.gov/MOLT/MOD44B.006/2012.03.05/MOD44B.A2012065.h10v05.006.2017081160723.hdf\n",
      "https://e4ftl01.cr.usgs.gov/MOLT/MOD44B.006/2012.03.05/MOD44B.A2012065.h10v05.006.2017081160723.hdf.xml\n",
      "https://e4ftl01.cr.usgs.gov/MOLT/MOD44B.006/2012.03.05/MOD44B.A2012065.h10v06.006.2017081160845.hdf\n",
      "https://e4ftl01.cr.usgs.gov/MOLT/MOD44B.006/2012.03.05/MOD44B.A2012065.h10v06.006.2017081160845.hdf.xml\n",
      "https://e4ftl01.cr.usgs.gov/MOLT/MOD44B.006/2012.03.05/MOD44B.A2012065.h10v07.006.2017081170531.hdf\n",
      "https://e4ftl01.cr.usgs.gov/MOLT/MOD44B.006/2012.03.05/MOD44B.A2012065.h10v07.006.2017081170531.hdf.xml\n",
      "https://e4ftl01.cr.usgs.gov/MOLT/MOD44B.006/2012.03.05/MOD44B.A2012065.h11v03.006.2017081160906.hdf\n",
      "https://e4ftl01.cr.usgs.gov/MOLT/MOD44B.006/2012.03.05/MOD44B.A2012065.h11v03.006.2017081160906.hdf.xml\n",
      "https://e4ftl01.cr.usgs.gov/MOLT/MOD44B.006/2012.03.05/MOD44B.A2012065.h11v04.006.2017081160758.hdf\n",
      "https://e4ftl01.cr.usgs.gov/MOLT/MOD44B.006/2012.03.05/MOD44B.A2012065.h11v04.006.2017081160758.hdf.xml\n",
      "https://e4ftl01.cr.usgs.gov/MOLT/MOD44B.006/2012.03.05/MOD44B.A2012065.h11v05.006.2017081160838.hdf\n",
      "https://e4ftl01.cr.usgs.gov/MOLT/MOD44B.006/2012.03.05/MOD44B.A2012065.h11v05.006.2017081160838.hdf.xml\n",
      "https://e4ftl01.cr.usgs.gov/MOLT/MOD44B.006/2012.03.05/MOD44B.A2012065.h11v06.006.2017081170602.hdf\n",
      "https://e4ftl01.cr.usgs.gov/MOLT/MOD44B.006/2012.03.05/MOD44B.A2012065.h11v06.006.2017081170602.hdf.xml\n",
      "https://e4ftl01.cr.usgs.gov/MOLT/MOD44B.006/2012.03.05/MOD44B.A2012065.h11v07.006.2017081170642.hdf\n",
      "https://e4ftl01.cr.usgs.gov/MOLT/MOD44B.006/2012.03.05/MOD44B.A2012065.h11v07.006.2017081170642.hdf.xml\n",
      "https://e4ftl01.cr.usgs.gov/MOLT/MOD44B.006/2012.03.05/MOD44B.A2012065.h12v03.006.2017081160908.hdf\n",
      "https://e4ftl01.cr.usgs.gov/MOLT/MOD44B.006/2012.03.05/MOD44B.A2012065.h12v03.006.2017081160908.hdf.xml\n",
      "https://e4ftl01.cr.usgs.gov/MOLT/MOD44B.006/2012.03.05/MOD44B.A2012065.h12v04.006.2017081160916.hdf\n",
      "https://e4ftl01.cr.usgs.gov/MOLT/MOD44B.006/2012.03.05/MOD44B.A2012065.h12v04.006.2017081160916.hdf.xml\n",
      "https://e4ftl01.cr.usgs.gov/MOLT/MOD44B.006/2012.03.05/MOD44B.A2012065.h12v05.006.2017081160846.hdf\n",
      "https://e4ftl01.cr.usgs.gov/MOLT/MOD44B.006/2012.03.05/MOD44B.A2012065.h12v05.006.2017081160846.hdf.xml\n",
      "https://e4ftl01.cr.usgs.gov/MOLT/MOD44B.006/2012.03.05/MOD44B.A2012065.h12v07.006.2017081170819.hdf\n",
      "https://e4ftl01.cr.usgs.gov/MOLT/MOD44B.006/2012.03.05/MOD44B.A2012065.h12v07.006.2017081170819.hdf.xml\n"
     ]
    },
    {
     "name": "stdout",
     "output_type": "stream",
     "text": [
      "https://e4ftl01.cr.usgs.gov/MOLT/MOD44B.006/2012.03.05/MOD44B.A2012065.h13v03.006.2017081171025.hdf\n",
      "https://e4ftl01.cr.usgs.gov/MOLT/MOD44B.006/2012.03.05/MOD44B.A2012065.h13v03.006.2017081171025.hdf.xml\n",
      "https://e4ftl01.cr.usgs.gov/MOLT/MOD44B.006/2012.03.05/MOD44B.A2012065.h13v04.006.2017081171441.hdf\n",
      "https://e4ftl01.cr.usgs.gov/MOLT/MOD44B.006/2012.03.05/MOD44B.A2012065.h13v04.006.2017081171441.hdf.xml\n",
      "https://e4ftl01.cr.usgs.gov/MOLT/MOD44B.006/2012.03.05/MOD44B.A2012065.h14v03.006.2017081171107.hdf\n",
      "https://e4ftl01.cr.usgs.gov/MOLT/MOD44B.006/2012.03.05/MOD44B.A2012065.h14v03.006.2017081171107.hdf.xml\n",
      "https://e4ftl01.cr.usgs.gov/MOLT/MOD44B.006/2012.03.05/MOD44B.A2012065.h14v04.006.2017081171010.hdf\n",
      "https://e4ftl01.cr.usgs.gov/MOLT/MOD44B.006/2012.03.05/MOD44B.A2012065.h14v04.006.2017081171010.hdf.xml\n"
     ]
    }
   ],
   "source": [
    "from importlib import reload\n",
    "reload(downloader)\n",
    "downloader.download_only_needed(url_vcf, pnts=af_fnames[0])"
   ]
  },
  {
   "cell_type": "code",
   "execution_count": 30,
   "metadata": {},
   "outputs": [
    {
     "name": "stdout",
     "output_type": "stream",
     "text": [
      "./downloads/e4ftl01.cr.usgs.gov/MOLT/MOD44B.006/2012.03.05/MOD44B.A2012065.h07v06.006.2017081170142.hdf ... OK\n",
      "./downloads/e4ftl01.cr.usgs.gov/MOLT/MOD44B.006/2012.03.05/MOD44B.A2012065.h07v07.006.2017081170138.hdf ... OK\n",
      "./downloads/e4ftl01.cr.usgs.gov/MOLT/MOD44B.006/2012.03.05/MOD44B.A2012065.h08v04.006.2017081160719.hdf ... OK\n",
      "./downloads/e4ftl01.cr.usgs.gov/MOLT/MOD44B.006/2012.03.05/MOD44B.A2012065.h08v05.006.2017081160744.hdf ... OK\n",
      "./downloads/e4ftl01.cr.usgs.gov/MOLT/MOD44B.006/2012.03.05/MOD44B.A2012065.h08v06.006.2017081170149.hdf ... OK\n",
      "./downloads/e4ftl01.cr.usgs.gov/MOLT/MOD44B.006/2012.03.05/MOD44B.A2012065.h08v07.006.2017081170236.hdf ... OK\n",
      "./downloads/e4ftl01.cr.usgs.gov/MOLT/MOD44B.006/2012.03.05/MOD44B.A2012065.h09v03.006.2017081170410.hdf ... OK\n",
      "./downloads/e4ftl01.cr.usgs.gov/MOLT/MOD44B.006/2012.03.05/MOD44B.A2012065.h09v04.006.2017081160713.hdf ... OK\n",
      "./downloads/e4ftl01.cr.usgs.gov/MOLT/MOD44B.006/2012.03.05/MOD44B.A2012065.h09v05.006.2017081160758.hdf ... OK\n",
      "./downloads/e4ftl01.cr.usgs.gov/MOLT/MOD44B.006/2012.03.05/MOD44B.A2012065.h09v06.006.2017081170400.hdf ... OK\n",
      "./downloads/e4ftl01.cr.usgs.gov/MOLT/MOD44B.006/2012.03.05/MOD44B.A2012065.h09v07.006.2017081165515.hdf ... OK\n",
      "./downloads/e4ftl01.cr.usgs.gov/MOLT/MOD44B.006/2012.03.05/MOD44B.A2012065.h10v03.006.2017081170815.hdf ... OK\n",
      "./downloads/e4ftl01.cr.usgs.gov/MOLT/MOD44B.006/2012.03.05/MOD44B.A2012065.h10v04.006.2017081160828.hdf ... OK\n",
      "./downloads/e4ftl01.cr.usgs.gov/MOLT/MOD44B.006/2012.03.05/MOD44B.A2012065.h10v05.006.2017081160723.hdf ... OK\n",
      "./downloads/e4ftl01.cr.usgs.gov/MOLT/MOD44B.006/2012.03.05/MOD44B.A2012065.h10v06.006.2017081160845.hdf ... OK\n",
      "./downloads/e4ftl01.cr.usgs.gov/MOLT/MOD44B.006/2012.03.05/MOD44B.A2012065.h10v07.006.2017081170531.hdf ... OK\n",
      "./downloads/e4ftl01.cr.usgs.gov/MOLT/MOD44B.006/2012.03.05/MOD44B.A2012065.h11v03.006.2017081160906.hdf ... OK\n",
      "./downloads/e4ftl01.cr.usgs.gov/MOLT/MOD44B.006/2012.03.05/MOD44B.A2012065.h11v04.006.2017081160758.hdf ... OK\n",
      "./downloads/e4ftl01.cr.usgs.gov/MOLT/MOD44B.006/2012.03.05/MOD44B.A2012065.h11v05.006.2017081160838.hdf ... OK\n",
      "./downloads/e4ftl01.cr.usgs.gov/MOLT/MOD44B.006/2012.03.05/MOD44B.A2012065.h11v06.006.2017081170602.hdf ... OK\n",
      "./downloads/e4ftl01.cr.usgs.gov/MOLT/MOD44B.006/2012.03.05/MOD44B.A2012065.h11v07.006.2017081170642.hdf ... OK\n",
      "./downloads/e4ftl01.cr.usgs.gov/MOLT/MOD44B.006/2012.03.05/MOD44B.A2012065.h12v03.006.2017081160908.hdf ... OK\n",
      "./downloads/e4ftl01.cr.usgs.gov/MOLT/MOD44B.006/2012.03.05/MOD44B.A2012065.h12v04.006.2017081160916.hdf ... OK\n",
      "./downloads/e4ftl01.cr.usgs.gov/MOLT/MOD44B.006/2012.03.05/MOD44B.A2012065.h12v05.006.2017081160846.hdf ... OK\n",
      "./downloads/e4ftl01.cr.usgs.gov/MOLT/MOD44B.006/2012.03.05/MOD44B.A2012065.h12v07.006.2017081170819.hdf ... OK\n",
      "./downloads/e4ftl01.cr.usgs.gov/MOLT/MOD44B.006/2012.03.05/MOD44B.A2012065.h13v03.006.2017081171025.hdf ... OK\n",
      "./downloads/e4ftl01.cr.usgs.gov/MOLT/MOD44B.006/2012.03.05/MOD44B.A2012065.h13v04.006.2017081171441.hdf ... OK\n",
      "./downloads/e4ftl01.cr.usgs.gov/MOLT/MOD44B.006/2012.03.05/MOD44B.A2012065.h14v03.006.2017081171107.hdf ... OK\n",
      "./downloads/e4ftl01.cr.usgs.gov/MOLT/MOD44B.006/2012.03.05/MOD44B.A2012065.h14v04.006.2017081171010.hdf ... OK\n"
     ]
    }
   ],
   "source": [
    "downloader.purge_corrupted(ddir_vcf, url=url_vcf)"
   ]
  },
  {
   "cell_type": "markdown",
   "metadata": {},
   "source": [
    "## Create a PostGIS database"
   ]
  },
  {
   "cell_type": "code",
   "execution_count": 8,
   "metadata": {},
   "outputs": [],
   "source": [
    "os.environ['PGDATABASE'] = 'gis'\n",
    "os.environ['PGUSER'] = 'docker'\n",
    "os.environ['PGPASSWORD'] = 'docker'\n",
    "os.environ['PGHOST'] = 'localhost'\n",
    "os.environ['PGPORT'] = '5432'"
   ]
  },
  {
   "cell_type": "code",
   "execution_count": 9,
   "metadata": {},
   "outputs": [
    {
     "name": "stdout",
     "output_type": "stream",
     "text": [
      "                                                             version                                                              \n",
      "----------------------------------------------------------------------------------------------------------------------------------\n",
      " PostgreSQL 10.6 (Debian 10.6-1.pgdg90+1) on x86_64-pc-linux-gnu, compiled by gcc (Debian 6.3.0-18+deb9u1) 6.3.0 20170516, 64-bit\n",
      "(1 row)\n",
      "\n",
      "Ver Cluster Port Status Owner    Data directory              Log file\n",
      "\u001b[32m10  main    5432 online postgres /var/lib/postgresql/10/main /var/log/postgresql/postgresql-10-main.log\u001b[0m\n",
      "\u001b[31m11  main    5433 down   postgres /var/lib/postgresql/11/main /var/log/postgresql/postgresql-11-main.log\u001b[0m\n"
     ]
    }
   ],
   "source": [
    "!psql postgres -c 'SELECT version();'\n",
    "!pg_lsclusters"
   ]
  },
  {
   "cell_type": "code",
   "execution_count": 10,
   "metadata": {
    "scrolled": true
   },
   "outputs": [
    {
     "name": "stdout",
     "output_type": "stream",
     "text": [
      "CREATE LANGUAGE\r\n"
     ]
    }
   ],
   "source": [
    "!psql -d gis -c 'CREATE LANGUAGE plpython3u;' "
   ]
  },
  {
   "cell_type": "markdown",
   "metadata": {},
   "source": [
    "## Import land cover type\n",
    "\n",
    "Get filenames of MCD12Q1 land cover type data"
   ]
  },
  {
   "cell_type": "code",
   "execution_count": 25,
   "metadata": {},
   "outputs": [],
   "source": [
    "# tag to identify dataset\n",
    "ddir_lct = './downloads/e4ftl01.cr.usgs.gov/MOTA/MCD12Q1.006'\n",
    "\n",
    "search_string = \"%(ddir)s/%(year)s.01.01/MCD12Q1.A%(year)s001.h??v??.006.*.hdf\" % dict(\n",
    "        ddir = ddir_lct, year=year)"
   ]
  },
  {
   "cell_type": "code",
   "execution_count": 26,
   "metadata": {},
   "outputs": [
    {
     "name": "stdout",
     "output_type": "stream",
     "text": [
      "found 29 hdf files\n"
     ]
    }
   ],
   "source": [
    "# grab hdf file names\n",
    "fnames = sorted(glob.glob(search_string))\n",
    "print('found %d hdf files' % len(fnames) )"
   ]
  },
  {
   "cell_type": "code",
   "execution_count": 146,
   "metadata": {},
   "outputs": [
    {
     "name": "stdout",
     "output_type": "stream",
     "text": [
      "bname: MCD12Q1.A2012001\n",
      "1 of 77...\n",
      "2 of 77...\n",
      "3 of 77...\n",
      "4 of 77...\n",
      "5 of 77...\n",
      "6 of 77...\n",
      "7 of 77...\n",
      "8 of 77...\n",
      "9 of 77...\n",
      "10 of 77...\n",
      "11 of 77...\n",
      "12 of 77...\n",
      "13 of 77...\n",
      "14 of 77...\n",
      "15 of 77...\n",
      "16 of 77...\n",
      "17 of 77...\n",
      "18 of 77...\n",
      "19 of 77...\n",
      "20 of 77...\n",
      "21 of 77...\n",
      "22 of 77...\n",
      "23 of 77...\n",
      "24 of 77...\n",
      "25 of 77...\n",
      "26 of 77...\n",
      "27 of 77...\n",
      "28 of 77...\n",
      "29 of 77...\n",
      "30 of 77...\n",
      "31 of 77...\n",
      "32 of 77...\n",
      "33 of 77...\n",
      "34 of 77...\n",
      "35 of 77...\n",
      "36 of 77...\n",
      "37 of 77...\n",
      "38 of 77...\n",
      "39 of 77...\n",
      "40 of 77...\n",
      "41 of 77...\n",
      "42 of 77...\n",
      "43 of 77...\n",
      "44 of 77...\n",
      "45 of 77...\n",
      "46 of 77...\n",
      "47 of 77...\n",
      "48 of 77...\n",
      "49 of 77...\n",
      "50 of 77...\n",
      "51 of 77...\n",
      "52 of 77...\n",
      "53 of 77...\n",
      "54 of 77...\n",
      "55 of 77...\n",
      "56 of 77...\n",
      "57 of 77...\n",
      "58 of 77...\n",
      "59 of 77...\n",
      "60 of 77...\n",
      "61 of 77...\n",
      "62 of 77...\n",
      "63 of 77...\n",
      "64 of 77...\n",
      "65 of 77...\n",
      "66 of 77...\n",
      "67 of 77...\n",
      "68 of 77...\n",
      "69 of 77...\n",
      "70 of 77...\n",
      "71 of 77...\n",
      "72 of 77...\n",
      "73 of 77...\n",
      "74 of 77...\n",
      "75 of 77...\n",
      "76 of 77...\n",
      "77 of 77...\n",
      "['shp2pgsql', '-d', '-s', '4326', '-I', 'tmp_skel.shp', 'raster.skel_rst_modlct_2012']\n"
     ]
    }
   ],
   "source": [
    "from importlib import reload\n",
    "reload(rst_import)\n",
    "#rst_import_lct.main(tag_lct, fnames, run_merge=False)\n",
    "rst_import.main(tag_lct, 'lct', fnames, run_merge=False, run_resample=False, run_import=True)"
   ]
  },
  {
   "cell_type": "markdown",
   "metadata": {},
   "source": [
    "## Import vegetation continuous fields"
   ]
  },
  {
   "cell_type": "code",
   "execution_count": 147,
   "metadata": {},
   "outputs": [],
   "source": [
    "ddir = './downloads/e4ftl01.cr.usgs.gov/MOLT/MOD44B.006'\n",
    "\n",
    "search_string = \"%(ddir)s/%(year)s.03.0[56]/MOD44B.A%(year)s065.h??v??.006.*.hdf\" % dict(\n",
    "        ddir = ddir, year=year)\n",
    "\n",
    "# grab hdf file names\n",
    "fnames = sorted(glob.glob(search_string))"
   ]
  },
  {
   "cell_type": "code",
   "execution_count": 157,
   "metadata": {},
   "outputs": [
    {
     "name": "stdout",
     "output_type": "stream",
     "text": [
      "bname: MOD44B.A2012065\n",
      "cmd: gdal_merge.py -separate -o ./proc_modvcf_2012/mrg/MOD44B.A2012065.h07v06.006.2017081170142.tif -co COMPRESS=LZW -co TILED=YES HDF4_EOS:EOS_GRID:\"./downloads/e4ftl01.cr.usgs.gov/MOLT/MOD44B.006/2012.03.05/MOD44B.A2012065.h07v06.006.2017081170142.hdf\":MOD44 ...\n",
      "cmd: gdal_merge.py -separate -o ./proc_modvcf_2012/mrg/MOD44B.A2012065.h07v07.006.2017081170138.tif -co COMPRESS=LZW -co TILED=YES HDF4_EOS:EOS_GRID:\"./downloads/e4ftl01.cr.usgs.gov/MOLT/MOD44B.006/2012.03.05/MOD44B.A2012065.h07v07.006.2017081170138.hdf\":MOD44 ...\n",
      "cmd: gdal_merge.py -separate -o ./proc_modvcf_2012/mrg/MOD44B.A2012065.h08v04.006.2017081160719.tif -co COMPRESS=LZW -co TILED=YES HDF4_EOS:EOS_GRID:\"./downloads/e4ftl01.cr.usgs.gov/MOLT/MOD44B.006/2012.03.05/MOD44B.A2012065.h08v04.006.2017081160719.hdf\":MOD44 ...\n",
      "cmd: gdal_merge.py -separate -o ./proc_modvcf_2012/mrg/MOD44B.A2012065.h08v05.006.2017081160744.tif -co COMPRESS=LZW -co TILED=YES HDF4_EOS:EOS_GRID:\"./downloads/e4ftl01.cr.usgs.gov/MOLT/MOD44B.006/2012.03.05/MOD44B.A2012065.h08v05.006.2017081160744.hdf\":MOD44 ...\n",
      "cmd: gdal_merge.py -separate -o ./proc_modvcf_2012/mrg/MOD44B.A2012065.h08v06.006.2017081170149.tif -co COMPRESS=LZW -co TILED=YES HDF4_EOS:EOS_GRID:\"./downloads/e4ftl01.cr.usgs.gov/MOLT/MOD44B.006/2012.03.05/MOD44B.A2012065.h08v06.006.2017081170149.hdf\":MOD44 ...\n",
      "cmd: gdal_merge.py -separate -o ./proc_modvcf_2012/mrg/MOD44B.A2012065.h08v07.006.2017081170236.tif -co COMPRESS=LZW -co TILED=YES HDF4_EOS:EOS_GRID:\"./downloads/e4ftl01.cr.usgs.gov/MOLT/MOD44B.006/2012.03.05/MOD44B.A2012065.h08v07.006.2017081170236.hdf\":MOD44 ...\n",
      "cmd: gdal_merge.py -separate -o ./proc_modvcf_2012/mrg/MOD44B.A2012065.h09v03.006.2017081170410.tif -co COMPRESS=LZW -co TILED=YES HDF4_EOS:EOS_GRID:\"./downloads/e4ftl01.cr.usgs.gov/MOLT/MOD44B.006/2012.03.05/MOD44B.A2012065.h09v03.006.2017081170410.hdf\":MOD44 ...\n",
      "cmd: gdal_merge.py -separate -o ./proc_modvcf_2012/mrg/MOD44B.A2012065.h09v04.006.2017081160713.tif -co COMPRESS=LZW -co TILED=YES HDF4_EOS:EOS_GRID:\"./downloads/e4ftl01.cr.usgs.gov/MOLT/MOD44B.006/2012.03.05/MOD44B.A2012065.h09v04.006.2017081160713.hdf\":MOD44 ...\n",
      "cmd: gdal_merge.py -separate -o ./proc_modvcf_2012/mrg/MOD44B.A2012065.h09v05.006.2017081160758.tif -co COMPRESS=LZW -co TILED=YES HDF4_EOS:EOS_GRID:\"./downloads/e4ftl01.cr.usgs.gov/MOLT/MOD44B.006/2012.03.05/MOD44B.A2012065.h09v05.006.2017081160758.hdf\":MOD44 ...\n",
      "cmd: gdal_merge.py -separate -o ./proc_modvcf_2012/mrg/MOD44B.A2012065.h09v06.006.2017081170400.tif -co COMPRESS=LZW -co TILED=YES HDF4_EOS:EOS_GRID:\"./downloads/e4ftl01.cr.usgs.gov/MOLT/MOD44B.006/2012.03.05/MOD44B.A2012065.h09v06.006.2017081170400.hdf\":MOD44 ...\n",
      "cmd: gdal_merge.py -separate -o ./proc_modvcf_2012/mrg/MOD44B.A2012065.h09v07.006.2017081165515.tif -co COMPRESS=LZW -co TILED=YES HDF4_EOS:EOS_GRID:\"./downloads/e4ftl01.cr.usgs.gov/MOLT/MOD44B.006/2012.03.05/MOD44B.A2012065.h09v07.006.2017081165515.hdf\":MOD44 ...\n",
      "cmd: gdal_merge.py -separate -o ./proc_modvcf_2012/mrg/MOD44B.A2012065.h10v03.006.2017081170815.tif -co COMPRESS=LZW -co TILED=YES HDF4_EOS:EOS_GRID:\"./downloads/e4ftl01.cr.usgs.gov/MOLT/MOD44B.006/2012.03.05/MOD44B.A2012065.h10v03.006.2017081170815.hdf\":MOD44 ...\n",
      "cmd: gdal_merge.py -separate -o ./proc_modvcf_2012/mrg/MOD44B.A2012065.h10v04.006.2017081160828.tif -co COMPRESS=LZW -co TILED=YES HDF4_EOS:EOS_GRID:\"./downloads/e4ftl01.cr.usgs.gov/MOLT/MOD44B.006/2012.03.05/MOD44B.A2012065.h10v04.006.2017081160828.hdf\":MOD44 ...\n",
      "cmd: gdal_merge.py -separate -o ./proc_modvcf_2012/mrg/MOD44B.A2012065.h10v05.006.2017081160723.tif -co COMPRESS=LZW -co TILED=YES HDF4_EOS:EOS_GRID:\"./downloads/e4ftl01.cr.usgs.gov/MOLT/MOD44B.006/2012.03.05/MOD44B.A2012065.h10v05.006.2017081160723.hdf\":MOD44 ...\n",
      "cmd: gdal_merge.py -separate -o ./proc_modvcf_2012/mrg/MOD44B.A2012065.h10v06.006.2017081160845.tif -co COMPRESS=LZW -co TILED=YES HDF4_EOS:EOS_GRID:\"./downloads/e4ftl01.cr.usgs.gov/MOLT/MOD44B.006/2012.03.05/MOD44B.A2012065.h10v06.006.2017081160845.hdf\":MOD44 ...\n",
      "cmd: gdal_merge.py -separate -o ./proc_modvcf_2012/mrg/MOD44B.A2012065.h10v07.006.2017081170531.tif -co COMPRESS=LZW -co TILED=YES HDF4_EOS:EOS_GRID:\"./downloads/e4ftl01.cr.usgs.gov/MOLT/MOD44B.006/2012.03.05/MOD44B.A2012065.h10v07.006.2017081170531.hdf\":MOD44 ...\n",
      "cmd: gdal_merge.py -separate -o ./proc_modvcf_2012/mrg/MOD44B.A2012065.h11v03.006.2017081160906.tif -co COMPRESS=LZW -co TILED=YES HDF4_EOS:EOS_GRID:\"./downloads/e4ftl01.cr.usgs.gov/MOLT/MOD44B.006/2012.03.05/MOD44B.A2012065.h11v03.006.2017081160906.hdf\":MOD44 ...\n",
      "cmd: gdal_merge.py -separate -o ./proc_modvcf_2012/mrg/MOD44B.A2012065.h11v04.006.2017081160758.tif -co COMPRESS=LZW -co TILED=YES HDF4_EOS:EOS_GRID:\"./downloads/e4ftl01.cr.usgs.gov/MOLT/MOD44B.006/2012.03.05/MOD44B.A2012065.h11v04.006.2017081160758.hdf\":MOD44 ...\n",
      "cmd: gdal_merge.py -separate -o ./proc_modvcf_2012/mrg/MOD44B.A2012065.h11v05.006.2017081160838.tif -co COMPRESS=LZW -co TILED=YES HDF4_EOS:EOS_GRID:\"./downloads/e4ftl01.cr.usgs.gov/MOLT/MOD44B.006/2012.03.05/MOD44B.A2012065.h11v05.006.2017081160838.hdf\":MOD44 ...\n",
      "cmd: gdal_merge.py -separate -o ./proc_modvcf_2012/mrg/MOD44B.A2012065.h11v06.006.2017081170602.tif -co COMPRESS=LZW -co TILED=YES HDF4_EOS:EOS_GRID:\"./downloads/e4ftl01.cr.usgs.gov/MOLT/MOD44B.006/2012.03.05/MOD44B.A2012065.h11v06.006.2017081170602.hdf\":MOD44 ...\n",
      "cmd: gdal_merge.py -separate -o ./proc_modvcf_2012/mrg/MOD44B.A2012065.h11v07.006.2017081170642.tif -co COMPRESS=LZW -co TILED=YES HDF4_EOS:EOS_GRID:\"./downloads/e4ftl01.cr.usgs.gov/MOLT/MOD44B.006/2012.03.05/MOD44B.A2012065.h11v07.006.2017081170642.hdf\":MOD44 ...\n",
      "cmd: gdal_merge.py -separate -o ./proc_modvcf_2012/mrg/MOD44B.A2012065.h12v03.006.2017081160908.tif -co COMPRESS=LZW -co TILED=YES HDF4_EOS:EOS_GRID:\"./downloads/e4ftl01.cr.usgs.gov/MOLT/MOD44B.006/2012.03.05/MOD44B.A2012065.h12v03.006.2017081160908.hdf\":MOD44 ...\n",
      "cmd: gdal_merge.py -separate -o ./proc_modvcf_2012/mrg/MOD44B.A2012065.h12v04.006.2017081160916.tif -co COMPRESS=LZW -co TILED=YES HDF4_EOS:EOS_GRID:\"./downloads/e4ftl01.cr.usgs.gov/MOLT/MOD44B.006/2012.03.05/MOD44B.A2012065.h12v04.006.2017081160916.hdf\":MOD44 ...\n",
      "cmd: gdal_merge.py -separate -o ./proc_modvcf_2012/mrg/MOD44B.A2012065.h12v05.006.2017081160846.tif -co COMPRESS=LZW -co TILED=YES HDF4_EOS:EOS_GRID:\"./downloads/e4ftl01.cr.usgs.gov/MOLT/MOD44B.006/2012.03.05/MOD44B.A2012065.h12v05.006.2017081160846.hdf\":MOD44 ...\n",
      "cmd: gdal_merge.py -separate -o ./proc_modvcf_2012/mrg/MOD44B.A2012065.h12v07.006.2017081170819.tif -co COMPRESS=LZW -co TILED=YES HDF4_EOS:EOS_GRID:\"./downloads/e4ftl01.cr.usgs.gov/MOLT/MOD44B.006/2012.03.05/MOD44B.A2012065.h12v07.006.2017081170819.hdf\":MOD44 ...\n",
      "cmd: gdal_merge.py -separate -o ./proc_modvcf_2012/mrg/MOD44B.A2012065.h13v03.006.2017081171025.tif -co COMPRESS=LZW -co TILED=YES HDF4_EOS:EOS_GRID:\"./downloads/e4ftl01.cr.usgs.gov/MOLT/MOD44B.006/2012.03.05/MOD44B.A2012065.h13v03.006.2017081171025.hdf\":MOD44 ...\n",
      "cmd: gdal_merge.py -separate -o ./proc_modvcf_2012/mrg/MOD44B.A2012065.h13v04.006.2017081171441.tif -co COMPRESS=LZW -co TILED=YES HDF4_EOS:EOS_GRID:\"./downloads/e4ftl01.cr.usgs.gov/MOLT/MOD44B.006/2012.03.05/MOD44B.A2012065.h13v04.006.2017081171441.hdf\":MOD44 ...\n",
      "cmd: gdal_merge.py -separate -o ./proc_modvcf_2012/mrg/MOD44B.A2012065.h14v03.006.2017081171107.tif -co COMPRESS=LZW -co TILED=YES HDF4_EOS:EOS_GRID:\"./downloads/e4ftl01.cr.usgs.gov/MOLT/MOD44B.006/2012.03.05/MOD44B.A2012065.h14v03.006.2017081171107.hdf\":MOD44 ...\n",
      "cmd: gdal_merge.py -separate -o ./proc_modvcf_2012/mrg/MOD44B.A2012065.h14v04.006.2017081171010.tif -co COMPRESS=LZW -co TILED=YES HDF4_EOS:EOS_GRID:\"./downloads/e4ftl01.cr.usgs.gov/MOLT/MOD44B.006/2012.03.05/MOD44B.A2012065.h14v04.006.2017081171010.hdf\":MOD44 ...\n",
      "cmd: gdalwarp -t_srs \"+proj=longlat +datum=WGS84 +no_defs\" -tr 0.00166666666666666666666666666667 0.00166666666666666666666666666667 -te -180 50 -170 60 -overwrite -r average -dstnodata 255 -wo INIT_DEST=NO_DATA -wo NUM_THREADS=ALL_CPUS -co COMPRESS=LZW -co TI ...\n",
      "cmd: gdalwarp -t_srs \"+proj=longlat +datum=WGS84 +no_defs\" -tr 0.00166666666666666666666666666667 0.00166666666666666666666666666667 -te -180 40 -170 50 -overwrite -r average -dstnodata 255 -wo INIT_DEST=NO_DATA -wo NUM_THREADS=ALL_CPUS -co COMPRESS=LZW -co TI ...\n"
     ]
    },
    {
     "name": "stdout",
     "output_type": "stream",
     "text": [
      "cmd: gdalwarp -t_srs \"+proj=longlat +datum=WGS84 +no_defs\" -tr 0.00166666666666666666666666666667 0.00166666666666666666666666666667 -te -180 30 -170 40 -overwrite -r average -dstnodata 255 -wo INIT_DEST=NO_DATA -wo NUM_THREADS=ALL_CPUS -co COMPRESS=LZW -co TI ...\n",
      "cmd: gdalwarp -t_srs \"+proj=longlat +datum=WGS84 +no_defs\" -tr 0.00166666666666666666666666666667 0.00166666666666666666666666666667 -te -180 20 -170 30 -overwrite -r average -dstnodata 255 -wo INIT_DEST=NO_DATA -wo NUM_THREADS=ALL_CPUS -co COMPRESS=LZW -co TI ...\n",
      "cmd: gdalwarp -t_srs \"+proj=longlat +datum=WGS84 +no_defs\" -tr 0.00166666666666666666666666666667 0.00166666666666666666666666666667 -te -180 10 -170 20 -overwrite -r average -dstnodata 255 -wo INIT_DEST=NO_DATA -wo NUM_THREADS=ALL_CPUS -co COMPRESS=LZW -co TI ...\n",
      "cmd: gdalwarp -t_srs \"+proj=longlat +datum=WGS84 +no_defs\" -tr 0.00166666666666666666666666666667 0.00166666666666666666666666666667 -te -170 50 -160 60 -overwrite -r average -dstnodata 255 -wo INIT_DEST=NO_DATA -wo NUM_THREADS=ALL_CPUS -co COMPRESS=LZW -co TI ...\n",
      "cmd: gdalwarp -t_srs \"+proj=longlat +datum=WGS84 +no_defs\" -tr 0.00166666666666666666666666666667 0.00166666666666666666666666666667 -te -170 40 -160 50 -overwrite -r average -dstnodata 255 -wo INIT_DEST=NO_DATA -wo NUM_THREADS=ALL_CPUS -co COMPRESS=LZW -co TI ...\n",
      "cmd: gdalwarp -t_srs \"+proj=longlat +datum=WGS84 +no_defs\" -tr 0.00166666666666666666666666666667 0.00166666666666666666666666666667 -te -170 30 -160 40 -overwrite -r average -dstnodata 255 -wo INIT_DEST=NO_DATA -wo NUM_THREADS=ALL_CPUS -co COMPRESS=LZW -co TI ...\n",
      "cmd: gdalwarp -t_srs \"+proj=longlat +datum=WGS84 +no_defs\" -tr 0.00166666666666666666666666666667 0.00166666666666666666666666666667 -te -170 20 -160 30 -overwrite -r average -dstnodata 255 -wo INIT_DEST=NO_DATA -wo NUM_THREADS=ALL_CPUS -co COMPRESS=LZW -co TI ...\n",
      "cmd: gdalwarp -t_srs \"+proj=longlat +datum=WGS84 +no_defs\" -tr 0.00166666666666666666666666666667 0.00166666666666666666666666666667 -te -170 10 -160 20 -overwrite -r average -dstnodata 255 -wo INIT_DEST=NO_DATA -wo NUM_THREADS=ALL_CPUS -co COMPRESS=LZW -co TI ...\n",
      "cmd: gdalwarp -t_srs \"+proj=longlat +datum=WGS84 +no_defs\" -tr 0.00166666666666666666666666666667 0.00166666666666666666666666666667 -te -160 50 -150 60 -overwrite -r average -dstnodata 255 -wo INIT_DEST=NO_DATA -wo NUM_THREADS=ALL_CPUS -co COMPRESS=LZW -co TI ...\n",
      "cmd: gdalwarp -t_srs \"+proj=longlat +datum=WGS84 +no_defs\" -tr 0.00166666666666666666666666666667 0.00166666666666666666666666666667 -te -160 40 -150 50 -overwrite -r average -dstnodata 255 -wo INIT_DEST=NO_DATA -wo NUM_THREADS=ALL_CPUS -co COMPRESS=LZW -co TI ...\n",
      "cmd: gdalwarp -t_srs \"+proj=longlat +datum=WGS84 +no_defs\" -tr 0.00166666666666666666666666666667 0.00166666666666666666666666666667 -te -160 30 -150 40 -overwrite -r average -dstnodata 255 -wo INIT_DEST=NO_DATA -wo NUM_THREADS=ALL_CPUS -co COMPRESS=LZW -co TI ...\n",
      "cmd: gdalwarp -t_srs \"+proj=longlat +datum=WGS84 +no_defs\" -tr 0.00166666666666666666666666666667 0.00166666666666666666666666666667 -te -160 20 -150 30 -overwrite -r average -dstnodata 255 -wo INIT_DEST=NO_DATA -wo NUM_THREADS=ALL_CPUS -co COMPRESS=LZW -co TI ...\n",
      "cmd: gdalwarp -t_srs \"+proj=longlat +datum=WGS84 +no_defs\" -tr 0.00166666666666666666666666666667 0.00166666666666666666666666666667 -te -160 10 -150 20 -overwrite -r average -dstnodata 255 -wo INIT_DEST=NO_DATA -wo NUM_THREADS=ALL_CPUS -co COMPRESS=LZW -co TI ...\n",
      "cmd: gdalwarp -t_srs \"+proj=longlat +datum=WGS84 +no_defs\" -tr 0.00166666666666666666666666666667 0.00166666666666666666666666666667 -te -150 50 -140 60 -overwrite -r average -dstnodata 255 -wo INIT_DEST=NO_DATA -wo NUM_THREADS=ALL_CPUS -co COMPRESS=LZW -co TI ...\n",
      "cmd: gdalwarp -t_srs \"+proj=longlat +datum=WGS84 +no_defs\" -tr 0.00166666666666666666666666666667 0.00166666666666666666666666666667 -te -150 40 -140 50 -overwrite -r average -dstnodata 255 -wo INIT_DEST=NO_DATA -wo NUM_THREADS=ALL_CPUS -co COMPRESS=LZW -co TI ...\n",
      "cmd: gdalwarp -t_srs \"+proj=longlat +datum=WGS84 +no_defs\" -tr 0.00166666666666666666666666666667 0.00166666666666666666666666666667 -te -150 30 -140 40 -overwrite -r average -dstnodata 255 -wo INIT_DEST=NO_DATA -wo NUM_THREADS=ALL_CPUS -co COMPRESS=LZW -co TI ...\n",
      "cmd: gdalwarp -t_srs \"+proj=longlat +datum=WGS84 +no_defs\" -tr 0.00166666666666666666666666666667 0.00166666666666666666666666666667 -te -150 20 -140 30 -overwrite -r average -dstnodata 255 -wo INIT_DEST=NO_DATA -wo NUM_THREADS=ALL_CPUS -co COMPRESS=LZW -co TI ...\n",
      "cmd: gdalwarp -t_srs \"+proj=longlat +datum=WGS84 +no_defs\" -tr 0.00166666666666666666666666666667 0.00166666666666666666666666666667 -te -150 10 -140 20 -overwrite -r average -dstnodata 255 -wo INIT_DEST=NO_DATA -wo NUM_THREADS=ALL_CPUS -co COMPRESS=LZW -co TI ...\n",
      "cmd: gdalwarp -t_srs \"+proj=longlat +datum=WGS84 +no_defs\" -tr 0.00166666666666666666666666666667 0.00166666666666666666666666666667 -te -140 50 -130 60 -overwrite -r average -dstnodata 255 -wo INIT_DEST=NO_DATA -wo NUM_THREADS=ALL_CPUS -co COMPRESS=LZW -co TI ...\n",
      "cmd: gdalwarp -t_srs \"+proj=longlat +datum=WGS84 +no_defs\" -tr 0.00166666666666666666666666666667 0.00166666666666666666666666666667 -te -140 40 -130 50 -overwrite -r average -dstnodata 255 -wo INIT_DEST=NO_DATA -wo NUM_THREADS=ALL_CPUS -co COMPRESS=LZW -co TI ...\n",
      "cmd: gdalwarp -t_srs \"+proj=longlat +datum=WGS84 +no_defs\" -tr 0.00166666666666666666666666666667 0.00166666666666666666666666666667 -te -140 30 -130 40 -overwrite -r average -dstnodata 255 -wo INIT_DEST=NO_DATA -wo NUM_THREADS=ALL_CPUS -co COMPRESS=LZW -co TI ...\n",
      "cmd: gdalwarp -t_srs \"+proj=longlat +datum=WGS84 +no_defs\" -tr 0.00166666666666666666666666666667 0.00166666666666666666666666666667 -te -140 20 -130 30 -overwrite -r average -dstnodata 255 -wo INIT_DEST=NO_DATA -wo NUM_THREADS=ALL_CPUS -co COMPRESS=LZW -co TI ...\n",
      "cmd: gdalwarp -t_srs \"+proj=longlat +datum=WGS84 +no_defs\" -tr 0.00166666666666666666666666666667 0.00166666666666666666666666666667 -te -140 10 -130 20 -overwrite -r average -dstnodata 255 -wo INIT_DEST=NO_DATA -wo NUM_THREADS=ALL_CPUS -co COMPRESS=LZW -co TI ...\n",
      "cmd: gdalwarp -t_srs \"+proj=longlat +datum=WGS84 +no_defs\" -tr 0.00166666666666666666666666666667 0.00166666666666666666666666666667 -te -130 50 -120 60 -overwrite -r average -dstnodata 255 -wo INIT_DEST=NO_DATA -wo NUM_THREADS=ALL_CPUS -co COMPRESS=LZW -co TI ...\n",
      "cmd: gdalwarp -t_srs \"+proj=longlat +datum=WGS84 +no_defs\" -tr 0.00166666666666666666666666666667 0.00166666666666666666666666666667 -te -130 40 -120 50 -overwrite -r average -dstnodata 255 -wo INIT_DEST=NO_DATA -wo NUM_THREADS=ALL_CPUS -co COMPRESS=LZW -co TI ...\n",
      "cmd: gdalwarp -t_srs \"+proj=longlat +datum=WGS84 +no_defs\" -tr 0.00166666666666666666666666666667 0.00166666666666666666666666666667 -te -130 30 -120 40 -overwrite -r average -dstnodata 255 -wo INIT_DEST=NO_DATA -wo NUM_THREADS=ALL_CPUS -co COMPRESS=LZW -co TI ...\n",
      "cmd: gdalwarp -t_srs \"+proj=longlat +datum=WGS84 +no_defs\" -tr 0.00166666666666666666666666666667 0.00166666666666666666666666666667 -te -130 20 -120 30 -overwrite -r average -dstnodata 255 -wo INIT_DEST=NO_DATA -wo NUM_THREADS=ALL_CPUS -co COMPRESS=LZW -co TI ...\n",
      "cmd: gdalwarp -t_srs \"+proj=longlat +datum=WGS84 +no_defs\" -tr 0.00166666666666666666666666666667 0.00166666666666666666666666666667 -te -130 10 -120 20 -overwrite -r average -dstnodata 255 -wo INIT_DEST=NO_DATA -wo NUM_THREADS=ALL_CPUS -co COMPRESS=LZW -co TI ...\n",
      "cmd: gdalwarp -t_srs \"+proj=longlat +datum=WGS84 +no_defs\" -tr 0.00166666666666666666666666666667 0.00166666666666666666666666666667 -te -120 50 -110 60 -overwrite -r average -dstnodata 255 -wo INIT_DEST=NO_DATA -wo NUM_THREADS=ALL_CPUS -co COMPRESS=LZW -co TI ...\n",
      "cmd: gdalwarp -t_srs \"+proj=longlat +datum=WGS84 +no_defs\" -tr 0.00166666666666666666666666666667 0.00166666666666666666666666666667 -te -120 40 -110 50 -overwrite -r average -dstnodata 255 -wo INIT_DEST=NO_DATA -wo NUM_THREADS=ALL_CPUS -co COMPRESS=LZW -co TI ...\n",
      "cmd: gdalwarp -t_srs \"+proj=longlat +datum=WGS84 +no_defs\" -tr 0.00166666666666666666666666666667 0.00166666666666666666666666666667 -te -120 30 -110 40 -overwrite -r average -dstnodata 255 -wo INIT_DEST=NO_DATA -wo NUM_THREADS=ALL_CPUS -co COMPRESS=LZW -co TI ...\n"
     ]
    },
    {
     "name": "stdout",
     "output_type": "stream",
     "text": [
      "cmd: gdalwarp -t_srs \"+proj=longlat +datum=WGS84 +no_defs\" -tr 0.00166666666666666666666666666667 0.00166666666666666666666666666667 -te -120 20 -110 30 -overwrite -r average -dstnodata 255 -wo INIT_DEST=NO_DATA -wo NUM_THREADS=ALL_CPUS -co COMPRESS=LZW -co TI ...\n",
      "cmd: gdalwarp -t_srs \"+proj=longlat +datum=WGS84 +no_defs\" -tr 0.00166666666666666666666666666667 0.00166666666666666666666666666667 -te -120 10 -110 20 -overwrite -r average -dstnodata 255 -wo INIT_DEST=NO_DATA -wo NUM_THREADS=ALL_CPUS -co COMPRESS=LZW -co TI ...\n",
      "cmd: gdalwarp -t_srs \"+proj=longlat +datum=WGS84 +no_defs\" -tr 0.00166666666666666666666666666667 0.00166666666666666666666666666667 -te -120 0 -110 10 -overwrite -r average -dstnodata 255 -wo INIT_DEST=NO_DATA -wo NUM_THREADS=ALL_CPUS -co COMPRESS=LZW -co TIL ...\n",
      "cmd: gdalwarp -t_srs \"+proj=longlat +datum=WGS84 +no_defs\" -tr 0.00166666666666666666666666666667 0.00166666666666666666666666666667 -te -110 50 -100 60 -overwrite -r average -dstnodata 255 -wo INIT_DEST=NO_DATA -wo NUM_THREADS=ALL_CPUS -co COMPRESS=LZW -co TI ...\n",
      "cmd: gdalwarp -t_srs \"+proj=longlat +datum=WGS84 +no_defs\" -tr 0.00166666666666666666666666666667 0.00166666666666666666666666666667 -te -110 40 -100 50 -overwrite -r average -dstnodata 255 -wo INIT_DEST=NO_DATA -wo NUM_THREADS=ALL_CPUS -co COMPRESS=LZW -co TI ...\n",
      "cmd: gdalwarp -t_srs \"+proj=longlat +datum=WGS84 +no_defs\" -tr 0.00166666666666666666666666666667 0.00166666666666666666666666666667 -te -110 30 -100 40 -overwrite -r average -dstnodata 255 -wo INIT_DEST=NO_DATA -wo NUM_THREADS=ALL_CPUS -co COMPRESS=LZW -co TI ...\n",
      "cmd: gdalwarp -t_srs \"+proj=longlat +datum=WGS84 +no_defs\" -tr 0.00166666666666666666666666666667 0.00166666666666666666666666666667 -te -110 20 -100 30 -overwrite -r average -dstnodata 255 -wo INIT_DEST=NO_DATA -wo NUM_THREADS=ALL_CPUS -co COMPRESS=LZW -co TI ...\n",
      "cmd: gdalwarp -t_srs \"+proj=longlat +datum=WGS84 +no_defs\" -tr 0.00166666666666666666666666666667 0.00166666666666666666666666666667 -te -110 10 -100 20 -overwrite -r average -dstnodata 255 -wo INIT_DEST=NO_DATA -wo NUM_THREADS=ALL_CPUS -co COMPRESS=LZW -co TI ...\n",
      "cmd: gdalwarp -t_srs \"+proj=longlat +datum=WGS84 +no_defs\" -tr 0.00166666666666666666666666666667 0.00166666666666666666666666666667 -te -110 0 -100 10 -overwrite -r average -dstnodata 255 -wo INIT_DEST=NO_DATA -wo NUM_THREADS=ALL_CPUS -co COMPRESS=LZW -co TIL ...\n",
      "cmd: gdalwarp -t_srs \"+proj=longlat +datum=WGS84 +no_defs\" -tr 0.00166666666666666666666666666667 0.00166666666666666666666666666667 -te -100 50 -90 60 -overwrite -r average -dstnodata 255 -wo INIT_DEST=NO_DATA -wo NUM_THREADS=ALL_CPUS -co COMPRESS=LZW -co TIL ...\n",
      "cmd: gdalwarp -t_srs \"+proj=longlat +datum=WGS84 +no_defs\" -tr 0.00166666666666666666666666666667 0.00166666666666666666666666666667 -te -100 40 -90 50 -overwrite -r average -dstnodata 255 -wo INIT_DEST=NO_DATA -wo NUM_THREADS=ALL_CPUS -co COMPRESS=LZW -co TIL ...\n",
      "cmd: gdalwarp -t_srs \"+proj=longlat +datum=WGS84 +no_defs\" -tr 0.00166666666666666666666666666667 0.00166666666666666666666666666667 -te -100 30 -90 40 -overwrite -r average -dstnodata 255 -wo INIT_DEST=NO_DATA -wo NUM_THREADS=ALL_CPUS -co COMPRESS=LZW -co TIL ...\n",
      "cmd: gdalwarp -t_srs \"+proj=longlat +datum=WGS84 +no_defs\" -tr 0.00166666666666666666666666666667 0.00166666666666666666666666666667 -te -100 20 -90 30 -overwrite -r average -dstnodata 255 -wo INIT_DEST=NO_DATA -wo NUM_THREADS=ALL_CPUS -co COMPRESS=LZW -co TIL ...\n",
      "cmd: gdalwarp -t_srs \"+proj=longlat +datum=WGS84 +no_defs\" -tr 0.00166666666666666666666666666667 0.00166666666666666666666666666667 -te -100 10 -90 20 -overwrite -r average -dstnodata 255 -wo INIT_DEST=NO_DATA -wo NUM_THREADS=ALL_CPUS -co COMPRESS=LZW -co TIL ...\n",
      "cmd: gdalwarp -t_srs \"+proj=longlat +datum=WGS84 +no_defs\" -tr 0.00166666666666666666666666666667 0.00166666666666666666666666666667 -te -100 0 -90 10 -overwrite -r average -dstnodata 255 -wo INIT_DEST=NO_DATA -wo NUM_THREADS=ALL_CPUS -co COMPRESS=LZW -co TILE ...\n",
      "cmd: gdalwarp -t_srs \"+proj=longlat +datum=WGS84 +no_defs\" -tr 0.00166666666666666666666666666667 0.00166666666666666666666666666667 -te -90 50 -80 60 -overwrite -r average -dstnodata 255 -wo INIT_DEST=NO_DATA -wo NUM_THREADS=ALL_CPUS -co COMPRESS=LZW -co TILE ...\n",
      "cmd: gdalwarp -t_srs \"+proj=longlat +datum=WGS84 +no_defs\" -tr 0.00166666666666666666666666666667 0.00166666666666666666666666666667 -te -90 40 -80 50 -overwrite -r average -dstnodata 255 -wo INIT_DEST=NO_DATA -wo NUM_THREADS=ALL_CPUS -co COMPRESS=LZW -co TILE ...\n",
      "cmd: gdalwarp -t_srs \"+proj=longlat +datum=WGS84 +no_defs\" -tr 0.00166666666666666666666666666667 0.00166666666666666666666666666667 -te -90 30 -80 40 -overwrite -r average -dstnodata 255 -wo INIT_DEST=NO_DATA -wo NUM_THREADS=ALL_CPUS -co COMPRESS=LZW -co TILE ...\n",
      "cmd: gdalwarp -t_srs \"+proj=longlat +datum=WGS84 +no_defs\" -tr 0.00166666666666666666666666666667 0.00166666666666666666666666666667 -te -90 20 -80 30 -overwrite -r average -dstnodata 255 -wo INIT_DEST=NO_DATA -wo NUM_THREADS=ALL_CPUS -co COMPRESS=LZW -co TILE ...\n",
      "cmd: gdalwarp -t_srs \"+proj=longlat +datum=WGS84 +no_defs\" -tr 0.00166666666666666666666666666667 0.00166666666666666666666666666667 -te -90 10 -80 20 -overwrite -r average -dstnodata 255 -wo INIT_DEST=NO_DATA -wo NUM_THREADS=ALL_CPUS -co COMPRESS=LZW -co TILE ...\n",
      "cmd: gdalwarp -t_srs \"+proj=longlat +datum=WGS84 +no_defs\" -tr 0.00166666666666666666666666666667 0.00166666666666666666666666666667 -te -90 0 -80 10 -overwrite -r average -dstnodata 255 -wo INIT_DEST=NO_DATA -wo NUM_THREADS=ALL_CPUS -co COMPRESS=LZW -co TILED ...\n",
      "cmd: gdalwarp -t_srs \"+proj=longlat +datum=WGS84 +no_defs\" -tr 0.00166666666666666666666666666667 0.00166666666666666666666666666667 -te -80 50 -70 60 -overwrite -r average -dstnodata 255 -wo INIT_DEST=NO_DATA -wo NUM_THREADS=ALL_CPUS -co COMPRESS=LZW -co TILE ...\n",
      "cmd: gdalwarp -t_srs \"+proj=longlat +datum=WGS84 +no_defs\" -tr 0.00166666666666666666666666666667 0.00166666666666666666666666666667 -te -80 40 -70 50 -overwrite -r average -dstnodata 255 -wo INIT_DEST=NO_DATA -wo NUM_THREADS=ALL_CPUS -co COMPRESS=LZW -co TILE ...\n",
      "cmd: gdalwarp -t_srs \"+proj=longlat +datum=WGS84 +no_defs\" -tr 0.00166666666666666666666666666667 0.00166666666666666666666666666667 -te -80 30 -70 40 -overwrite -r average -dstnodata 255 -wo INIT_DEST=NO_DATA -wo NUM_THREADS=ALL_CPUS -co COMPRESS=LZW -co TILE ...\n",
      "cmd: gdalwarp -t_srs \"+proj=longlat +datum=WGS84 +no_defs\" -tr 0.00166666666666666666666666666667 0.00166666666666666666666666666667 -te -80 20 -70 30 -overwrite -r average -dstnodata 255 -wo INIT_DEST=NO_DATA -wo NUM_THREADS=ALL_CPUS -co COMPRESS=LZW -co TILE ...\n",
      "cmd: gdalwarp -t_srs \"+proj=longlat +datum=WGS84 +no_defs\" -tr 0.00166666666666666666666666666667 0.00166666666666666666666666666667 -te -80 10 -70 20 -overwrite -r average -dstnodata 255 -wo INIT_DEST=NO_DATA -wo NUM_THREADS=ALL_CPUS -co COMPRESS=LZW -co TILE ...\n",
      "cmd: gdalwarp -t_srs \"+proj=longlat +datum=WGS84 +no_defs\" -tr 0.00166666666666666666666666666667 0.00166666666666666666666666666667 -te -80 0 -70 10 -overwrite -r average -dstnodata 255 -wo INIT_DEST=NO_DATA -wo NUM_THREADS=ALL_CPUS -co COMPRESS=LZW -co TILED ...\n",
      "cmd: gdalwarp -t_srs \"+proj=longlat +datum=WGS84 +no_defs\" -tr 0.00166666666666666666666666666667 0.00166666666666666666666666666667 -te -70 50 -60 60 -overwrite -r average -dstnodata 255 -wo INIT_DEST=NO_DATA -wo NUM_THREADS=ALL_CPUS -co COMPRESS=LZW -co TILE ...\n",
      "cmd: gdalwarp -t_srs \"+proj=longlat +datum=WGS84 +no_defs\" -tr 0.00166666666666666666666666666667 0.00166666666666666666666666666667 -te -70 40 -60 50 -overwrite -r average -dstnodata 255 -wo INIT_DEST=NO_DATA -wo NUM_THREADS=ALL_CPUS -co COMPRESS=LZW -co TILE ...\n",
      "cmd: gdalwarp -t_srs \"+proj=longlat +datum=WGS84 +no_defs\" -tr 0.00166666666666666666666666666667 0.00166666666666666666666666666667 -te -70 30 -60 40 -overwrite -r average -dstnodata 255 -wo INIT_DEST=NO_DATA -wo NUM_THREADS=ALL_CPUS -co COMPRESS=LZW -co TILE ...\n",
      "cmd: gdalwarp -t_srs \"+proj=longlat +datum=WGS84 +no_defs\" -tr 0.00166666666666666666666666666667 0.00166666666666666666666666666667 -te -70 20 -60 30 -overwrite -r average -dstnodata 255 -wo INIT_DEST=NO_DATA -wo NUM_THREADS=ALL_CPUS -co COMPRESS=LZW -co TILE ...\n"
     ]
    },
    {
     "name": "stdout",
     "output_type": "stream",
     "text": [
      "cmd: gdalwarp -t_srs \"+proj=longlat +datum=WGS84 +no_defs\" -tr 0.00166666666666666666666666666667 0.00166666666666666666666666666667 -te -70 10 -60 20 -overwrite -r average -dstnodata 255 -wo INIT_DEST=NO_DATA -wo NUM_THREADS=ALL_CPUS -co COMPRESS=LZW -co TILE ...\n",
      "cmd: gdalwarp -t_srs \"+proj=longlat +datum=WGS84 +no_defs\" -tr 0.00166666666666666666666666666667 0.00166666666666666666666666666667 -te -70 0 -60 10 -overwrite -r average -dstnodata 255 -wo INIT_DEST=NO_DATA -wo NUM_THREADS=ALL_CPUS -co COMPRESS=LZW -co TILED ...\n",
      "cmd: gdalwarp -t_srs \"+proj=longlat +datum=WGS84 +no_defs\" -tr 0.00166666666666666666666666666667 0.00166666666666666666666666666667 -te -60 50 -50 60 -overwrite -r average -dstnodata 255 -wo INIT_DEST=NO_DATA -wo NUM_THREADS=ALL_CPUS -co COMPRESS=LZW -co TILE ...\n",
      "cmd: gdalwarp -t_srs \"+proj=longlat +datum=WGS84 +no_defs\" -tr 0.00166666666666666666666666666667 0.00166666666666666666666666666667 -te -60 40 -50 50 -overwrite -r average -dstnodata 255 -wo INIT_DEST=NO_DATA -wo NUM_THREADS=ALL_CPUS -co COMPRESS=LZW -co TILE ...\n",
      "cmd: gdalwarp -t_srs \"+proj=longlat +datum=WGS84 +no_defs\" -tr 0.00166666666666666666666666666667 0.00166666666666666666666666666667 -te -60 30 -50 40 -overwrite -r average -dstnodata 255 -wo INIT_DEST=NO_DATA -wo NUM_THREADS=ALL_CPUS -co COMPRESS=LZW -co TILE ...\n",
      "cmd: gdalwarp -t_srs \"+proj=longlat +datum=WGS84 +no_defs\" -tr 0.00166666666666666666666666666667 0.00166666666666666666666666666667 -te -60 20 -50 30 -overwrite -r average -dstnodata 255 -wo INIT_DEST=NO_DATA -wo NUM_THREADS=ALL_CPUS -co COMPRESS=LZW -co TILE ...\n",
      "cmd: gdalwarp -t_srs \"+proj=longlat +datum=WGS84 +no_defs\" -tr 0.00166666666666666666666666666667 0.00166666666666666666666666666667 -te -60 10 -50 20 -overwrite -r average -dstnodata 255 -wo INIT_DEST=NO_DATA -wo NUM_THREADS=ALL_CPUS -co COMPRESS=LZW -co TILE ...\n",
      "cmd: gdalwarp -t_srs \"+proj=longlat +datum=WGS84 +no_defs\" -tr 0.00166666666666666666666666666667 0.00166666666666666666666666666667 -te -60 0 -50 10 -overwrite -r average -dstnodata 255 -wo INIT_DEST=NO_DATA -wo NUM_THREADS=ALL_CPUS -co COMPRESS=LZW -co TILED ...\n",
      "cmd: gdalwarp -t_srs \"+proj=longlat +datum=WGS84 +no_defs\" -tr 0.00166666666666666666666666666667 0.00166666666666666666666666666667 -te -50 50 -40 60 -overwrite -r average -dstnodata 255 -wo INIT_DEST=NO_DATA -wo NUM_THREADS=ALL_CPUS -co COMPRESS=LZW -co TILE ...\n",
      "cmd: gdalwarp -t_srs \"+proj=longlat +datum=WGS84 +no_defs\" -tr 0.00166666666666666666666666666667 0.00166666666666666666666666666667 -te -50 40 -40 50 -overwrite -r average -dstnodata 255 -wo INIT_DEST=NO_DATA -wo NUM_THREADS=ALL_CPUS -co COMPRESS=LZW -co TILE ...\n",
      "cmd: gdalwarp -t_srs \"+proj=longlat +datum=WGS84 +no_defs\" -tr 0.00166666666666666666666666666667 0.00166666666666666666666666666667 -te -50 30 -40 40 -overwrite -r average -dstnodata 255 -wo INIT_DEST=NO_DATA -wo NUM_THREADS=ALL_CPUS -co COMPRESS=LZW -co TILE ...\n",
      "cmd: gdalwarp -t_srs \"+proj=longlat +datum=WGS84 +no_defs\" -tr 0.00166666666666666666666666666667 0.00166666666666666666666666666667 -te -40 40 -30 50 -overwrite -r average -dstnodata 255 -wo INIT_DEST=NO_DATA -wo NUM_THREADS=ALL_CPUS -co COMPRESS=LZW -co TILE ...\n",
      "cmd: gdalwarp -t_srs \"+proj=longlat +datum=WGS84 +no_defs\" -tr 0.00166666666666666666666666666667 0.00166666666666666666666666666667 -te -40 30 -30 40 -overwrite -r average -dstnodata 255 -wo INIT_DEST=NO_DATA -wo NUM_THREADS=ALL_CPUS -co COMPRESS=LZW -co TILE ...\n",
      "1 of 77...\n",
      "2 of 77...\n",
      "3 of 77...\n",
      "4 of 77...\n",
      "5 of 77...\n",
      "6 of 77...\n",
      "7 of 77...\n",
      "8 of 77...\n",
      "9 of 77...\n",
      "10 of 77...\n",
      "11 of 77...\n",
      "12 of 77...\n",
      "13 of 77...\n",
      "14 of 77...\n",
      "15 of 77...\n",
      "16 of 77...\n",
      "17 of 77...\n",
      "18 of 77...\n",
      "19 of 77...\n",
      "20 of 77...\n",
      "21 of 77...\n",
      "22 of 77...\n",
      "23 of 77...\n",
      "24 of 77...\n",
      "25 of 77...\n",
      "26 of 77...\n",
      "27 of 77...\n",
      "28 of 77...\n",
      "29 of 77...\n",
      "30 of 77...\n",
      "31 of 77...\n",
      "32 of 77...\n",
      "33 of 77...\n",
      "34 of 77...\n",
      "35 of 77...\n",
      "36 of 77...\n",
      "37 of 77...\n",
      "38 of 77...\n",
      "39 of 77...\n",
      "40 of 77...\n",
      "41 of 77...\n",
      "42 of 77...\n",
      "43 of 77...\n",
      "44 of 77...\n",
      "45 of 77...\n",
      "46 of 77...\n",
      "47 of 77...\n",
      "48 of 77...\n",
      "49 of 77...\n",
      "50 of 77...\n",
      "51 of 77...\n",
      "52 of 77...\n",
      "53 of 77...\n",
      "54 of 77...\n",
      "55 of 77...\n",
      "56 of 77...\n",
      "57 of 77...\n",
      "58 of 77...\n",
      "59 of 77...\n",
      "60 of 77...\n",
      "61 of 77...\n",
      "62 of 77...\n",
      "63 of 77...\n",
      "64 of 77...\n",
      "65 of 77...\n",
      "66 of 77...\n",
      "67 of 77...\n",
      "68 of 77...\n",
      "69 of 77...\n",
      "70 of 77...\n",
      "71 of 77...\n",
      "72 of 77...\n",
      "73 of 77...\n",
      "74 of 77...\n",
      "75 of 77...\n",
      "76 of 77...\n",
      "77 of 77...\n",
      "['shp2pgsql', '-d', '-s', '4326', '-I', 'tmp_skel.shp', 'raster.skel_rst_modvcf_2012']\n"
     ]
    }
   ],
   "source": [
    "from importlib import reload\n",
    "reload(rst_import)\n",
    "rst_import.main(tag_vcf, 'vcf', fnames)"
   ]
  },
  {
   "cell_type": "markdown",
   "metadata": {},
   "source": [
    "## Import countries of the world shapefile"
   ]
  },
  {
   "cell_type": "code",
   "execution_count": 158,
   "metadata": {},
   "outputs": [],
   "source": [
    "if not os.path.exists('all_countries/All_Countries.shp'):\n",
    "    subprocess.run(shlex.split('wget https://s3-us-west-2.amazonaws.com/earthlab-finn/All_Countries.zip'))\n",
    "    subprocess.run(shlex.split('unzip All_Countries.zip -d all_countries'))\n",
    "    subprocess.run(['rm', 'All_Countries.zip'])"
   ]
  },
  {
   "cell_type": "code",
   "execution_count": 159,
   "metadata": {},
   "outputs": [
    {
     "name": "stdout",
     "output_type": "stream",
     "text": [
      "['shp2pgsql', '-d', '-c', '-s', '4326', '-I', 'all_countries/All_Countries.shp', 'raster.rst_regnum']\n",
      "(None, None)\n"
     ]
    }
   ],
   "source": [
    "polygon_import.main('regnum')"
   ]
  },
  {
   "cell_type": "markdown",
   "metadata": {},
   "source": [
    "## Import active fire data"
   ]
  },
  {
   "cell_type": "code",
   "execution_count": 160,
   "metadata": {},
   "outputs": [],
   "source": [
    "dt0 = datetime.date(year, 1, 1)\n",
    "dt1 = datetime.date(year+1, 1, 1)\n"
   ]
  },
  {
   "cell_type": "code",
   "execution_count": 161,
   "metadata": {},
   "outputs": [
    {
     "name": "stdout",
     "output_type": "stream",
     "text": [
      "psql -c \"CREATE SCHEMA af_mod_na_2012;\"\n",
      "\n",
      "cmd:\n",
      "ogr2ogr -progress -f PostgreSQL -overwrite PG:dbname='gis' -lco SPATIAL_INDEX=GIST -lco SCHEMA=af_mod_na_2012 -lco GEOMETRY_NAME=geom -lco FID=gid -nln af_in downloads/firms/mod_na_2012/fire_archive_M6_34602.shp\n",
      "\n",
      "['ogr2ogr', '-progress', '-f', 'PostgreSQL', '-overwrite', \"PG:dbname='gis'\", '-lco', 'SPATIAL_INDEX=GIST', '-lco', 'SCHEMA=af_mod_na_2012', '-lco', 'GEOMETRY_NAME=geom', '-lco', 'FID=gid', '-nln', 'af_in', 'downloads/firms/mod_na_2012/fire_archive_M6_34602.shp']\n"
     ]
    }
   ],
   "source": [
    "from importlib import reload\n",
    "reload(af_import)\n",
    "af_import.main(tag_af, af_fnames)"
   ]
  },
  {
   "cell_type": "markdown",
   "metadata": {},
   "source": [
    "## Running \"step 1\" grouping points"
   ]
  },
  {
   "cell_type": "code",
   "execution_count": 162,
   "metadata": {
    "scrolled": false
   },
   "outputs": [
    {
     "name": "stdout",
     "output_type": "stream",
     "text": [
      "starting prep: 2019-01-05 00:14:33.771083\n",
      "starting work 2012-01-01: 2019-01-05 00:14:34.293706\n",
      "starting work 2012-01-02: 2019-01-05 00:14:34.599112\n",
      "starting work 2012-01-03: 2019-01-05 00:14:34.817371\n",
      "starting work 2012-01-04: 2019-01-05 00:14:35.063956\n",
      "starting work 2012-01-05: 2019-01-05 00:14:35.225865\n",
      "starting work 2012-01-06: 2019-01-05 00:14:35.443507\n",
      "starting work 2012-01-07: 2019-01-05 00:14:35.600432\n",
      "starting work 2012-01-08: 2019-01-05 00:14:35.800524\n",
      "starting work 2012-01-09: 2019-01-05 00:14:35.948733\n",
      "starting work 2012-01-10: 2019-01-05 00:14:36.174432\n",
      "starting work 2012-01-11: 2019-01-05 00:14:36.328936\n",
      "starting work 2012-01-12: 2019-01-05 00:14:36.538404\n",
      "starting work 2012-01-13: 2019-01-05 00:14:36.813153\n",
      "starting work 2012-01-14: 2019-01-05 00:14:37.109943\n",
      "starting work 2012-01-15: 2019-01-05 00:14:37.363470\n",
      "starting work 2012-01-16: 2019-01-05 00:14:37.612090\n",
      "starting work 2012-01-17: 2019-01-05 00:14:37.841301\n",
      "starting work 2012-01-18: 2019-01-05 00:14:38.104331\n",
      "starting work 2012-01-19: 2019-01-05 00:14:38.300252\n",
      "starting work 2012-01-20: 2019-01-05 00:14:38.542232\n",
      "starting work 2012-01-21: 2019-01-05 00:14:38.744886\n",
      "starting work 2012-01-22: 2019-01-05 00:14:38.966781\n",
      "starting work 2012-01-23: 2019-01-05 00:14:39.199283\n",
      "starting work 2012-01-24: 2019-01-05 00:14:39.392895\n",
      "starting work 2012-01-25: 2019-01-05 00:14:39.627610\n",
      "starting work 2012-01-26: 2019-01-05 00:14:39.793917\n",
      "starting work 2012-01-27: 2019-01-05 00:14:39.951773\n",
      "starting work 2012-01-28: 2019-01-05 00:14:40.079880\n",
      "starting work 2012-01-29: 2019-01-05 00:14:40.191291\n",
      "starting work 2012-01-30: 2019-01-05 00:14:40.397629\n",
      "starting work 2012-01-31: 2019-01-05 00:14:40.738063\n",
      "starting work 2012-02-01: 2019-01-05 00:14:41.074653\n",
      "starting work 2012-02-02: 2019-01-05 00:14:41.497857\n",
      "starting work 2012-02-03: 2019-01-05 00:14:41.883941\n",
      "starting work 2012-02-04: 2019-01-05 00:14:42.254632\n",
      "starting work 2012-02-05: 2019-01-05 00:14:42.483683\n",
      "starting work 2012-02-06: 2019-01-05 00:14:42.755425\n",
      "starting work 2012-02-07: 2019-01-05 00:14:42.972135\n",
      "starting work 2012-02-08: 2019-01-05 00:14:43.192081\n",
      "starting work 2012-02-09: 2019-01-05 00:14:43.376863\n",
      "starting work 2012-02-10: 2019-01-05 00:14:43.621854\n",
      "starting work 2012-02-11: 2019-01-05 00:14:43.856543\n",
      "starting work 2012-02-12: 2019-01-05 00:14:44.193957\n",
      "starting work 2012-02-13: 2019-01-05 00:14:44.516920\n",
      "starting work 2012-02-14: 2019-01-05 00:14:44.849406\n",
      "starting work 2012-02-15: 2019-01-05 00:14:45.174903\n",
      "starting work 2012-02-16: 2019-01-05 00:14:45.443531\n",
      "starting work 2012-02-17: 2019-01-05 00:14:45.752587\n",
      "starting work 2012-02-18: 2019-01-05 00:14:45.993246\n",
      "starting work 2012-02-19: 2019-01-05 00:14:46.210784\n",
      "starting work 2012-02-20: 2019-01-05 00:14:46.452064\n",
      "starting work 2012-02-21: 2019-01-05 00:14:46.606183\n",
      "starting work 2012-02-22: 2019-01-05 00:14:46.836433\n",
      "starting work 2012-02-23: 2019-01-05 00:14:47.134159\n",
      "starting work 2012-02-24: 2019-01-05 00:14:47.563884\n",
      "starting work 2012-02-25: 2019-01-05 00:14:47.867832\n",
      "starting work 2012-02-26: 2019-01-05 00:14:48.320686\n",
      "starting work 2012-02-27: 2019-01-05 00:14:48.619823\n",
      "starting work 2012-02-28: 2019-01-05 00:14:48.942348\n",
      "starting work 2012-02-29: 2019-01-05 00:14:49.121885\n",
      "starting work 2012-03-01: 2019-01-05 00:14:49.377683\n",
      "starting work 2012-03-02: 2019-01-05 00:14:49.600749\n",
      "starting work 2012-03-03: 2019-01-05 00:14:49.832583\n",
      "starting work 2012-03-04: 2019-01-05 00:14:50.013757\n",
      "starting work 2012-03-05: 2019-01-05 00:14:50.216151\n",
      "starting work 2012-03-06: 2019-01-05 00:14:50.387138\n",
      "starting work 2012-03-07: 2019-01-05 00:14:50.599716\n",
      "starting work 2012-03-08: 2019-01-05 00:14:50.768803\n",
      "starting work 2012-03-09: 2019-01-05 00:14:50.985563\n",
      "starting work 2012-03-10: 2019-01-05 00:14:51.131592\n",
      "starting work 2012-03-11: 2019-01-05 00:14:51.366125\n",
      "starting work 2012-03-12: 2019-01-05 00:14:51.551292\n",
      "starting work 2012-03-13: 2019-01-05 00:14:51.818263\n",
      "starting work 2012-03-14: 2019-01-05 00:14:52.033514\n",
      "starting work 2012-03-15: 2019-01-05 00:14:52.340226\n",
      "starting work 2012-03-16: 2019-01-05 00:14:52.646242\n",
      "starting work 2012-03-17: 2019-01-05 00:14:52.919663\n",
      "starting work 2012-03-18: 2019-01-05 00:14:53.192745\n",
      "starting work 2012-03-19: 2019-01-05 00:14:53.479609\n",
      "starting work 2012-03-20: 2019-01-05 00:14:53.761587\n",
      "starting work 2012-03-21: 2019-01-05 00:14:54.093976\n",
      "starting work 2012-03-22: 2019-01-05 00:14:54.498175\n",
      "starting work 2012-03-23: 2019-01-05 00:14:54.772282\n",
      "starting work 2012-03-24: 2019-01-05 00:14:55.132742\n",
      "starting work 2012-03-25: 2019-01-05 00:14:55.664630\n",
      "starting work 2012-03-26: 2019-01-05 00:14:55.882439\n",
      "starting work 2012-03-27: 2019-01-05 00:14:56.147942\n",
      "starting work 2012-03-28: 2019-01-05 00:14:56.320482\n",
      "starting work 2012-03-29: 2019-01-05 00:14:56.602865\n",
      "starting work 2012-03-30: 2019-01-05 00:14:56.891387\n",
      "starting work 2012-03-31: 2019-01-05 00:14:57.104911\n",
      "starting work 2012-04-01: 2019-01-05 00:14:57.319089\n",
      "starting work 2012-04-02: 2019-01-05 00:14:57.464595\n",
      "starting work 2012-04-03: 2019-01-05 00:14:57.694263\n",
      "starting work 2012-04-04: 2019-01-05 00:14:57.858503\n",
      "starting work 2012-04-05: 2019-01-05 00:14:58.123163\n",
      "starting work 2012-04-06: 2019-01-05 00:14:58.293249\n",
      "starting work 2012-04-07: 2019-01-05 00:14:58.519001\n",
      "starting work 2012-04-08: 2019-01-05 00:14:58.683043\n",
      "starting work 2012-04-09: 2019-01-05 00:14:58.888775\n",
      "starting work 2012-04-10: 2019-01-05 00:14:59.168292\n",
      "starting work 2012-04-11: 2019-01-05 00:14:59.425456\n",
      "starting work 2012-04-12: 2019-01-05 00:14:59.713400\n",
      "starting work 2012-04-13: 2019-01-05 00:14:59.961207\n",
      "starting work 2012-04-14: 2019-01-05 00:15:00.304588\n",
      "starting work 2012-04-15: 2019-01-05 00:15:00.522075\n",
      "starting work 2012-04-16: 2019-01-05 00:15:00.727356\n",
      "starting work 2012-04-17: 2019-01-05 00:15:00.883065\n",
      "starting work 2012-04-18: 2019-01-05 00:15:01.142859\n",
      "starting work 2012-04-19: 2019-01-05 00:15:01.339824\n",
      "starting work 2012-04-20: 2019-01-05 00:15:01.598472\n",
      "starting work 2012-04-21: 2019-01-05 00:15:01.808739\n",
      "starting work 2012-04-22: 2019-01-05 00:15:02.050542\n",
      "starting work 2012-04-23: 2019-01-05 00:15:02.204534\n",
      "starting work 2012-04-24: 2019-01-05 00:15:02.479156\n",
      "starting work 2012-04-25: 2019-01-05 00:15:02.722891\n",
      "starting work 2012-04-26: 2019-01-05 00:15:02.973934\n",
      "starting work 2012-04-27: 2019-01-05 00:15:03.239180\n",
      "starting work 2012-04-28: 2019-01-05 00:15:03.541640\n",
      "starting work 2012-04-29: 2019-01-05 00:15:03.889832\n",
      "starting work 2012-04-30: 2019-01-05 00:15:04.189412\n",
      "starting work 2012-05-01: 2019-01-05 00:15:04.536785\n",
      "starting work 2012-05-02: 2019-01-05 00:15:04.774326\n"
     ]
    },
    {
     "ename": "KeyboardInterrupt",
     "evalue": "",
     "output_type": "error",
     "traceback": [
      "\u001b[0;31m---------------------------------------------------------------------------\u001b[0m",
      "\u001b[0;31mKeyboardInterrupt\u001b[0m                         Traceback (most recent call last)",
      "\u001b[0;32m<ipython-input-162-db9db7c74a85>\u001b[0m in \u001b[0;36m<module>\u001b[0;34m\u001b[0m\n\u001b[0;32m----> 1\u001b[0;31m \u001b[0mrun_step1\u001b[0m\u001b[0;34m.\u001b[0m\u001b[0mmain\u001b[0m\u001b[0;34m(\u001b[0m\u001b[0mtag_af\u001b[0m\u001b[0;34m,\u001b[0m \u001b[0mdt0\u001b[0m\u001b[0;34m,\u001b[0m \u001b[0mdt1\u001b[0m\u001b[0;34m,\u001b[0m \u001b[0mver\u001b[0m\u001b[0;34m=\u001b[0m\u001b[0;34m'v7m'\u001b[0m\u001b[0;34m)\u001b[0m\u001b[0;34m\u001b[0m\u001b[0m\n\u001b[0m",
      "\u001b[0;32m/home/finn/code_anaconda/run_step1.py\u001b[0m in \u001b[0;36mmain\u001b[0;34m(tag, dt0, dt1, vorimp, gt, buf0, ver)\u001b[0m\n\u001b[1;32m     67\u001b[0m         cmd = \" \".join(['psql',] + ['-f', ('step1_work_%s.sql' % ver)] + \n\u001b[1;32m     68\u001b[0m                        ['-v', (\"tag=%s\" % tag)] + ['-v', (\"oned='%s'\" % dt.strftime('%Y-%m-%d'))])\n\u001b[0;32m---> 69\u001b[0;31m         \u001b[0msubprocess\u001b[0m\u001b[0;34m.\u001b[0m\u001b[0mrun\u001b[0m\u001b[0;34m(\u001b[0m\u001b[0mshlex\u001b[0m\u001b[0;34m.\u001b[0m\u001b[0msplit\u001b[0m\u001b[0;34m(\u001b[0m\u001b[0mcmd\u001b[0m\u001b[0;34m)\u001b[0m\u001b[0;34m)\u001b[0m\u001b[0;34m\u001b[0m\u001b[0m\n\u001b[0m",
      "\u001b[0;32m/opt/conda/lib/python3.7/subprocess.py\u001b[0m in \u001b[0;36mrun\u001b[0;34m(input, capture_output, timeout, check, *popenargs, **kwargs)\u001b[0m\n\u001b[1;32m    453\u001b[0m     \u001b[0;32mwith\u001b[0m \u001b[0mPopen\u001b[0m\u001b[0;34m(\u001b[0m\u001b[0;34m*\u001b[0m\u001b[0mpopenargs\u001b[0m\u001b[0;34m,\u001b[0m \u001b[0;34m**\u001b[0m\u001b[0mkwargs\u001b[0m\u001b[0;34m)\u001b[0m \u001b[0;32mas\u001b[0m \u001b[0mprocess\u001b[0m\u001b[0;34m:\u001b[0m\u001b[0;34m\u001b[0m\u001b[0m\n\u001b[1;32m    454\u001b[0m         \u001b[0;32mtry\u001b[0m\u001b[0;34m:\u001b[0m\u001b[0;34m\u001b[0m\u001b[0m\n\u001b[0;32m--> 455\u001b[0;31m             \u001b[0mstdout\u001b[0m\u001b[0;34m,\u001b[0m \u001b[0mstderr\u001b[0m \u001b[0;34m=\u001b[0m \u001b[0mprocess\u001b[0m\u001b[0;34m.\u001b[0m\u001b[0mcommunicate\u001b[0m\u001b[0;34m(\u001b[0m\u001b[0minput\u001b[0m\u001b[0;34m,\u001b[0m \u001b[0mtimeout\u001b[0m\u001b[0;34m=\u001b[0m\u001b[0mtimeout\u001b[0m\u001b[0;34m)\u001b[0m\u001b[0;34m\u001b[0m\u001b[0m\n\u001b[0m\u001b[1;32m    456\u001b[0m         \u001b[0;32mexcept\u001b[0m \u001b[0mTimeoutExpired\u001b[0m\u001b[0;34m:\u001b[0m\u001b[0;34m\u001b[0m\u001b[0m\n\u001b[1;32m    457\u001b[0m             \u001b[0mprocess\u001b[0m\u001b[0;34m.\u001b[0m\u001b[0mkill\u001b[0m\u001b[0;34m(\u001b[0m\u001b[0;34m)\u001b[0m\u001b[0;34m\u001b[0m\u001b[0m\n",
      "\u001b[0;32m/opt/conda/lib/python3.7/subprocess.py\u001b[0m in \u001b[0;36mcommunicate\u001b[0;34m(self, input, timeout)\u001b[0m\n\u001b[1;32m    910\u001b[0m                 \u001b[0mstderr\u001b[0m \u001b[0;34m=\u001b[0m \u001b[0mself\u001b[0m\u001b[0;34m.\u001b[0m\u001b[0mstderr\u001b[0m\u001b[0;34m.\u001b[0m\u001b[0mread\u001b[0m\u001b[0;34m(\u001b[0m\u001b[0;34m)\u001b[0m\u001b[0;34m\u001b[0m\u001b[0m\n\u001b[1;32m    911\u001b[0m                 \u001b[0mself\u001b[0m\u001b[0;34m.\u001b[0m\u001b[0mstderr\u001b[0m\u001b[0;34m.\u001b[0m\u001b[0mclose\u001b[0m\u001b[0;34m(\u001b[0m\u001b[0;34m)\u001b[0m\u001b[0;34m\u001b[0m\u001b[0m\n\u001b[0;32m--> 912\u001b[0;31m             \u001b[0mself\u001b[0m\u001b[0;34m.\u001b[0m\u001b[0mwait\u001b[0m\u001b[0;34m(\u001b[0m\u001b[0;34m)\u001b[0m\u001b[0;34m\u001b[0m\u001b[0m\n\u001b[0m\u001b[1;32m    913\u001b[0m         \u001b[0;32melse\u001b[0m\u001b[0;34m:\u001b[0m\u001b[0;34m\u001b[0m\u001b[0m\n\u001b[1;32m    914\u001b[0m             \u001b[0;32mif\u001b[0m \u001b[0mtimeout\u001b[0m \u001b[0;32mis\u001b[0m \u001b[0;32mnot\u001b[0m \u001b[0;32mNone\u001b[0m\u001b[0;34m:\u001b[0m\u001b[0;34m\u001b[0m\u001b[0m\n",
      "\u001b[0;32m/opt/conda/lib/python3.7/subprocess.py\u001b[0m in \u001b[0;36mwait\u001b[0;34m(self, timeout)\u001b[0m\n\u001b[1;32m    969\u001b[0m             \u001b[0mendtime\u001b[0m \u001b[0;34m=\u001b[0m \u001b[0m_time\u001b[0m\u001b[0;34m(\u001b[0m\u001b[0;34m)\u001b[0m \u001b[0;34m+\u001b[0m \u001b[0mtimeout\u001b[0m\u001b[0;34m\u001b[0m\u001b[0m\n\u001b[1;32m    970\u001b[0m         \u001b[0;32mtry\u001b[0m\u001b[0;34m:\u001b[0m\u001b[0;34m\u001b[0m\u001b[0m\n\u001b[0;32m--> 971\u001b[0;31m             \u001b[0;32mreturn\u001b[0m \u001b[0mself\u001b[0m\u001b[0;34m.\u001b[0m\u001b[0m_wait\u001b[0m\u001b[0;34m(\u001b[0m\u001b[0mtimeout\u001b[0m\u001b[0;34m=\u001b[0m\u001b[0mtimeout\u001b[0m\u001b[0;34m)\u001b[0m\u001b[0;34m\u001b[0m\u001b[0m\n\u001b[0m\u001b[1;32m    972\u001b[0m         \u001b[0;32mexcept\u001b[0m \u001b[0mKeyboardInterrupt\u001b[0m\u001b[0;34m:\u001b[0m\u001b[0;34m\u001b[0m\u001b[0m\n\u001b[1;32m    973\u001b[0m             \u001b[0;31m# https://bugs.python.org/issue25942\u001b[0m\u001b[0;34m\u001b[0m\u001b[0;34m\u001b[0m\u001b[0m\n",
      "\u001b[0;32m/opt/conda/lib/python3.7/subprocess.py\u001b[0m in \u001b[0;36m_wait\u001b[0;34m(self, timeout)\u001b[0m\n\u001b[1;32m   1599\u001b[0m                         \u001b[0;32mif\u001b[0m \u001b[0mself\u001b[0m\u001b[0;34m.\u001b[0m\u001b[0mreturncode\u001b[0m \u001b[0;32mis\u001b[0m \u001b[0;32mnot\u001b[0m \u001b[0;32mNone\u001b[0m\u001b[0;34m:\u001b[0m\u001b[0;34m\u001b[0m\u001b[0m\n\u001b[1;32m   1600\u001b[0m                             \u001b[0;32mbreak\u001b[0m  \u001b[0;31m# Another thread waited.\u001b[0m\u001b[0;34m\u001b[0m\u001b[0m\n\u001b[0;32m-> 1601\u001b[0;31m                         \u001b[0;34m(\u001b[0m\u001b[0mpid\u001b[0m\u001b[0;34m,\u001b[0m \u001b[0msts\u001b[0m\u001b[0;34m)\u001b[0m \u001b[0;34m=\u001b[0m \u001b[0mself\u001b[0m\u001b[0;34m.\u001b[0m\u001b[0m_try_wait\u001b[0m\u001b[0;34m(\u001b[0m\u001b[0;36m0\u001b[0m\u001b[0;34m)\u001b[0m\u001b[0;34m\u001b[0m\u001b[0m\n\u001b[0m\u001b[1;32m   1602\u001b[0m                         \u001b[0;31m# Check the pid and loop as waitpid has been known to\u001b[0m\u001b[0;34m\u001b[0m\u001b[0;34m\u001b[0m\u001b[0m\n\u001b[1;32m   1603\u001b[0m                         \u001b[0;31m# return 0 even without WNOHANG in odd situations.\u001b[0m\u001b[0;34m\u001b[0m\u001b[0;34m\u001b[0m\u001b[0m\n",
      "\u001b[0;32m/opt/conda/lib/python3.7/subprocess.py\u001b[0m in \u001b[0;36m_try_wait\u001b[0;34m(self, wait_flags)\u001b[0m\n\u001b[1;32m   1557\u001b[0m             \u001b[0;34m\"\"\"All callers to this function MUST hold self._waitpid_lock.\"\"\"\u001b[0m\u001b[0;34m\u001b[0m\u001b[0m\n\u001b[1;32m   1558\u001b[0m             \u001b[0;32mtry\u001b[0m\u001b[0;34m:\u001b[0m\u001b[0;34m\u001b[0m\u001b[0m\n\u001b[0;32m-> 1559\u001b[0;31m                 \u001b[0;34m(\u001b[0m\u001b[0mpid\u001b[0m\u001b[0;34m,\u001b[0m \u001b[0msts\u001b[0m\u001b[0;34m)\u001b[0m \u001b[0;34m=\u001b[0m \u001b[0mos\u001b[0m\u001b[0;34m.\u001b[0m\u001b[0mwaitpid\u001b[0m\u001b[0;34m(\u001b[0m\u001b[0mself\u001b[0m\u001b[0;34m.\u001b[0m\u001b[0mpid\u001b[0m\u001b[0;34m,\u001b[0m \u001b[0mwait_flags\u001b[0m\u001b[0;34m)\u001b[0m\u001b[0;34m\u001b[0m\u001b[0m\n\u001b[0m\u001b[1;32m   1560\u001b[0m             \u001b[0;32mexcept\u001b[0m \u001b[0mChildProcessError\u001b[0m\u001b[0;34m:\u001b[0m\u001b[0;34m\u001b[0m\u001b[0m\n\u001b[1;32m   1561\u001b[0m                 \u001b[0;31m# This happens if SIGCLD is set to be ignored or waiting\u001b[0m\u001b[0;34m\u001b[0m\u001b[0;34m\u001b[0m\u001b[0m\n",
      "\u001b[0;31mKeyboardInterrupt\u001b[0m: "
     ]
    }
   ],
   "source": [
    "run_step1.main(tag_af, dt0, dt1, ver='v7m')"
   ]
  },
  {
   "cell_type": "markdown",
   "metadata": {},
   "source": [
    "## Running \"step 2\""
   ]
  },
  {
   "cell_type": "code",
   "execution_count": null,
   "metadata": {},
   "outputs": [],
   "source": [
    "assert run_step2.ver == 'v8b'\n",
    "rasters = [\n",
    "        {'tag': tag_lct,\n",
    "            'kind': 'thematic',\n",
    "            'variable': 'lct'},\n",
    "        {'tag': tag_vcf,\n",
    "            'kind': 'continuous',\n",
    "            'variables': ['tree', 'herb', 'bare'],\n",
    "            },\n",
    "        {'tag': tag_regnum,\n",
    "            'kind': 'polygons',\n",
    "            'variable_in': 'region_num',\n",
    "            'variable': 'regnum',\n",
    "            }\n",
    "\n",
    "        ]"
   ]
  },
  {
   "cell_type": "code",
   "execution_count": null,
   "metadata": {},
   "outputs": [],
   "source": [
    "run_step2.main(tag_af, rasters, dt0, dt1)"
   ]
  },
  {
   "cell_type": "markdown",
   "metadata": {},
   "source": [
    "## Export the output"
   ]
  },
  {
   "cell_type": "code",
   "execution_count": null,
   "metadata": {},
   "outputs": [],
   "source": [
    "odir = '.'\n",
    "schema = 'af_' + tag_af\n",
    "tblname = 'out_{0}_{1}_{2}'.format(tag_lct, tag_vcf, tag_regnum)\n",
    "flds = ('v_lct', 'f_lct', 'v_tree', 'v_herb', 'v_bare', 'v_regnum')\n",
    "tblname"
   ]
  },
  {
   "cell_type": "code",
   "execution_count": null,
   "metadata": {},
   "outputs": [],
   "source": [
    "export_shp.main(odir, schema, tblname, flds)"
   ]
  },
  {
   "cell_type": "code",
   "execution_count": null,
   "metadata": {},
   "outputs": [],
   "source": []
  }
 ],
 "metadata": {
  "kernelspec": {
   "display_name": "Python 3",
   "language": "python",
   "name": "python3"
  },
  "language_info": {
   "codemirror_mode": {
    "name": "ipython",
    "version": 3
   },
   "file_extension": ".py",
   "mimetype": "text/x-python",
   "name": "python",
   "nbconvert_exporter": "python",
   "pygments_lexer": "ipython3",
   "version": "3.7.0"
  }
 },
 "nbformat": 4,
 "nbformat_minor": 2
}
