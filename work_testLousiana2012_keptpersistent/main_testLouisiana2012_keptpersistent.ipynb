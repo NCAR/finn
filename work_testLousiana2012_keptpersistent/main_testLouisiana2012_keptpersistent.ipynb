{
 "cells": [
  {
   "cell_type": "markdown",
   "metadata": {},
   "source": [
    "# FINN Preprocessor\n",
    "\n",
    "This notebook contains the code to preprocess active fire data for the FINN fire emissions model. "
   ]
  },
  {
   "cell_type": "markdown",
   "metadata": {},
   "source": [
    "## 1. User specified configurations"
   ]
  },
  {
   "cell_type": "markdown",
   "metadata": {},
   "source": [
    "To run the FINN preprocessor, you should specify the following: \n",
    "\n",
    "1. `tag_af`: a tag or name for your active fire dataset, e.g., `'my_af_data'`.  See below for guidance for picking `tag_af`.\n",
    "2. `af_fnames`: a list of file paths to active fire shape files (e.g., downloaded from [FIRMS](https://firms.modaps.eosdis.nasa.gov/)) \n",
    "3. `year_rst`: MODIS raster data year to be used for the analysis\n",
    "\n",
    "It is recommended to use descriptive name which identified data source (modis vs viirs), spatial extent and time period.  e.g. `modvrs_global_2018` for Modis/VIIRS combined detection for global scale modeling for year 2018, or `mod_tx_2012sum` for modis detection for Texas for Summer 2012 (definition of \"summer\" is implicit here).\n",
    "\n",
    "The variable `tag_af` is used as part of PostGIS database schema and table (\"[SQL Identifier](https://www.postgresql.org/docs/current/sql-syntax-lexical.html#SQL-SYNTAX-IDENTIFIERS)\"), and you have to start with letter (a-z, A-Z) or underscore (\\_) followed by letter/underscore/digit (0-9).\n",
    "\n",
    "Final output files will be named \"out_<i>tag_af</i>_*.csv\" and \"out_<i>tag_af</i>_*.shp\".\n",
    "\n",
    "\n",
    "### Default settings\n",
    "\n",
    "To use a small example dataset that is bundled with the FINN preprocessor, you can use the following settings:\n",
    "\n",
    "```python\n",
    "tag_af = 'testOTS_092018'\n",
    "\n",
    "af_fnames = [\n",
    "    '../sample_datasets/fire/testOTS_092018/fire_archive_M6_23960.shp',\n",
    "    '../sample_datasets/fire/testOTS_092018/fire_archive_V1_23961.shp',\n",
    "]\n",
    "\n",
    "year_rst = 2017\n",
    "```\n",
    "\n",
    "### Custom settings with MODIS and VIIRS\n",
    "\n",
    "**If you have custom MODIS and VIIRS shapefiles** you must specify the file path(s) to the active fire data shapefiles. Ensure that the shapefiles are unzipped and placed within the `finn_preproc/data/` directory:\n",
    "\n",
    "```python\n",
    "tag_af = 'custom_job1'\n",
    "\n",
    "af_fname = [\n",
    "    '../data/fire_archive_M6_...',\n",
    "    '../data/fire_archive_V1_...'\n",
    "]\n",
    "\n",
    "year_rst = 2017\n",
    "```\n",
    "\n",
    "### Custom settings with MODIS or VIIRS\n",
    "\n",
    "Alternatively, if you have just MODIS or VIIRS, you can specify one file path, e.g.:\n",
    "\n",
    "```python\n",
    "tag_af = 'custom_job2'\n",
    "\n",
    "af_fname = [\n",
    "    '../data/fire_archive_M6_...',\n",
    "]\n",
    "\n",
    "year_rst = 2017\n",
    "```"
   ]
  },
  {
   "cell_type": "code",
   "execution_count": 1,
   "metadata": {},
   "outputs": [],
   "source": [
    "tag_af = 'testLouisiana2012_keptpersistent'\n",
    "\n",
    "af_fnames = [\n",
    "    '../data/fire/louisiana_2012/fire_archive_M6_48312.shp',\n",
    "    '../data/fire/louisiana_2012/fire_archive_V1_48313.shp',\n",
    "]\n",
    "\n",
    "year_rst = 2012\n",
    "filter_persistent_sources = False"
   ]
  },
  {
   "cell_type": "markdown",
   "metadata": {},
   "source": [
    "The rest of code below should run without modification."
   ]
  },
  {
   "cell_type": "markdown",
   "metadata": {},
   "source": [
    "## 2. Generic preparation of the preprocessor"
   ]
  },
  {
   "cell_type": "markdown",
   "metadata": {},
   "source": [
    "python module import"
   ]
  },
  {
   "cell_type": "code",
   "execution_count": 2,
   "metadata": {},
   "outputs": [],
   "source": [
    "# python libraries\n",
    "import sys\n",
    "import os\n",
    "import re\n",
    "import glob\n",
    "import datetime\n",
    "import subprocess\n",
    "import shlex\n",
    "from urllib.parse import urlparse\n",
    "from importlib import reload\n",
    "import gdal\n",
    "import matplotlib.pylab as plt\n",
    "import psycopg2\n",
    "\n",
    "\n",
    "# finn preproc codes\n",
    "sys.path = sys.path + ['../code_anaconda']\n",
    "import downloader\n",
    "import af_import\n",
    "import rst_import\n",
    "import polygon_import\n",
    "import run_step1\n",
    "import run_step2\n",
    "import export_shp\n",
    "import plotter"
   ]
  },
  {
   "cell_type": "markdown",
   "metadata": {},
   "source": [
    "Need PL/Python3"
   ]
  },
  {
   "cell_type": "code",
   "execution_count": 3,
   "metadata": {},
   "outputs": [
    {
     "name": "stdout",
     "output_type": "stream",
     "text": [
      "OK:  language \"plpython3u\" already exists\n"
     ]
    }
   ],
   "source": [
    "try:\n",
    "    subprocess.run(['psql', '-d', 'finn', '-c', 'CREATE LANGUAGE plpython3u;'], check=True, stderr=subprocess.PIPE)\n",
    "except subprocess.CalledProcessError as e:\n",
    "    if 'already exists' in e.stderr.decode():\n",
    "        print(e.stderr.decode().replace('ERROR','OK').strip())"
   ]
  },
  {
   "cell_type": "markdown",
   "metadata": {},
   "source": [
    "Need wireframe of modis files"
   ]
  },
  {
   "cell_type": "code",
   "execution_count": 4,
   "metadata": {},
   "outputs": [
    {
     "name": "stdout",
     "output_type": "stream",
     "text": [
      "OK: wireframe already exists\n"
     ]
    }
   ],
   "source": [
    "reload(rst_import)\n",
    "rst_import.prep_modis_tile()"
   ]
  },
  {
   "cell_type": "markdown",
   "metadata": {},
   "source": [
    "## 3. Import AF dataset"
   ]
  },
  {
   "cell_type": "markdown",
   "metadata": {},
   "source": [
    "### Test active fire data files exist"
   ]
  },
  {
   "cell_type": "markdown",
   "metadata": {},
   "source": [
    "This particular sample AF dataset are provided by FINN developper.  In other applications, it will be user's resoponsibility to provide shape file for active fire in specified path/name."
   ]
  },
  {
   "cell_type": "code",
   "execution_count": 5,
   "metadata": {},
   "outputs": [
    {
     "name": "stdout",
     "output_type": "stream",
     "text": [
      "checking if input files exist:\n",
      "../data/fire/louisiana_2012/fire_archive_M6_48312.shp: exists.\n",
      "OK\n",
      "../data/fire/louisiana_2012/fire_archive_V1_48313.shp: exists.\n",
      "OK\n"
     ]
    }
   ],
   "source": [
    "# check input file exists\n",
    "print('checking if input files exist:')\n",
    "re_shp = re.compile('fire_archive_(.*).shp')\n",
    "re_zip = re.compile('DL_FIRE_(.*).shp')\n",
    "re_shp_nrt = re.compile('(MODIS_C6|VNP14IMGTDL_NRT)_(.*).shp')\n",
    "\n",
    "\n",
    "for i,af_fname in enumerate(af_fnames):\n",
    "    print(\"%s: \" % af_fname, end='')\n",
    "    \n",
    "    pn,fn = os.path.split(af_fname)\n",
    "    zname = None\n",
    "    \n",
    "    if os.path.exists(af_fname):\n",
    "        print(\"exists.\")\n",
    "        # if .zip file, need to expand.\n",
    "        if af_fname[-4:] == '.shp':\n",
    "            # you are good\n",
    "            print('OK')\n",
    "        \n",
    "        elif af_fname[-4:] == '.zip':\n",
    "            # still need to unzip\n",
    "            zname = af_fname\n",
    "            m = re_zip.match(af_fname)\n",
    "            if m:\n",
    "                arcname = m.group()[0]\n",
    "                sname = 'fire_archive_%s.shp' % arcname\n",
    "            else:\n",
    "                # i cannot predict name of shp file...\n",
    "                import zipfile\n",
    "                # find what shp file included...?\n",
    "                raise RuntileError('specify .shp file in af_names list!')\n",
    "                arcname,sname = None, None\n",
    "        else:\n",
    "            raise RuntimeError('specify .shp file in af_names list!')\n",
    "    else:\n",
    "        print(\"doesn't exist.\")\n",
    "        \n",
    "        if af_fname[-4:] == '.shp':\n",
    "            # guess the zip file name\n",
    "            \n",
    "            pn,fn=os.path.split(af_fname)\n",
    "            \n",
    "            # see if it's the sample giant archive we provide \n",
    "            if fn == 'fire_archive_M6_28864.shp':\n",
    "                zurl = 'https://s3-us-west-2.amazonaws.com/earthlab-finn/2016-global-DL_FIRE_M6_28864.zip'\n",
    "                zn = '2016-global-DL_FIRE_M6_28864.zip'\n",
    "                zname = os.path.join(pn, zn)\n",
    "                sname = fn\n",
    "                if not os.path.exists(zname):\n",
    "                    print('downloading the sample AF file: %s' % zn)\n",
    "                    subprocess.run(['wget', '-P', pn, zurl], check=True)\n",
    "            else:\n",
    "\n",
    "                # see if it's an archive of AF\n",
    "                m = re_shp.match(fn)\n",
    "                if m:\n",
    "                    arcname = m.groups()[0]\n",
    "                    zname = os.path.join( pn, 'DL_FIRE_%s.zip' % arcname)\n",
    "                    sname = fn\n",
    "                    print('  found zip: %s' % zname)\n",
    "                else:\n",
    "                    # see if it's NRT data\n",
    "                    m = re_shp_nrt.match(fn)\n",
    "\n",
    "                    if m:\n",
    "                        # NRT downloads\n",
    "                        zname = af_fname[:-4] + '.zip'\n",
    "                        sname = fn\n",
    "                        print('  found zip: %s' % zname)\n",
    "\n",
    "\n",
    "                    else:\n",
    "                        raise RuntimeError('cannot find file: %s' % af_fname)\n",
    "        else:\n",
    "            raise RuntimeError('cannot find file: %s' % af_fname)\n",
    "    if zname:\n",
    "        print('unzipping: %s' % zname)\n",
    "        subprocess.run(['unzip', '-uo', zname, '-d', os.path.dirname(zname)],\n",
    "                      check=True)\n",
    "        assert os.path.exists(os.path.join(pn, sname))\n",
    "        af_fnames[i] = os.path.join(pn, sname)\n",
    "        print('OK: done')\n",
    "        "
   ]
  },
  {
   "cell_type": "markdown",
   "metadata": {},
   "source": [
    "### Import active fire data"
   ]
  },
  {
   "cell_type": "markdown",
   "metadata": {},
   "source": [
    "Go ahead and import into database.\n",
    "\n",
    "<b>Be careful!!</b> The code has no safe guard and wipe the schema for the scheama \"af_<i>tag_af</i>\" and starts over.  \n",
    "\n",
    "Let me think the design a bit more for now."
   ]
  },
  {
   "cell_type": "code",
   "execution_count": 6,
   "metadata": {},
   "outputs": [
    {
     "name": "stdout",
     "output_type": "stream",
     "text": [
      "['psql', '-c', 'CREATE SCHEMA \"af_testLouisiana2012_keptpersistent\";']\n",
      "\n",
      "cmd:\n",
      "ogr2ogr -progress -f PostgreSQL -overwrite PG:dbname='finn' -lco SPATIAL_INDEX=GIST -lco SCHEMA=af_testLouisiana2012_keptpersistent -lco GEOMETRY_NAME=geom -lco FID=gid -nln af_in_1 ../data/fire/louisiana_2012/fire_archive_M6_48312.shp\n",
      "\n",
      "['ogr2ogr', '-progress', '-f', 'PostgreSQL', '-overwrite', \"PG:dbname='finn'\", '-lco', 'SPATIAL_INDEX=GIST', '-lco', 'SCHEMA=af_testLouisiana2012_keptpersistent', '-lco', 'GEOMETRY_NAME=geom', '-lco', 'FID=gid', '-nln', 'af_in_1', '../data/fire/louisiana_2012/fire_archive_M6_48312.shp']\n",
      "\n",
      "cmd:\n",
      "ogr2ogr -progress -f PostgreSQL -overwrite PG:dbname='finn' -lco SPATIAL_INDEX=GIST -lco SCHEMA=af_testLouisiana2012_keptpersistent -lco GEOMETRY_NAME=geom -lco FID=gid -nln af_in_2 ../data/fire/louisiana_2012/fire_archive_V1_48313.shp\n",
      "\n",
      "['ogr2ogr', '-progress', '-f', 'PostgreSQL', '-overwrite', \"PG:dbname='finn'\", '-lco', 'SPATIAL_INDEX=GIST', '-lco', 'SCHEMA=af_testLouisiana2012_keptpersistent', '-lco', 'GEOMETRY_NAME=geom', '-lco', 'FID=gid', '-nln', 'af_in_2', '../data/fire/louisiana_2012/fire_archive_V1_48313.shp']\n",
      "\n",
      "../data/fire/louisiana_2012/fire_archive_M6_48312.shp\n",
      " count \n",
      "-------\n",
      "  3847\n",
      "(1 row)\n",
      "\n",
      "\n",
      "../data/fire/louisiana_2012/fire_archive_V1_48313.shp\n",
      " count \n",
      "-------\n",
      " 13946\n",
      "(1 row)\n",
      "\n",
      "\n"
     ]
    }
   ],
   "source": [
    "reload(af_import)\n",
    "\n",
    "# TODO this is destructive need to safe guard!\n",
    "# tell user schema is there, list table names and # of row of each.  Ask her to delete manually or something to proceed\n",
    "af_import.main(tag_af, af_fnames)\n",
    "\n",
    "print()\n",
    "for i,fn in enumerate(af_fnames):\n",
    "    print(fn)\n",
    "    tblname = '\"af_%s\".af_in_%d' % (tag_af, i+1)\n",
    "    p = subprocess.run(['psql', '-c', 'select count(*) from %s;' % tblname], stdout=subprocess.PIPE)\n",
    "    print(p.stdout.decode())\n"
   ]
  },
  {
   "cell_type": "markdown",
   "metadata": {},
   "source": [
    "## 4. Download raster datasets"
   ]
  },
  {
   "cell_type": "markdown",
   "metadata": {},
   "source": [
    "### Settings for Land Surface Datasets (land cover, vegetation continuous field, region definieons)"
   ]
  },
  {
   "cell_type": "code",
   "execution_count": 7,
   "metadata": {},
   "outputs": [],
   "source": [
    "# tag to identify datasets, automatically set to be modlct_YYYY, modvcf_YYYY\n",
    "tag_lct = 'modlct_%d' % year_rst\n",
    "tag_vcf = 'modvcf_%d' % year_rst\n",
    "\n",
    "# tag for the region number polygon\n",
    "tag_regnum = 'regnum'\n",
    "\n",
    "# definition of variables in the raster files\n",
    "rasters = [\n",
    "        {\n",
    "            'tag': tag_lct,\n",
    "            'kind': 'thematic',\n",
    "            'variable': 'lct'\n",
    "        },\n",
    "        {\n",
    "            'tag': tag_vcf,\n",
    "            'kind': 'continuous',\n",
    "            'variables': ['tree', 'herb', 'bare'],\n",
    "        },\n",
    "        {\n",
    "            'tag': tag_regnum,\n",
    "            'kind': 'polygons',\n",
    "            'variable_in': 'region_num',\n",
    "            'variable': 'regnum',\n",
    "        },\n",
    "]"
   ]
  },
  {
   "cell_type": "markdown",
   "metadata": {},
   "source": [
    "Check if the extent of raster dataset in the database encloses all fire"
   ]
  },
  {
   "cell_type": "code",
   "execution_count": 8,
   "metadata": {},
   "outputs": [
    {
     "name": "stdout",
     "output_type": "stream",
     "text": [
      "{'n_tot': 17793, 'n_ok': 17793, 'n_need': 0, 'tiles_missing_lct': [], 'tiles_missing_vcf': [], 'tiles_required_lct': ['h09v06', 'h10v06', 'h10v05', 'h09v05'], 'tiles_required_vcf': ['h09v06', 'h10v06', 'h10v05', 'h09v05']}\n",
      "\n",
      "All fire are is conained in raster\n",
      "no need to download/import raster dataset\n",
      "\n",
      "no need to import Region definiton shapefile\n"
     ]
    }
   ],
   "source": [
    "reload(downloader)\n",
    "results_indb = downloader.find_tiles_indb(data='\"af_%s\"' % tag_af, knd='schema', tag_lct=tag_lct, tag_vcf=tag_vcf)\n",
    "print(results_indb)\n",
    "print()\n",
    "\n",
    "\n",
    "if results_indb['n_need'] == 0:\n",
    "    print('All fire are is conained in raster')\n",
    "    print('no need to download/import raster dataset')\n",
    "    need_to_import_lct = False\n",
    "    need_to_import_vcf = False\n",
    "else:\n",
    "    print('Some fire are not conained in raster')\n",
    "    print('Will download/import raster dataset')\n",
    "    need_to_import_lct = (len(results_indb['tiles_missing_lct']) > 0)\n",
    "    need_to_import_vcf = (len(results_indb['tiles_missing_vcf']) > 0)\n",
    "    tiles_required_lct = results_indb['tiles_required_lct']\n",
    "    tiles_required_vcf = results_indb['tiles_required_vcf']\n",
    "\n",
    "print()\n",
    "reload(downloader)\n",
    "need_to_import_regnum = not downloader.find_table_indb('raster', 'rst_%s' % tag_regnum)\n",
    "if need_to_import_regnum:\n",
    "    print('Region definiton shapefile will be imported')\n",
    "else:\n",
    "    print('no need to import Region definiton shapefile')\n",
    "\n",
    "\n"
   ]
  },
  {
   "cell_type": "code",
   "execution_count": 9,
   "metadata": {},
   "outputs": [
    {
     "name": "stdout",
     "output_type": "stream",
     "text": [
      "first day in AF file: 2011-12-31\n",
      "last day in AF file: 2012-12-31\n"
     ]
    }
   ],
   "source": [
    "# Date range of active fire\n",
    "# TODO use this to set \"year_rst\" ?\n",
    "reload(af_import)\n",
    "af_dates = af_import.get_dates(schema = '\"af_%s\"'%tag_af, combined=True)\n",
    "print('first day in AF file:', af_dates.min())\n",
    "print('last day in AF file:', af_dates.max())"
   ]
  },
  {
   "cell_type": "markdown",
   "metadata": {},
   "source": [
    "Raster files URL and directories to save data"
   ]
  },
  {
   "cell_type": "code",
   "execution_count": 10,
   "metadata": {},
   "outputs": [],
   "source": [
    "# all raster downloads are stored in following dir\n",
    "download_rootdir = '../downloads'"
   ]
  },
  {
   "cell_type": "code",
   "execution_count": 11,
   "metadata": {},
   "outputs": [],
   "source": [
    "# earthdata's URL for landcover and VCF\n",
    "is_leap = (year_rst % 4 == 0)\n",
    "url_lct = 'https://e4ftl01.cr.usgs.gov/MOTA/MCD12Q1.006/%d.01.01/' % year_rst\n",
    "url_vcf = 'https://e4ftl01.cr.usgs.gov/MOLT/MOD44B.006/%d.03.%02d/' % (year_rst, 5 if is_leap else 6)\n",
    "\n",
    "ddir_lct = download_rootdir +'/'+ ''.join(urlparse(url_lct)[1:3])\n",
    "ddir_vcf = download_rootdir +'/'+ ''.join(urlparse(url_vcf)[1:3])\n",
    "\n",
    "if any((need_to_import_lct, need_to_import_vcf)):\n",
    "    print('LCT downloads goes to %s' % ddir_lct)\n",
    "    print('VCF downloads goes to %s' % ddir_vcf)"
   ]
  },
  {
   "cell_type": "markdown",
   "metadata": {},
   "source": [
    "Download land cover type raster"
   ]
  },
  {
   "cell_type": "code",
   "execution_count": 12,
   "metadata": {},
   "outputs": [],
   "source": [
    "if need_to_import_lct:\n",
    "    reload(downloader)\n",
    "    downloader.download_only_needed(url = url_lct, droot = download_rootdir, tiles=tiles_required_lct)"
   ]
  },
  {
   "cell_type": "markdown",
   "metadata": {},
   "source": [
    "Verify LCT files' checksum.  If a file is correpted, the file is downloaded again."
   ]
  },
  {
   "cell_type": "code",
   "execution_count": 13,
   "metadata": {},
   "outputs": [],
   "source": [
    "if need_to_import_lct:\n",
    "    downloader.purge_corrupted(ddir = ddir_lct, url=url_lct)"
   ]
  },
  {
   "cell_type": "markdown",
   "metadata": {},
   "source": [
    "Do similar for vegetation continuous field data"
   ]
  },
  {
   "cell_type": "code",
   "execution_count": 14,
   "metadata": {
    "scrolled": true
   },
   "outputs": [],
   "source": [
    "if need_to_import_vcf:\n",
    "    downloader.download_only_needed(url = url_vcf, droot = download_rootdir, tiles=tiles_required_vcf)"
   ]
  },
  {
   "cell_type": "code",
   "execution_count": 15,
   "metadata": {},
   "outputs": [],
   "source": [
    "if need_to_import_vcf:\n",
    "    downloader.purge_corrupted(ddir_vcf, url=url_vcf)"
   ]
  },
  {
   "cell_type": "markdown",
   "metadata": {},
   "source": [
    "## 5. Import raster datasets"
   ]
  },
  {
   "cell_type": "markdown",
   "metadata": {},
   "source": [
    "Downloaded files need preprocessing, which is to extract the only raster band needed, and also make coordinate system to be WGS84.  Intermediate files are created in following directories."
   ]
  },
  {
   "cell_type": "code",
   "execution_count": 16,
   "metadata": {},
   "outputs": [],
   "source": [
    "workdir_lct = '../proc_rst_%s' % tag_lct\n",
    "workdir_vcf = '../proc_rst_%s' % tag_vcf\n",
    "workdir_regnum = '../proc_rst_%s' % tag_regnum\n",
    "\n",
    "if need_to_import_lct:\n",
    "    print('LCT preprocessing occurs in %s' % workdir_lct)\n",
    "if need_to_import_vcf:\n",
    "    print('VCF preprocessing occurs in %s' % workdir_vcf)\n",
    "if need_to_import_regnum:\n",
    "    print('RegNum preprocessing occurs in %s' % workdir_regnum)"
   ]
  },
  {
   "cell_type": "markdown",
   "metadata": {},
   "source": [
    "### Import land cover type"
   ]
  },
  {
   "cell_type": "markdown",
   "metadata": {},
   "source": [
    "First grab hdf file names from the download directory"
   ]
  },
  {
   "cell_type": "code",
   "execution_count": 17,
   "metadata": {},
   "outputs": [],
   "source": [
    "if need_to_import_lct:\n",
    "    search_string = \"%(ddir_lct)s/MCD12Q1.A%(year_rst)s001.h??v??.006.*.hdf\" % dict(\n",
    "        ddir_lct = ddir_lct, year_rst=year_rst)\n",
    "    fnames_lct = sorted(glob.glob(search_string))\n",
    "    print('found %d hdf files' % len(fnames_lct) )\n",
    "    if len(fnames_lct) == 0:\n",
    "        raise RuntimeError(\"check if downloads are successful and search string to be correct: %s\" % search_string)"
   ]
  },
  {
   "cell_type": "markdown",
   "metadata": {},
   "source": [
    "The next command performs three tasks, \"merge\", \"resample\" and \"import\".  First two task creates intermediate GeoTiff files in <i>work_dir</i>.  Last task actually import the data into database's <i>raster</i> schema."
   ]
  },
  {
   "cell_type": "code",
   "execution_count": 18,
   "metadata": {},
   "outputs": [],
   "source": [
    "if need_to_import_lct:\n",
    "    reload(rst_import)\n",
    "    rst_import.main(tag_lct, fnames=fnames_lct, workdir = workdir_lct)"
   ]
  },
  {
   "cell_type": "markdown",
   "metadata": {},
   "source": [
    "At this point you should able to see the raster in the database using QGIS.  \n",
    "I am also trying to make quick check here creating simple image for QA, but use of GIS tool is encouraged."
   ]
  },
  {
   "cell_type": "code",
   "execution_count": 19,
   "metadata": {},
   "outputs": [
    {
     "name": "stdout",
     "output_type": "stream",
     "text": [
      "Driver : GeoTIFF\n",
      "Files : ['/vsimem/from_postgis']\n",
      "Size : (2812, 1500)\n",
      "Coordinate System : GEOGCS[\"WGS 84\",DATUM[\"WGS_1984\",SPHEROID[\"WGS 84\",6378137,298.257223563,AUTHORITY[\"EPSG\",\"7030\"]],AUTHORITY[\"EPSG\",\"6326\"]],PRIMEM[\"Greenwich\",0],UNIT[\"degree\",0.0174532925199433],AUTHORITY[\"EPSG\",\"4326\"]]\n",
      "Origin : (-180.0, 70.0)\n",
      "Pixel Size : (0.0533333344, -0.0533333344)\n",
      "Metadata : {'AREA_OR_POINT': 'Area'}\n",
      "OrderedDict([('No Data Value', 255.0), ('Min', None), ('Max', None), ('Scale', 1.0), ('Unit Type', '')])\n",
      "(1500, 2812)\n"
     ]
    },
    {
     "data": {
      "image/png": "[encoded data removed]",
      "text/plain": [
       "<Figure size 864x432 with 1 Axes>"
      ]
     },
     "metadata": {},
     "output_type": "display_data"
    }
   ],
   "source": [
    "%matplotlib inline\n",
    "import plotter\n",
    "reload(plotter)\n",
    "try:\n",
    "    plotter.plot('raster.o_32_rst_%s' % tag_lct, '../code_anaconda/modlct.clr')\n",
    "except Exception as e:\n",
    "    try: \n",
    "        plotter.plot('raster.o_256_rst_%s' % tag_lct, '../code_anaconda/modlct.clr')\n",
    "    \n",
    "    except Exception as e2:\n",
    "        print(\"Got this error: \" + str(e))\n",
    "        print(\"Didn't work, use QGIS!\")\n",
    "        pass"
   ]
  },
  {
   "cell_type": "markdown",
   "metadata": {},
   "source": [
    "### Import vegetation continuous fields"
   ]
  },
  {
   "cell_type": "markdown",
   "metadata": {},
   "source": [
    "Analogous steps repeated for vegetation continous fields."
   ]
  },
  {
   "cell_type": "code",
   "execution_count": 20,
   "metadata": {},
   "outputs": [],
   "source": [
    "if need_to_import_vcf:\n",
    "    # grab hdf file names\n",
    "    search_string = \"%(ddir_vcf)s/MOD44B.A%(year)s065.h??v??.006.*.hdf\" % dict(\n",
    "            ddir_vcf = ddir_vcf, year=year_rst)\n",
    "    fnames_vcf = sorted(glob.glob(search_string))\n",
    "    print('found %d hdf files' % len(fnames_vcf) )\n",
    "    if len(fnames_vcf) == 0:\n",
    "        raise RuntimeError(\"check if downloads are successfull and search string to be correct: %s\" % search_string)"
   ]
  },
  {
   "cell_type": "code",
   "execution_count": 21,
   "metadata": {},
   "outputs": [],
   "source": [
    "if need_to_import_vcf:\n",
    "    reload(rst_import)\n",
    "    rst_import.main(tag_vcf, fnames=fnames_vcf, workdir = workdir_vcf)"
   ]
  },
  {
   "cell_type": "code",
   "execution_count": 22,
   "metadata": {},
   "outputs": [
    {
     "name": "stdout",
     "output_type": "stream",
     "text": [
      "Driver : GeoTIFF\n",
      "Files : ['/vsimem/from_postgis']\n",
      "Size : (2812, 1500)\n",
      "Coordinate System : GEOGCS[\"WGS 84\",DATUM[\"WGS_1984\",SPHEROID[\"WGS 84\",6378137,298.257223563,AUTHORITY[\"EPSG\",\"7030\"]],AUTHORITY[\"EPSG\",\"6326\"]],PRIMEM[\"Greenwich\",0],UNIT[\"degree\",0.0174532925199433],AUTHORITY[\"EPSG\",\"4326\"]]\n",
      "Origin : (-180.0, 70.0)\n",
      "Pixel Size : (0.0533333344, -0.0533333344)\n",
      "Metadata : {'AREA_OR_POINT': 'Area'}\n",
      "OrderedDict([('No Data Value', 255.0), ('Min', None), ('Max', None), ('Scale', 1.0), ('Unit Type', '')])\n",
      "OrderedDict([('No Data Value', 255.0), ('Min', None), ('Max', None), ('Scale', 1.0), ('Unit Type', '')])\n",
      "OrderedDict([('No Data Value', 255.0), ('Min', None), ('Max', None), ('Scale', 1.0), ('Unit Type', '')])\n",
      "(1500, 2812, 3)\n"
     ]
    },
    {
     "data": {
      "image/png": "[encoded data removed]",
      "text/plain": [
       "<Figure size 864x432 with 1 Axes>"
      ]
     },
     "metadata": {},
     "output_type": "display_data"
    }
   ],
   "source": [
    "%matplotlib inline\n",
    "import plotter\n",
    "reload(plotter)\n",
    "try:\n",
    "    plotter.plot('raster.o_32_rst_%s' % tag_vcf)\n",
    "except Exception as e:\n",
    "    try:\n",
    "        plotter.plot('raster.o_256_rst_%s' % tag_vcf)\n",
    "    except Exception as e2:\n",
    "        print(\"Got this error: \" + str(e))\n",
    "        print(\"Didn't work, use QGIS!\")\n",
    "        pass"
   ]
  },
  {
   "cell_type": "markdown",
   "metadata": {},
   "source": [
    "### Import countries of the world shapefile"
   ]
  },
  {
   "cell_type": "markdown",
   "metadata": {},
   "source": [
    "This is actually not a raster but vector data of polygons.  But since it serves conceptually similar function as raster (specify attribute for a given geographic location), I treat it as if it is a raster dataset.  "
   ]
  },
  {
   "cell_type": "code",
   "execution_count": 23,
   "metadata": {},
   "outputs": [],
   "source": [
    "if need_to_import_regnum:\n",
    "    if not os.path.exists(os.path.join(workdir_regnum, 'All_Countries.shp')):\n",
    "        subprocess.run(['wget', '-P', workdir_regnum,\n",
    "                        'https://s3-us-west-2.amazonaws.com/earthlab-finn/All_Countries.zip'], \n",
    "                       check=True)\n",
    "        subprocess.run(['unzip', os.path.join(workdir_regnum, 'All_Countries.zip'), '-d' , workdir_regnum ], \n",
    "                       check=True)"
   ]
  },
  {
   "cell_type": "code",
   "execution_count": 24,
   "metadata": {},
   "outputs": [],
   "source": [
    "if need_to_import_regnum:\n",
    "    reload(polygon_import)\n",
    "    polygon_import.main('regnum', shpname = os.path.join(workdir_regnum, 'All_Countries.shp'))"
   ]
  },
  {
   "cell_type": "markdown",
   "metadata": {},
   "source": [
    "## 6. Process active fire data"
   ]
  },
  {
   "cell_type": "markdown",
   "metadata": {},
   "source": [
    "### Running \"step 1\" grouping points"
   ]
  },
  {
   "cell_type": "code",
   "execution_count": 25,
   "metadata": {
    "scrolled": false
   },
   "outputs": [
    {
     "name": "stdout",
     "output_type": "stream",
     "text": [
      "starting prep: 2019-04-12 18:48:01.008171\n",
      "['psql', '-f', '../code_anaconda/step1_prep_v7m.sql', '-v', 'tag=testLouisiana2012_keptpersistent', '-v', 'filter_persistent_sources=False']\n",
      "(datetime.date(2011, 12, 31), datetime.date(2012, 12, 31))\n",
      "0\n",
      "starting work 2011-12-31: 2019-04-12 18:48:01.576663\n",
      "starting work 2012-01-01: 2019-04-12 18:48:02.412761\n",
      "starting work 2012-01-02: 2019-04-12 18:48:03.277701\n",
      "starting work 2012-01-03: 2019-04-12 18:48:04.116791\n",
      "starting work 2012-01-04: 2019-04-12 18:48:04.983668\n",
      "starting work 2012-01-05: 2019-04-12 18:48:06.018452\n",
      "starting work 2012-01-06: 2019-04-12 18:48:06.941913\n",
      "starting work 2012-01-07: 2019-04-12 18:48:07.189063\n",
      "starting work 2012-01-08: 2019-04-12 18:48:08.091247\n",
      "starting work 2012-01-09: 2019-04-12 18:48:08.354789\n",
      "starting work 2012-01-10: 2019-04-12 18:48:08.615831\n",
      "starting work 2012-01-11: 2019-04-12 18:48:08.868606\n",
      "starting work 2012-01-12: 2019-04-12 18:48:09.741672\n",
      "starting work 2012-01-13: 2019-04-12 18:48:10.587057\n",
      "starting work 2012-01-14: 2019-04-12 18:48:11.490622\n",
      "starting work 2012-01-15: 2019-04-12 18:48:12.465778\n",
      "starting work 2012-01-16: 2019-04-12 18:48:13.321631\n",
      "starting work 2012-01-17: 2019-04-12 18:48:14.247441\n",
      "starting work 2012-01-18: 2019-04-12 18:48:14.487049\n",
      "starting work 2012-01-19: 2019-04-12 18:48:15.343733\n",
      "starting work 2012-01-20: 2019-04-12 18:48:16.216146\n",
      "starting work 2012-01-21: 2019-04-12 18:48:17.149573\n",
      "starting work 2012-01-22: 2019-04-12 18:48:18.122485\n",
      "starting work 2012-01-23: 2019-04-12 18:48:19.094676\n",
      "starting work 2012-01-24: 2019-04-12 18:48:20.149151\n",
      "starting work 2012-01-25: 2019-04-12 18:48:21.130782\n",
      "starting work 2012-01-26: 2019-04-12 18:48:21.356227\n",
      "starting work 2012-01-27: 2019-04-12 18:48:21.632256\n",
      "starting work 2012-01-28: 2019-04-12 18:48:22.911991\n",
      "starting work 2012-01-29: 2019-04-12 18:48:23.990388\n",
      "starting work 2012-01-30: 2019-04-12 18:48:25.062912\n",
      "starting work 2012-01-31: 2019-04-12 18:48:26.003752\n",
      "starting work 2012-02-01: 2019-04-12 18:48:26.998373\n",
      "starting work 2012-02-02: 2019-04-12 18:48:27.875811\n",
      "starting work 2012-02-03: 2019-04-12 18:48:28.099568\n",
      "starting work 2012-02-04: 2019-04-12 18:48:29.059140\n",
      "starting work 2012-02-05: 2019-04-12 18:48:30.148030\n",
      "starting work 2012-02-06: 2019-04-12 18:48:30.437828\n",
      "starting work 2012-02-07: 2019-04-12 18:48:31.307093\n",
      "starting work 2012-02-08: 2019-04-12 18:48:32.301819\n",
      "starting work 2012-02-09: 2019-04-12 18:48:33.334589\n",
      "starting work 2012-02-10: 2019-04-12 18:48:34.258452\n",
      "starting work 2012-02-11: 2019-04-12 18:48:34.497787\n",
      "starting work 2012-02-12: 2019-04-12 18:48:35.447370\n",
      "starting work 2012-02-13: 2019-04-12 18:48:36.308121\n",
      "starting work 2012-02-14: 2019-04-12 18:48:37.243133\n",
      "starting work 2012-02-15: 2019-04-12 18:48:38.183200\n",
      "starting work 2012-02-16: 2019-04-12 18:48:39.084975\n",
      "starting work 2012-02-17: 2019-04-12 18:48:39.285387\n",
      "starting work 2012-02-18: 2019-04-12 18:48:40.108891\n",
      "starting work 2012-02-19: 2019-04-12 18:48:40.319759\n",
      "starting work 2012-02-20: 2019-04-12 18:48:40.569092\n",
      "starting work 2012-02-21: 2019-04-12 18:48:41.427197\n",
      "starting work 2012-02-22: 2019-04-12 18:48:42.273360\n",
      "starting work 2012-02-23: 2019-04-12 18:48:43.150712\n",
      "starting work 2012-02-24: 2019-04-12 18:48:44.012766\n",
      "starting work 2012-02-25: 2019-04-12 18:48:44.227282\n",
      "starting work 2012-02-26: 2019-04-12 18:48:44.488276\n",
      "starting work 2012-02-27: 2019-04-12 18:48:45.326959\n",
      "starting work 2012-02-28: 2019-04-12 18:48:45.599467\n",
      "starting work 2012-02-29: 2019-04-12 18:48:45.831260\n",
      "starting work 2012-03-01: 2019-04-12 18:48:46.729154\n",
      "starting work 2012-03-02: 2019-04-12 18:48:47.678272\n",
      "starting work 2012-03-03: 2019-04-12 18:48:48.580229\n",
      "starting work 2012-03-04: 2019-04-12 18:48:48.864321\n",
      "starting work 2012-03-05: 2019-04-12 18:48:49.752038\n",
      "starting work 2012-03-06: 2019-04-12 18:48:50.750475\n",
      "starting work 2012-03-07: 2019-04-12 18:48:51.781269\n",
      "starting work 2012-03-08: 2019-04-12 18:48:52.693609\n",
      "starting work 2012-03-09: 2019-04-12 18:48:53.725782\n",
      "starting work 2012-03-10: 2019-04-12 18:48:54.607627\n",
      "starting work 2012-03-11: 2019-04-12 18:48:54.852000\n",
      "starting work 2012-03-12: 2019-04-12 18:48:55.722845\n",
      "starting work 2012-03-13: 2019-04-12 18:48:55.977997\n",
      "starting work 2012-03-14: 2019-04-12 18:48:56.909774\n",
      "starting work 2012-03-15: 2019-04-12 18:48:57.816409\n",
      "starting work 2012-03-16: 2019-04-12 18:48:58.860026\n",
      "starting work 2012-03-17: 2019-04-12 18:48:59.809247\n",
      "starting work 2012-03-18: 2019-04-12 18:49:00.726674\n",
      "starting work 2012-03-19: 2019-04-12 18:49:01.649881\n",
      "starting work 2012-03-20: 2019-04-12 18:49:02.557644\n",
      "starting work 2012-03-21: 2019-04-12 18:49:03.431515\n",
      "starting work 2012-03-22: 2019-04-12 18:49:03.663202\n",
      "starting work 2012-03-23: 2019-04-12 18:49:04.012656\n",
      "starting work 2012-03-24: 2019-04-12 18:49:04.975879\n",
      "starting work 2012-03-25: 2019-04-12 18:49:05.958784\n",
      "starting work 2012-03-26: 2019-04-12 18:49:06.915315\n",
      "starting work 2012-03-27: 2019-04-12 18:49:07.848604\n",
      "starting work 2012-03-28: 2019-04-12 18:49:08.884994\n",
      "starting work 2012-03-29: 2019-04-12 18:49:09.873999\n",
      "starting work 2012-03-30: 2019-04-12 18:49:10.808059\n",
      "starting work 2012-03-31: 2019-04-12 18:49:11.659590\n",
      "starting work 2012-04-01: 2019-04-12 18:49:12.526052\n",
      "starting work 2012-04-02: 2019-04-12 18:49:13.397236\n",
      "starting work 2012-04-03: 2019-04-12 18:49:14.447959\n",
      "starting work 2012-04-04: 2019-04-12 18:49:14.723600\n",
      "starting work 2012-04-05: 2019-04-12 18:49:15.016807\n",
      "starting work 2012-04-06: 2019-04-12 18:49:15.939732\n",
      "starting work 2012-04-07: 2019-04-12 18:49:16.840106\n",
      "starting work 2012-04-08: 2019-04-12 18:49:17.727923\n",
      "starting work 2012-04-09: 2019-04-12 18:49:18.624249\n",
      "starting work 2012-04-10: 2019-04-12 18:49:19.730846\n",
      "starting work 2012-04-11: 2019-04-12 18:49:20.588443\n",
      "starting work 2012-04-12: 2019-04-12 18:49:21.479266\n",
      "starting work 2012-04-13: 2019-04-12 18:49:22.436487\n",
      "starting work 2012-04-14: 2019-04-12 18:49:23.421767\n",
      "starting work 2012-04-15: 2019-04-12 18:49:24.360422\n",
      "starting work 2012-04-16: 2019-04-12 18:49:25.209720\n",
      "starting work 2012-04-17: 2019-04-12 18:49:26.056845\n",
      "starting work 2012-04-18: 2019-04-12 18:49:26.987105\n",
      "starting work 2012-04-19: 2019-04-12 18:49:27.922293\n",
      "starting work 2012-04-20: 2019-04-12 18:49:28.886080\n",
      "starting work 2012-04-21: 2019-04-12 18:49:29.845268\n",
      "starting work 2012-04-22: 2019-04-12 18:49:30.693124\n",
      "starting work 2012-04-23: 2019-04-12 18:49:31.540369\n",
      "starting work 2012-04-24: 2019-04-12 18:49:32.465339\n",
      "starting work 2012-04-25: 2019-04-12 18:49:33.448629\n",
      "starting work 2012-04-26: 2019-04-12 18:49:34.353931\n",
      "starting work 2012-04-27: 2019-04-12 18:49:35.233307\n",
      "starting work 2012-04-28: 2019-04-12 18:49:36.084106\n",
      "starting work 2012-04-29: 2019-04-12 18:49:36.934749\n",
      "starting work 2012-04-30: 2019-04-12 18:49:37.779857\n",
      "starting work 2012-05-01: 2019-04-12 18:49:38.711654\n",
      "starting work 2012-05-02: 2019-04-12 18:49:39.549585\n",
      "starting work 2012-05-03: 2019-04-12 18:49:40.426487\n",
      "starting work 2012-05-04: 2019-04-12 18:49:41.333789\n",
      "starting work 2012-05-05: 2019-04-12 18:49:42.188315\n",
      "starting work 2012-05-06: 2019-04-12 18:49:43.198751\n",
      "starting work 2012-05-07: 2019-04-12 18:49:44.086340\n",
      "starting work 2012-05-08: 2019-04-12 18:49:44.928777\n",
      "starting work 2012-05-09: 2019-04-12 18:49:45.833013\n",
      "starting work 2012-05-10: 2019-04-12 18:49:46.706104\n",
      "starting work 2012-05-11: 2019-04-12 18:49:47.752955\n",
      "starting work 2012-05-12: 2019-04-12 18:49:48.728545\n",
      "starting work 2012-05-13: 2019-04-12 18:49:48.953727\n",
      "starting work 2012-05-14: 2019-04-12 18:49:49.928037\n",
      "starting work 2012-05-15: 2019-04-12 18:49:50.875659\n",
      "starting work 2012-05-16: 2019-04-12 18:49:51.835927\n",
      "starting work 2012-05-17: 2019-04-12 18:49:52.858031\n",
      "starting work 2012-05-18: 2019-04-12 18:49:53.903643\n",
      "starting work 2012-05-19: 2019-04-12 18:49:54.840881\n",
      "starting work 2012-05-20: 2019-04-12 18:49:55.799244\n",
      "starting work 2012-05-21: 2019-04-12 18:49:56.665372\n",
      "starting work 2012-05-22: 2019-04-12 18:49:57.611789\n",
      "starting work 2012-05-23: 2019-04-12 18:49:58.573572\n",
      "starting work 2012-05-24: 2019-04-12 18:49:59.482172\n",
      "starting work 2012-05-25: 2019-04-12 18:50:00.370326\n",
      "starting work 2012-05-26: 2019-04-12 18:50:01.348480\n",
      "starting work 2012-05-27: 2019-04-12 18:50:02.235742\n",
      "starting work 2012-05-28: 2019-04-12 18:50:03.221454\n"
     ]
    },
    {
     "name": "stdout",
     "output_type": "stream",
     "text": [
      "starting work 2012-05-29: 2019-04-12 18:50:04.115425\n",
      "starting work 2012-05-30: 2019-04-12 18:50:04.938311\n",
      "starting work 2012-05-31: 2019-04-12 18:50:05.830621\n",
      "starting work 2012-06-01: 2019-04-12 18:50:06.678618\n",
      "starting work 2012-06-02: 2019-04-12 18:50:07.626321\n",
      "starting work 2012-06-03: 2019-04-12 18:50:08.595416\n",
      "starting work 2012-06-04: 2019-04-12 18:50:09.436770\n",
      "starting work 2012-06-05: 2019-04-12 18:50:10.330916\n",
      "starting work 2012-06-06: 2019-04-12 18:50:11.232179\n",
      "starting work 2012-06-07: 2019-04-12 18:50:12.127749\n",
      "starting work 2012-06-08: 2019-04-12 18:50:13.006131\n",
      "starting work 2012-06-09: 2019-04-12 18:50:13.862766\n",
      "starting work 2012-06-10: 2019-04-12 18:50:14.759870\n",
      "starting work 2012-06-11: 2019-04-12 18:50:15.018265\n",
      "starting work 2012-06-12: 2019-04-12 18:50:15.852795\n",
      "starting work 2012-06-13: 2019-04-12 18:50:16.743582\n",
      "starting work 2012-06-14: 2019-04-12 18:50:17.640701\n",
      "starting work 2012-06-15: 2019-04-12 18:50:18.633788\n",
      "starting work 2012-06-16: 2019-04-12 18:50:19.736236\n",
      "starting work 2012-06-17: 2019-04-12 18:50:21.220180\n",
      "starting work 2012-06-18: 2019-04-12 18:50:22.120459\n",
      "starting work 2012-06-19: 2019-04-12 18:50:23.155638\n",
      "starting work 2012-06-20: 2019-04-12 18:50:24.216441\n",
      "starting work 2012-06-21: 2019-04-12 18:50:25.196158\n",
      "starting work 2012-06-22: 2019-04-12 18:50:26.211963\n",
      "starting work 2012-06-23: 2019-04-12 18:50:26.514448\n",
      "starting work 2012-06-24: 2019-04-12 18:50:27.443195\n",
      "starting work 2012-06-25: 2019-04-12 18:50:28.386646\n",
      "starting work 2012-06-26: 2019-04-12 18:50:29.317047\n",
      "starting work 2012-06-27: 2019-04-12 18:50:30.193737\n",
      "starting work 2012-06-28: 2019-04-12 18:50:31.119453\n",
      "starting work 2012-06-29: 2019-04-12 18:50:32.100105\n",
      "starting work 2012-06-30: 2019-04-12 18:50:33.036568\n",
      "starting work 2012-07-01: 2019-04-12 18:50:33.984092\n",
      "starting work 2012-07-02: 2019-04-12 18:50:34.815147\n",
      "starting work 2012-07-03: 2019-04-12 18:50:35.822787\n",
      "starting work 2012-07-04: 2019-04-12 18:50:36.797565\n",
      "starting work 2012-07-05: 2019-04-12 18:50:37.753130\n",
      "starting work 2012-07-06: 2019-04-12 18:50:38.720265\n",
      "starting work 2012-07-07: 2019-04-12 18:50:39.674401\n",
      "starting work 2012-07-08: 2019-04-12 18:50:40.658581\n",
      "starting work 2012-07-09: 2019-04-12 18:50:40.893459\n",
      "starting work 2012-07-10: 2019-04-12 18:50:41.804887\n",
      "starting work 2012-07-11: 2019-04-12 18:50:42.074280\n",
      "starting work 2012-07-12: 2019-04-12 18:50:43.042526\n",
      "starting work 2012-07-13: 2019-04-12 18:50:43.968711\n",
      "starting work 2012-07-14: 2019-04-12 18:50:45.114255\n",
      "starting work 2012-07-15: 2019-04-12 18:50:46.022123\n",
      "starting work 2012-07-16: 2019-04-12 18:50:46.923972\n",
      "starting work 2012-07-17: 2019-04-12 18:50:47.782918\n",
      "starting work 2012-07-18: 2019-04-12 18:50:48.729325\n",
      "starting work 2012-07-19: 2019-04-12 18:50:49.630442\n",
      "starting work 2012-07-20: 2019-04-12 18:50:50.606920\n",
      "starting work 2012-07-21: 2019-04-12 18:50:50.859425\n",
      "starting work 2012-07-22: 2019-04-12 18:50:51.792434\n",
      "starting work 2012-07-23: 2019-04-12 18:50:52.043881\n",
      "starting work 2012-07-24: 2019-04-12 18:50:53.002851\n",
      "starting work 2012-07-25: 2019-04-12 18:50:53.960961\n",
      "starting work 2012-07-26: 2019-04-12 18:50:54.904315\n",
      "starting work 2012-07-27: 2019-04-12 18:50:55.870981\n",
      "starting work 2012-07-28: 2019-04-12 18:50:56.818461\n",
      "starting work 2012-07-29: 2019-04-12 18:50:57.991235\n",
      "starting work 2012-07-30: 2019-04-12 18:50:59.010106\n",
      "starting work 2012-07-31: 2019-04-12 18:50:59.947968\n",
      "starting work 2012-08-01: 2019-04-12 18:51:00.853252\n",
      "starting work 2012-08-02: 2019-04-12 18:51:01.825809\n",
      "starting work 2012-08-03: 2019-04-12 18:51:02.838095\n",
      "starting work 2012-08-04: 2019-04-12 18:51:03.855589\n",
      "starting work 2012-08-05: 2019-04-12 18:51:05.058935\n",
      "starting work 2012-08-06: 2019-04-12 18:51:06.213873\n",
      "starting work 2012-08-07: 2019-04-12 18:51:07.182878\n",
      "starting work 2012-08-08: 2019-04-12 18:51:08.072517\n",
      "starting work 2012-08-09: 2019-04-12 18:51:09.061346\n",
      "starting work 2012-08-10: 2019-04-12 18:51:10.029603\n",
      "starting work 2012-08-11: 2019-04-12 18:51:10.969663\n",
      "starting work 2012-08-12: 2019-04-12 18:51:11.851346\n",
      "starting work 2012-08-13: 2019-04-12 18:51:12.748174\n",
      "starting work 2012-08-14: 2019-04-12 18:51:13.723923\n",
      "starting work 2012-08-15: 2019-04-12 18:51:14.718554\n",
      "starting work 2012-08-16: 2019-04-12 18:51:15.613692\n",
      "starting work 2012-08-17: 2019-04-12 18:51:16.533784\n",
      "starting work 2012-08-18: 2019-04-12 18:51:17.432306\n",
      "starting work 2012-08-19: 2019-04-12 18:51:18.333716\n",
      "starting work 2012-08-20: 2019-04-12 18:51:18.607315\n",
      "starting work 2012-08-21: 2019-04-12 18:51:19.596098\n",
      "starting work 2012-08-22: 2019-04-12 18:51:20.552167\n",
      "starting work 2012-08-23: 2019-04-12 18:51:21.500453\n",
      "starting work 2012-08-24: 2019-04-12 18:51:22.419688\n",
      "starting work 2012-08-25: 2019-04-12 18:51:23.314789\n",
      "starting work 2012-08-26: 2019-04-12 18:51:24.283994\n",
      "starting work 2012-08-27: 2019-04-12 18:51:25.276490\n",
      "starting work 2012-08-28: 2019-04-12 18:51:26.213010\n",
      "starting work 2012-08-29: 2019-04-12 18:51:26.543544\n",
      "starting work 2012-08-30: 2019-04-12 18:51:26.901433\n",
      "starting work 2012-08-31: 2019-04-12 18:51:27.187419\n",
      "starting work 2012-09-01: 2019-04-12 18:51:28.172958\n",
      "starting work 2012-09-02: 2019-04-12 18:51:29.211604\n",
      "starting work 2012-09-03: 2019-04-12 18:51:30.129140\n",
      "starting work 2012-09-04: 2019-04-12 18:51:31.019692\n",
      "starting work 2012-09-05: 2019-04-12 18:51:31.979694\n",
      "starting work 2012-09-06: 2019-04-12 18:51:32.947007\n",
      "starting work 2012-09-07: 2019-04-12 18:51:33.942029\n",
      "starting work 2012-09-08: 2019-04-12 18:51:34.890804\n",
      "starting work 2012-09-09: 2019-04-12 18:51:35.798035\n",
      "starting work 2012-09-10: 2019-04-12 18:51:36.750329\n",
      "starting work 2012-09-11: 2019-04-12 18:51:37.635205\n",
      "starting work 2012-09-12: 2019-04-12 18:51:38.598939\n",
      "starting work 2012-09-13: 2019-04-12 18:51:39.588320\n",
      "starting work 2012-09-14: 2019-04-12 18:51:40.446406\n",
      "starting work 2012-09-15: 2019-04-12 18:51:41.484458\n",
      "starting work 2012-09-16: 2019-04-12 18:51:42.461215\n",
      "starting work 2012-09-17: 2019-04-12 18:51:43.372006\n",
      "starting work 2012-09-18: 2019-04-12 18:51:44.307693\n",
      "starting work 2012-09-19: 2019-04-12 18:51:44.573268\n",
      "starting work 2012-09-20: 2019-04-12 18:51:45.491832\n",
      "starting work 2012-09-21: 2019-04-12 18:51:46.587095\n",
      "starting work 2012-09-22: 2019-04-12 18:51:47.553590\n",
      "starting work 2012-09-23: 2019-04-12 18:51:48.570025\n",
      "starting work 2012-09-24: 2019-04-12 18:51:49.621409\n",
      "starting work 2012-09-25: 2019-04-12 18:51:50.559152\n",
      "starting work 2012-09-26: 2019-04-12 18:51:51.527281\n",
      "starting work 2012-09-27: 2019-04-12 18:51:52.548015\n",
      "starting work 2012-09-28: 2019-04-12 18:51:53.491735\n",
      "starting work 2012-09-29: 2019-04-12 18:51:54.367683\n",
      "starting work 2012-09-30: 2019-04-12 18:51:55.281070\n",
      "starting work 2012-10-01: 2019-04-12 18:51:55.540876\n",
      "starting work 2012-10-02: 2019-04-12 18:51:56.424757\n",
      "starting work 2012-10-03: 2019-04-12 18:51:57.351406\n",
      "starting work 2012-10-04: 2019-04-12 18:51:58.284621\n",
      "starting work 2012-10-05: 2019-04-12 18:51:59.244315\n",
      "starting work 2012-10-06: 2019-04-12 18:52:00.199449\n",
      "starting work 2012-10-07: 2019-04-12 18:52:01.089628\n",
      "starting work 2012-10-08: 2019-04-12 18:52:01.966678\n",
      "starting work 2012-10-09: 2019-04-12 18:52:02.977939\n",
      "starting work 2012-10-10: 2019-04-12 18:52:03.985645\n",
      "starting work 2012-10-11: 2019-04-12 18:52:04.968192\n",
      "starting work 2012-10-12: 2019-04-12 18:52:06.002387\n",
      "starting work 2012-10-13: 2019-04-12 18:52:06.909806\n",
      "starting work 2012-10-14: 2019-04-12 18:52:07.825092\n",
      "starting work 2012-10-15: 2019-04-12 18:52:08.705818\n",
      "starting work 2012-10-16: 2019-04-12 18:52:09.596611\n",
      "starting work 2012-10-17: 2019-04-12 18:52:10.532395\n",
      "starting work 2012-10-18: 2019-04-12 18:52:11.372454\n",
      "starting work 2012-10-19: 2019-04-12 18:52:12.143162\n",
      "starting work 2012-10-20: 2019-04-12 18:52:13.048243\n",
      "starting work 2012-10-21: 2019-04-12 18:52:14.038542\n",
      "starting work 2012-10-22: 2019-04-12 18:52:14.961083\n",
      "starting work 2012-10-23: 2019-04-12 18:52:15.936555\n",
      "starting work 2012-10-24: 2019-04-12 18:52:16.909657\n",
      "starting work 2012-10-25: 2019-04-12 18:52:17.855330\n",
      "starting work 2012-10-26: 2019-04-12 18:52:18.896345\n",
      "starting work 2012-10-27: 2019-04-12 18:52:20.019926\n",
      "starting work 2012-10-28: 2019-04-12 18:52:21.028613\n",
      "starting work 2012-10-29: 2019-04-12 18:52:21.961478\n",
      "starting work 2012-10-30: 2019-04-12 18:52:23.026361\n"
     ]
    },
    {
     "name": "stdout",
     "output_type": "stream",
     "text": [
      "starting work 2012-10-31: 2019-04-12 18:52:24.104616\n",
      "starting work 2012-11-01: 2019-04-12 18:52:25.108657\n",
      "starting work 2012-11-02: 2019-04-12 18:52:26.333368\n",
      "starting work 2012-11-03: 2019-04-12 18:52:27.609506\n",
      "starting work 2012-11-04: 2019-04-12 18:52:28.928468\n",
      "starting work 2012-11-05: 2019-04-12 18:52:29.774241\n",
      "starting work 2012-11-06: 2019-04-12 18:52:31.131398\n",
      "starting work 2012-11-07: 2019-04-12 18:52:32.061303\n",
      "starting work 2012-11-08: 2019-04-12 18:52:33.391182\n",
      "starting work 2012-11-09: 2019-04-12 18:52:34.503040\n",
      "starting work 2012-11-10: 2019-04-12 18:52:35.807169\n",
      "starting work 2012-11-11: 2019-04-12 18:52:36.861446\n",
      "starting work 2012-11-12: 2019-04-12 18:52:38.207708\n",
      "starting work 2012-11-13: 2019-04-12 18:52:39.219213\n",
      "starting work 2012-11-14: 2019-04-12 18:52:39.928676\n",
      "starting work 2012-11-15: 2019-04-12 18:52:40.661423\n",
      "starting work 2012-11-16: 2019-04-12 18:52:41.382214\n",
      "starting work 2012-11-17: 2019-04-12 18:52:42.057066\n",
      "starting work 2012-11-18: 2019-04-12 18:52:42.797631\n",
      "starting work 2012-11-19: 2019-04-12 18:52:43.484638\n",
      "starting work 2012-11-20: 2019-04-12 18:52:44.145130\n",
      "starting work 2012-11-21: 2019-04-12 18:52:44.833758\n",
      "starting work 2012-11-22: 2019-04-12 18:52:45.502547\n",
      "starting work 2012-11-23: 2019-04-12 18:52:46.140615\n",
      "starting work 2012-11-24: 2019-04-12 18:52:46.840839\n",
      "starting work 2012-11-25: 2019-04-12 18:52:47.559735\n",
      "starting work 2012-11-26: 2019-04-12 18:52:48.238007\n",
      "starting work 2012-11-27: 2019-04-12 18:52:48.871268\n",
      "starting work 2012-11-28: 2019-04-12 18:52:49.061706\n",
      "starting work 2012-11-29: 2019-04-12 18:52:49.707502\n",
      "starting work 2012-11-30: 2019-04-12 18:52:50.356733\n",
      "starting work 2012-12-01: 2019-04-12 18:52:51.006140\n",
      "starting work 2012-12-02: 2019-04-12 18:52:51.738519\n",
      "starting work 2012-12-03: 2019-04-12 18:52:52.403090\n",
      "starting work 2012-12-04: 2019-04-12 18:52:53.102675\n",
      "starting work 2012-12-05: 2019-04-12 18:52:53.760156\n",
      "starting work 2012-12-06: 2019-04-12 18:52:54.381103\n",
      "starting work 2012-12-07: 2019-04-12 18:52:55.013998\n",
      "starting work 2012-12-08: 2019-04-12 18:52:55.658607\n",
      "starting work 2012-12-09: 2019-04-12 18:52:56.297467\n",
      "starting work 2012-12-10: 2019-04-12 18:52:56.965181\n",
      "starting work 2012-12-11: 2019-04-12 18:52:57.146556\n",
      "starting work 2012-12-12: 2019-04-12 18:52:57.345634\n",
      "starting work 2012-12-13: 2019-04-12 18:52:58.043604\n",
      "starting work 2012-12-14: 2019-04-12 18:52:58.766306\n",
      "starting work 2012-12-15: 2019-04-12 18:52:59.468902\n",
      "starting work 2012-12-16: 2019-04-12 18:53:00.105309\n",
      "starting work 2012-12-17: 2019-04-12 18:53:00.311093\n",
      "starting work 2012-12-18: 2019-04-12 18:53:00.966414\n",
      "starting work 2012-12-19: 2019-04-12 18:53:01.655952\n",
      "starting work 2012-12-20: 2019-04-12 18:53:02.301039\n",
      "starting work 2012-12-21: 2019-04-12 18:53:02.957778\n",
      "starting work 2012-12-22: 2019-04-12 18:53:03.664882\n",
      "starting work 2012-12-23: 2019-04-12 18:53:04.409301\n",
      "starting work 2012-12-24: 2019-04-12 18:53:04.608352\n",
      "starting work 2012-12-25: 2019-04-12 18:53:05.374296\n",
      "starting work 2012-12-26: 2019-04-12 18:53:05.614929\n",
      "starting work 2012-12-27: 2019-04-12 18:53:06.294689\n",
      "starting work 2012-12-28: 2019-04-12 18:53:06.966650\n",
      "starting work 2012-12-29: 2019-04-12 18:53:07.593078\n",
      "starting work 2012-12-30: 2019-04-12 18:53:07.791339\n",
      "starting work 2012-12-31: 2019-04-12 18:53:08.524255\n"
     ]
    }
   ],
   "source": [
    "reload(run_step1)\n",
    "run_step1.main(tag_af, filter_persistent_sources = filter_persistent_sources)"
   ]
  },
  {
   "cell_type": "markdown",
   "metadata": {},
   "source": [
    "### Running \"step 2\" intersection with raster datasets"
   ]
  },
  {
   "cell_type": "code",
   "execution_count": 26,
   "metadata": {},
   "outputs": [
    {
     "name": "stdout",
     "output_type": "stream",
     "text": [
      "starting prep: 2019-04-12 18:53:09.253959\n",
      "(datetime.date(2011, 12, 31), datetime.date(2012, 12, 31))\n",
      "0\n",
      "starting work 2011-12-31: 2019-04-12 18:53:09.369117\n",
      "starting work 2012-01-01: 2019-04-12 18:53:09.583510\n",
      "starting work 2012-01-02: 2019-04-12 18:53:09.771791\n",
      "starting work 2012-01-03: 2019-04-12 18:53:10.044095\n",
      "starting work 2012-01-04: 2019-04-12 18:53:10.450986\n",
      "starting work 2012-01-05: 2019-04-12 18:53:11.049908\n",
      "starting work 2012-01-06: 2019-04-12 18:53:11.797205\n",
      "starting work 2012-01-07: 2019-04-12 18:53:12.011882\n",
      "starting work 2012-01-08: 2019-04-12 18:53:12.294349\n",
      "starting work 2012-01-09: 2019-04-12 18:53:12.518809\n",
      "starting work 2012-01-10: 2019-04-12 18:53:12.692064\n",
      "starting work 2012-01-11: 2019-04-12 18:53:12.860143\n",
      "starting work 2012-01-12: 2019-04-12 18:53:13.104352\n",
      "starting work 2012-01-13: 2019-04-12 18:53:13.417570\n",
      "starting work 2012-01-14: 2019-04-12 18:53:13.874954\n",
      "starting work 2012-01-15: 2019-04-12 18:53:14.378772\n",
      "starting work 2012-01-16: 2019-04-12 18:53:14.617546\n",
      "starting work 2012-01-17: 2019-04-12 18:53:14.959863\n",
      "starting work 2012-01-18: 2019-04-12 18:53:15.159014\n",
      "starting work 2012-01-19: 2019-04-12 18:53:15.525183\n",
      "starting work 2012-01-20: 2019-04-12 18:53:15.858304\n",
      "starting work 2012-01-21: 2019-04-12 18:53:16.170656\n",
      "starting work 2012-01-22: 2019-04-12 18:53:16.494180\n",
      "starting work 2012-01-23: 2019-04-12 18:53:16.736724\n",
      "starting work 2012-01-24: 2019-04-12 18:53:17.003549\n",
      "starting work 2012-01-25: 2019-04-12 18:53:17.270192\n",
      "starting work 2012-01-26: 2019-04-12 18:53:17.468967\n",
      "starting work 2012-01-27: 2019-04-12 18:53:17.760894\n",
      "starting work 2012-01-28: 2019-04-12 18:53:18.140285\n",
      "starting work 2012-01-29: 2019-04-12 18:53:18.900343\n",
      "starting work 2012-01-30: 2019-04-12 18:53:19.843281\n",
      "starting work 2012-01-31: 2019-04-12 18:53:20.278513\n",
      "starting work 2012-02-01: 2019-04-12 18:53:20.726584\n",
      "starting work 2012-02-02: 2019-04-12 18:53:20.982687\n",
      "starting work 2012-02-03: 2019-04-12 18:53:21.237406\n",
      "starting work 2012-02-04: 2019-04-12 18:53:21.721323\n",
      "starting work 2012-02-05: 2019-04-12 18:53:22.048938\n",
      "starting work 2012-02-06: 2019-04-12 18:53:22.296527\n",
      "starting work 2012-02-07: 2019-04-12 18:53:22.611128\n",
      "starting work 2012-02-08: 2019-04-12 18:53:23.026213\n",
      "starting work 2012-02-09: 2019-04-12 18:53:23.684929\n",
      "starting work 2012-02-10: 2019-04-12 18:53:24.325043\n",
      "starting work 2012-02-11: 2019-04-12 18:53:24.604449\n",
      "starting work 2012-02-12: 2019-04-12 18:53:24.939053\n",
      "starting work 2012-02-13: 2019-04-12 18:53:25.243217\n",
      "starting work 2012-02-14: 2019-04-12 18:53:25.526551\n",
      "starting work 2012-02-15: 2019-04-12 18:53:25.746687\n",
      "starting work 2012-02-16: 2019-04-12 18:53:26.002531\n",
      "starting work 2012-02-17: 2019-04-12 18:53:26.275163\n",
      "starting work 2012-02-18: 2019-04-12 18:53:26.614425\n",
      "starting work 2012-02-19: 2019-04-12 18:53:26.956507\n",
      "starting work 2012-02-20: 2019-04-12 18:53:27.205117\n",
      "starting work 2012-02-21: 2019-04-12 18:53:27.482619\n",
      "starting work 2012-02-22: 2019-04-12 18:53:27.718357\n",
      "starting work 2012-02-23: 2019-04-12 18:53:27.982703\n",
      "starting work 2012-02-24: 2019-04-12 18:53:28.199897\n",
      "starting work 2012-02-25: 2019-04-12 18:53:28.400110\n",
      "starting work 2012-02-26: 2019-04-12 18:53:28.653036\n",
      "starting work 2012-02-27: 2019-04-12 18:53:29.108916\n",
      "starting work 2012-02-28: 2019-04-12 18:53:29.467543\n",
      "starting work 2012-02-29: 2019-04-12 18:53:29.736260\n",
      "starting work 2012-03-01: 2019-04-12 18:53:30.000068\n",
      "starting work 2012-03-02: 2019-04-12 18:53:30.259902\n",
      "starting work 2012-03-03: 2019-04-12 18:53:30.534405\n",
      "starting work 2012-03-04: 2019-04-12 18:53:30.768047\n",
      "starting work 2012-03-05: 2019-04-12 18:53:31.285684\n",
      "starting work 2012-03-06: 2019-04-12 18:53:32.434463\n",
      "starting work 2012-03-07: 2019-04-12 18:53:33.517533\n",
      "starting work 2012-03-08: 2019-04-12 18:53:34.183518\n",
      "starting work 2012-03-09: 2019-04-12 18:53:34.658620\n",
      "starting work 2012-03-10: 2019-04-12 18:53:34.919842\n",
      "starting work 2012-03-11: 2019-04-12 18:53:35.202704\n",
      "starting work 2012-03-12: 2019-04-12 18:53:35.473150\n",
      "starting work 2012-03-13: 2019-04-12 18:53:35.685567\n",
      "starting work 2012-03-14: 2019-04-12 18:53:36.128254\n",
      "starting work 2012-03-15: 2019-04-12 18:53:36.896636\n",
      "starting work 2012-03-16: 2019-04-12 18:53:37.777208\n",
      "starting work 2012-03-17: 2019-04-12 18:53:38.599711\n",
      "starting work 2012-03-18: 2019-04-12 18:53:39.109603\n",
      "starting work 2012-03-19: 2019-04-12 18:53:39.422169\n",
      "starting work 2012-03-20: 2019-04-12 18:53:40.027296\n",
      "starting work 2012-03-21: 2019-04-12 18:53:40.413964\n",
      "starting work 2012-03-22: 2019-04-12 18:53:40.643004\n",
      "starting work 2012-03-23: 2019-04-12 18:53:40.861966\n",
      "starting work 2012-03-24: 2019-04-12 18:53:41.080813\n",
      "starting work 2012-03-25: 2019-04-12 18:53:41.342523\n",
      "starting work 2012-03-26: 2019-04-12 18:53:41.583784\n",
      "starting work 2012-03-27: 2019-04-12 18:53:42.339611\n",
      "starting work 2012-03-28: 2019-04-12 18:53:42.976780\n",
      "starting work 2012-03-29: 2019-04-12 18:53:43.321525\n",
      "starting work 2012-03-30: 2019-04-12 18:53:43.655248\n",
      "starting work 2012-03-31: 2019-04-12 18:53:44.059688\n",
      "starting work 2012-04-01: 2019-04-12 18:53:44.534911\n",
      "starting work 2012-04-02: 2019-04-12 18:53:44.874321\n",
      "starting work 2012-04-03: 2019-04-12 18:53:45.217116\n",
      "starting work 2012-04-04: 2019-04-12 18:53:45.435999\n",
      "starting work 2012-04-05: 2019-04-12 18:53:45.618773\n",
      "starting work 2012-04-06: 2019-04-12 18:53:45.918449\n",
      "starting work 2012-04-07: 2019-04-12 18:53:46.434738\n",
      "starting work 2012-04-08: 2019-04-12 18:53:46.876739\n",
      "starting work 2012-04-09: 2019-04-12 18:53:47.165156\n",
      "starting work 2012-04-10: 2019-04-12 18:53:47.540610\n",
      "starting work 2012-04-11: 2019-04-12 18:53:47.862622\n",
      "starting work 2012-04-12: 2019-04-12 18:53:48.325839\n",
      "starting work 2012-04-13: 2019-04-12 18:53:48.913088\n",
      "starting work 2012-04-14: 2019-04-12 18:53:49.318387\n",
      "starting work 2012-04-15: 2019-04-12 18:53:49.657530\n",
      "starting work 2012-04-16: 2019-04-12 18:53:49.948560\n",
      "starting work 2012-04-17: 2019-04-12 18:53:50.281355\n",
      "starting work 2012-04-18: 2019-04-12 18:53:50.695693\n",
      "starting work 2012-04-19: 2019-04-12 18:53:51.077407\n",
      "starting work 2012-04-20: 2019-04-12 18:53:51.390817\n",
      "starting work 2012-04-21: 2019-04-12 18:53:51.747760\n",
      "starting work 2012-04-22: 2019-04-12 18:53:51.999070\n",
      "starting work 2012-04-23: 2019-04-12 18:53:52.360648\n",
      "starting work 2012-04-24: 2019-04-12 18:53:53.084585\n",
      "starting work 2012-04-25: 2019-04-12 18:53:53.591468\n",
      "starting work 2012-04-26: 2019-04-12 18:53:53.939898\n",
      "starting work 2012-04-27: 2019-04-12 18:53:54.275921\n",
      "starting work 2012-04-28: 2019-04-12 18:53:54.888391\n",
      "starting work 2012-04-29: 2019-04-12 18:53:55.365043\n",
      "starting work 2012-04-30: 2019-04-12 18:53:55.733565\n",
      "starting work 2012-05-01: 2019-04-12 18:53:56.124121\n",
      "starting work 2012-05-02: 2019-04-12 18:53:56.424038\n",
      "starting work 2012-05-03: 2019-04-12 18:53:56.701789\n",
      "starting work 2012-05-04: 2019-04-12 18:53:57.001378\n",
      "starting work 2012-05-05: 2019-04-12 18:53:57.647868\n",
      "starting work 2012-05-06: 2019-04-12 18:53:58.019453\n",
      "starting work 2012-05-07: 2019-04-12 18:53:58.332633\n",
      "starting work 2012-05-08: 2019-04-12 18:53:58.613341\n",
      "starting work 2012-05-09: 2019-04-12 18:53:58.877846\n",
      "starting work 2012-05-10: 2019-04-12 18:53:59.219702\n",
      "starting work 2012-05-11: 2019-04-12 18:53:59.941697\n",
      "starting work 2012-05-12: 2019-04-12 18:54:00.210311\n",
      "starting work 2012-05-13: 2019-04-12 18:54:00.457722\n",
      "starting work 2012-05-14: 2019-04-12 18:54:00.702053\n",
      "starting work 2012-05-15: 2019-04-12 18:54:01.070550\n",
      "starting work 2012-05-16: 2019-04-12 18:54:01.701612\n",
      "starting work 2012-05-17: 2019-04-12 18:54:02.223614\n",
      "starting work 2012-05-18: 2019-04-12 18:54:02.699837\n",
      "starting work 2012-05-19: 2019-04-12 18:54:03.076544\n",
      "starting work 2012-05-20: 2019-04-12 18:54:03.412620\n",
      "starting work 2012-05-21: 2019-04-12 18:54:03.857577\n",
      "starting work 2012-05-22: 2019-04-12 18:54:04.485231\n",
      "starting work 2012-05-23: 2019-04-12 18:54:04.910839\n",
      "starting work 2012-05-24: 2019-04-12 18:54:05.257599\n",
      "starting work 2012-05-25: 2019-04-12 18:54:05.580937\n",
      "starting work 2012-05-26: 2019-04-12 18:54:05.936534\n",
      "starting work 2012-05-27: 2019-04-12 18:54:06.282954\n",
      "starting work 2012-05-28: 2019-04-12 18:54:06.801466\n",
      "starting work 2012-05-29: 2019-04-12 18:54:07.374335\n",
      "starting work 2012-05-30: 2019-04-12 18:54:07.713967\n",
      "starting work 2012-05-31: 2019-04-12 18:54:08.029971\n"
     ]
    },
    {
     "name": "stdout",
     "output_type": "stream",
     "text": [
      "starting work 2012-06-01: 2019-04-12 18:54:08.308428\n",
      "starting work 2012-06-02: 2019-04-12 18:54:08.874084\n",
      "starting work 2012-06-03: 2019-04-12 18:54:09.500546\n",
      "starting work 2012-06-04: 2019-04-12 18:54:09.821107\n",
      "starting work 2012-06-05: 2019-04-12 18:54:10.102756\n",
      "starting work 2012-06-06: 2019-04-12 18:54:10.406890\n",
      "starting work 2012-06-07: 2019-04-12 18:54:10.868178\n",
      "starting work 2012-06-08: 2019-04-12 18:54:11.342580\n",
      "starting work 2012-06-09: 2019-04-12 18:54:11.622051\n",
      "starting work 2012-06-10: 2019-04-12 18:54:11.870987\n",
      "starting work 2012-06-11: 2019-04-12 18:54:12.087835\n",
      "starting work 2012-06-12: 2019-04-12 18:54:12.328294\n",
      "starting work 2012-06-13: 2019-04-12 18:54:12.598779\n",
      "starting work 2012-06-14: 2019-04-12 18:54:13.087505\n",
      "starting work 2012-06-15: 2019-04-12 18:54:13.590735\n",
      "starting work 2012-06-16: 2019-04-12 18:54:13.876047\n",
      "starting work 2012-06-17: 2019-04-12 18:54:14.212342\n",
      "starting work 2012-06-18: 2019-04-12 18:54:14.498092\n",
      "starting work 2012-06-19: 2019-04-12 18:54:14.788215\n",
      "starting work 2012-06-20: 2019-04-12 18:54:15.161931\n",
      "starting work 2012-06-21: 2019-04-12 18:54:15.777300\n",
      "starting work 2012-06-22: 2019-04-12 18:54:16.155320\n",
      "starting work 2012-06-23: 2019-04-12 18:54:16.406550\n",
      "starting work 2012-06-24: 2019-04-12 18:54:16.725134\n",
      "starting work 2012-06-25: 2019-04-12 18:54:17.023919\n",
      "starting work 2012-06-26: 2019-04-12 18:54:17.288884\n",
      "starting work 2012-06-27: 2019-04-12 18:54:17.661765\n",
      "starting work 2012-06-28: 2019-04-12 18:54:18.249623\n",
      "starting work 2012-06-29: 2019-04-12 18:54:18.854133\n",
      "starting work 2012-06-30: 2019-04-12 18:54:19.163015\n",
      "starting work 2012-07-01: 2019-04-12 18:54:19.444860\n",
      "starting work 2012-07-02: 2019-04-12 18:54:19.722657\n",
      "starting work 2012-07-03: 2019-04-12 18:54:20.194384\n",
      "starting work 2012-07-04: 2019-04-12 18:54:20.743498\n",
      "starting work 2012-07-05: 2019-04-12 18:54:21.034821\n",
      "starting work 2012-07-06: 2019-04-12 18:54:21.328861\n",
      "starting work 2012-07-07: 2019-04-12 18:54:21.606222\n",
      "starting work 2012-07-08: 2019-04-12 18:54:21.883980\n",
      "starting work 2012-07-09: 2019-04-12 18:54:22.238469\n",
      "starting work 2012-07-10: 2019-04-12 18:54:22.721800\n",
      "starting work 2012-07-11: 2019-04-12 18:54:23.018127\n",
      "starting work 2012-07-12: 2019-04-12 18:54:23.235143\n",
      "starting work 2012-07-13: 2019-04-12 18:54:23.519878\n",
      "starting work 2012-07-14: 2019-04-12 18:54:23.763505\n",
      "starting work 2012-07-15: 2019-04-12 18:54:24.029810\n",
      "starting work 2012-07-16: 2019-04-12 18:54:24.323986\n",
      "starting work 2012-07-17: 2019-04-12 18:54:24.919029\n",
      "starting work 2012-07-18: 2019-04-12 18:54:25.348141\n",
      "starting work 2012-07-19: 2019-04-12 18:54:25.629042\n",
      "starting work 2012-07-20: 2019-04-12 18:54:25.887029\n",
      "starting work 2012-07-21: 2019-04-12 18:54:26.119501\n",
      "starting work 2012-07-22: 2019-04-12 18:54:26.369921\n",
      "starting work 2012-07-23: 2019-04-12 18:54:26.738259\n",
      "starting work 2012-07-24: 2019-04-12 18:54:27.110099\n",
      "starting work 2012-07-25: 2019-04-12 18:54:27.423943\n",
      "starting work 2012-07-26: 2019-04-12 18:54:27.791435\n",
      "starting work 2012-07-27: 2019-04-12 18:54:28.109532\n",
      "starting work 2012-07-28: 2019-04-12 18:54:28.344472\n",
      "starting work 2012-07-29: 2019-04-12 18:54:28.662564\n",
      "starting work 2012-07-30: 2019-04-12 18:54:29.214596\n",
      "starting work 2012-07-31: 2019-04-12 18:54:29.983209\n",
      "starting work 2012-08-01: 2019-04-12 18:54:30.368754\n",
      "starting work 2012-08-02: 2019-04-12 18:54:30.688509\n",
      "starting work 2012-08-03: 2019-04-12 18:54:30.965763\n",
      "starting work 2012-08-04: 2019-04-12 18:54:31.343676\n",
      "starting work 2012-08-05: 2019-04-12 18:54:31.689302\n",
      "starting work 2012-08-06: 2019-04-12 18:54:32.197452\n",
      "starting work 2012-08-07: 2019-04-12 18:54:32.625956\n",
      "starting work 2012-08-08: 2019-04-12 18:54:32.905959\n",
      "starting work 2012-08-09: 2019-04-12 18:54:33.240450\n",
      "starting work 2012-08-10: 2019-04-12 18:54:33.599197\n",
      "starting work 2012-08-11: 2019-04-12 18:54:34.054317\n",
      "starting work 2012-08-12: 2019-04-12 18:54:34.387968\n",
      "starting work 2012-08-13: 2019-04-12 18:54:34.682459\n",
      "starting work 2012-08-14: 2019-04-12 18:54:34.970015\n",
      "starting work 2012-08-15: 2019-04-12 18:54:35.219785\n",
      "starting work 2012-08-16: 2019-04-12 18:54:35.497862\n",
      "starting work 2012-08-17: 2019-04-12 18:54:35.974738\n",
      "starting work 2012-08-18: 2019-04-12 18:54:36.308557\n",
      "starting work 2012-08-19: 2019-04-12 18:54:36.627371\n",
      "starting work 2012-08-20: 2019-04-12 18:54:36.807244\n",
      "starting work 2012-08-21: 2019-04-12 18:54:37.032473\n",
      "starting work 2012-08-22: 2019-04-12 18:54:37.255510\n",
      "starting work 2012-08-23: 2019-04-12 18:54:37.483782\n",
      "starting work 2012-08-24: 2019-04-12 18:54:37.824791\n",
      "starting work 2012-08-25: 2019-04-12 18:54:38.248734\n",
      "starting work 2012-08-26: 2019-04-12 18:54:38.648335\n",
      "starting work 2012-08-27: 2019-04-12 18:54:38.980502\n",
      "starting work 2012-08-28: 2019-04-12 18:54:39.293616\n",
      "starting work 2012-08-29: 2019-04-12 18:54:39.521191\n",
      "starting work 2012-08-30: 2019-04-12 18:54:39.702387\n",
      "starting work 2012-08-31: 2019-04-12 18:54:39.895139\n",
      "starting work 2012-09-01: 2019-04-12 18:54:40.178684\n",
      "starting work 2012-09-02: 2019-04-12 18:54:40.588265\n",
      "starting work 2012-09-03: 2019-04-12 18:54:40.977385\n",
      "starting work 2012-09-04: 2019-04-12 18:54:41.315753\n",
      "starting work 2012-09-05: 2019-04-12 18:54:41.545312\n",
      "starting work 2012-09-06: 2019-04-12 18:54:41.806305\n",
      "starting work 2012-09-07: 2019-04-12 18:54:42.089585\n",
      "starting work 2012-09-08: 2019-04-12 18:54:42.395349\n",
      "starting work 2012-09-09: 2019-04-12 18:54:42.772690\n",
      "starting work 2012-09-10: 2019-04-12 18:54:43.291775\n",
      "starting work 2012-09-11: 2019-04-12 18:54:43.678751\n",
      "starting work 2012-09-12: 2019-04-12 18:54:44.027823\n",
      "starting work 2012-09-13: 2019-04-12 18:54:44.255981\n",
      "starting work 2012-09-14: 2019-04-12 18:54:44.530833\n",
      "starting work 2012-09-15: 2019-04-12 18:54:44.992033\n",
      "starting work 2012-09-16: 2019-04-12 18:54:45.437888\n",
      "starting work 2012-09-17: 2019-04-12 18:54:45.726483\n",
      "starting work 2012-09-18: 2019-04-12 18:54:45.968954\n",
      "starting work 2012-09-19: 2019-04-12 18:54:46.179454\n",
      "starting work 2012-09-20: 2019-04-12 18:54:46.499288\n",
      "starting work 2012-09-21: 2019-04-12 18:54:46.898923\n",
      "starting work 2012-09-22: 2019-04-12 18:54:47.496963\n",
      "starting work 2012-09-23: 2019-04-12 18:54:47.879046\n",
      "starting work 2012-09-24: 2019-04-12 18:54:48.202545\n",
      "starting work 2012-09-25: 2019-04-12 18:54:48.565785\n",
      "starting work 2012-09-26: 2019-04-12 18:54:48.977137\n",
      "starting work 2012-09-27: 2019-04-12 18:54:49.629463\n",
      "starting work 2012-09-28: 2019-04-12 18:54:50.013920\n",
      "starting work 2012-09-29: 2019-04-12 18:54:50.358665\n",
      "starting work 2012-09-30: 2019-04-12 18:54:50.566684\n",
      "starting work 2012-10-01: 2019-04-12 18:54:50.739900\n",
      "starting work 2012-10-02: 2019-04-12 18:54:50.940147\n",
      "starting work 2012-10-03: 2019-04-12 18:54:51.219389\n",
      "starting work 2012-10-04: 2019-04-12 18:54:51.605573\n",
      "starting work 2012-10-05: 2019-04-12 18:54:52.139935\n",
      "starting work 2012-10-06: 2019-04-12 18:54:52.600387\n",
      "starting work 2012-10-07: 2019-04-12 18:54:52.962421\n",
      "starting work 2012-10-08: 2019-04-12 18:54:53.240744\n",
      "starting work 2012-10-09: 2019-04-12 18:54:53.955331\n",
      "starting work 2012-10-10: 2019-04-12 18:54:54.605847\n",
      "starting work 2012-10-11: 2019-04-12 18:54:55.023864\n",
      "starting work 2012-10-12: 2019-04-12 18:54:55.562945\n",
      "starting work 2012-10-13: 2019-04-12 18:54:55.983009\n",
      "starting work 2012-10-14: 2019-04-12 18:54:56.758528\n",
      "starting work 2012-10-15: 2019-04-12 18:54:57.104607\n",
      "starting work 2012-10-16: 2019-04-12 18:54:57.335340\n",
      "starting work 2012-10-17: 2019-04-12 18:54:57.674111\n",
      "starting work 2012-10-18: 2019-04-12 18:54:58.012733\n",
      "starting work 2012-10-19: 2019-04-12 18:54:58.286456\n",
      "starting work 2012-10-20: 2019-04-12 18:54:59.064764\n",
      "starting work 2012-10-21: 2019-04-12 18:54:59.669493\n",
      "starting work 2012-10-22: 2019-04-12 18:55:00.091079\n",
      "starting work 2012-10-23: 2019-04-12 18:55:00.577508\n",
      "starting work 2012-10-24: 2019-04-12 18:55:01.054123\n",
      "starting work 2012-10-25: 2019-04-12 18:55:01.840693\n",
      "starting work 2012-10-26: 2019-04-12 18:55:02.278358\n",
      "starting work 2012-10-27: 2019-04-12 18:55:02.685266\n",
      "starting work 2012-10-28: 2019-04-12 18:55:03.142524\n",
      "starting work 2012-10-29: 2019-04-12 18:55:03.754856\n",
      "starting work 2012-10-30: 2019-04-12 18:55:04.830471\n",
      "starting work 2012-10-31: 2019-04-12 18:55:05.479018\n",
      "starting work 2012-11-01: 2019-04-12 18:55:05.953826\n",
      "starting work 2012-11-02: 2019-04-12 18:55:06.902359\n"
     ]
    },
    {
     "name": "stdout",
     "output_type": "stream",
     "text": [
      "starting work 2012-11-03: 2019-04-12 18:55:07.433559\n",
      "starting work 2012-11-04: 2019-04-12 18:55:07.924510\n",
      "starting work 2012-11-05: 2019-04-12 18:55:08.266025\n",
      "starting work 2012-11-06: 2019-04-12 18:55:08.782224\n",
      "starting work 2012-11-07: 2019-04-12 18:55:09.283702\n",
      "starting work 2012-11-08: 2019-04-12 18:55:10.045392\n",
      "starting work 2012-11-09: 2019-04-12 18:55:11.077791\n",
      "starting work 2012-11-10: 2019-04-12 18:55:11.747101\n",
      "starting work 2012-11-11: 2019-04-12 18:55:12.186978\n",
      "starting work 2012-11-12: 2019-04-12 18:55:12.468208\n",
      "starting work 2012-11-13: 2019-04-12 18:55:12.684613\n",
      "starting work 2012-11-14: 2019-04-12 18:55:13.080269\n",
      "starting work 2012-11-15: 2019-04-12 18:55:13.954341\n",
      "starting work 2012-11-16: 2019-04-12 18:55:14.964343\n",
      "starting work 2012-11-17: 2019-04-12 18:55:15.456194\n",
      "starting work 2012-11-18: 2019-04-12 18:55:16.021157\n",
      "starting work 2012-11-19: 2019-04-12 18:55:16.441869\n",
      "starting work 2012-11-20: 2019-04-12 18:55:16.953758\n",
      "starting work 2012-11-21: 2019-04-12 18:55:17.771239\n",
      "starting work 2012-11-22: 2019-04-12 18:55:18.408461\n",
      "starting work 2012-11-23: 2019-04-12 18:55:18.763470\n",
      "starting work 2012-11-24: 2019-04-12 18:55:19.483709\n",
      "starting work 2012-11-25: 2019-04-12 18:55:20.288264\n",
      "starting work 2012-11-26: 2019-04-12 18:55:20.923561\n",
      "starting work 2012-11-27: 2019-04-12 18:55:21.245380\n",
      "starting work 2012-11-28: 2019-04-12 18:55:21.625146\n",
      "starting work 2012-11-29: 2019-04-12 18:55:22.047446\n",
      "starting work 2012-11-30: 2019-04-12 18:55:22.478865\n",
      "starting work 2012-12-01: 2019-04-12 18:55:23.057017\n",
      "starting work 2012-12-02: 2019-04-12 18:55:23.860652\n",
      "starting work 2012-12-03: 2019-04-12 18:55:24.310553\n",
      "starting work 2012-12-04: 2019-04-12 18:55:24.840240\n",
      "starting work 2012-12-05: 2019-04-12 18:55:25.063750\n",
      "starting work 2012-12-06: 2019-04-12 18:55:25.278258\n",
      "starting work 2012-12-07: 2019-04-12 18:55:25.528631\n",
      "starting work 2012-12-08: 2019-04-12 18:55:25.907366\n",
      "starting work 2012-12-09: 2019-04-12 18:55:26.475718\n",
      "starting work 2012-12-10: 2019-04-12 18:55:26.961055\n",
      "starting work 2012-12-11: 2019-04-12 18:55:27.240328\n",
      "starting work 2012-12-12: 2019-04-12 18:55:27.546471\n",
      "starting work 2012-12-13: 2019-04-12 18:55:27.980557\n",
      "starting work 2012-12-14: 2019-04-12 18:55:28.824003\n",
      "starting work 2012-12-15: 2019-04-12 18:55:29.352166\n",
      "starting work 2012-12-16: 2019-04-12 18:55:29.670755\n",
      "starting work 2012-12-17: 2019-04-12 18:55:30.125341\n",
      "starting work 2012-12-18: 2019-04-12 18:55:30.499755\n",
      "starting work 2012-12-19: 2019-04-12 18:55:31.079931\n",
      "starting work 2012-12-20: 2019-04-12 18:55:31.519364\n",
      "starting work 2012-12-21: 2019-04-12 18:55:31.777541\n",
      "starting work 2012-12-22: 2019-04-12 18:55:32.833458\n",
      "starting work 2012-12-23: 2019-04-12 18:55:33.455537\n",
      "starting work 2012-12-24: 2019-04-12 18:55:33.664062\n",
      "starting work 2012-12-25: 2019-04-12 18:55:34.240332\n",
      "starting work 2012-12-26: 2019-04-12 18:55:34.545650\n",
      "starting work 2012-12-27: 2019-04-12 18:55:34.791796\n",
      "starting work 2012-12-28: 2019-04-12 18:55:35.166332\n",
      "starting work 2012-12-29: 2019-04-12 18:55:35.378112\n",
      "starting work 2012-12-30: 2019-04-12 18:55:35.594640\n",
      "starting work 2012-12-31: 2019-04-12 18:55:35.950246\n"
     ]
    }
   ],
   "source": [
    "reload(run_step2)\n",
    "run_step2.main(tag_af, rasters)"
   ]
  },
  {
   "cell_type": "markdown",
   "metadata": {},
   "source": [
    "## 7. Export the output"
   ]
  },
  {
   "cell_type": "markdown",
   "metadata": {},
   "source": [
    "Default output directory is this diretory (where you have this Jupyter Notebook file), and output file has long name of having tag of each datasets."
   ]
  },
  {
   "cell_type": "code",
   "execution_count": 27,
   "metadata": {},
   "outputs": [],
   "source": [
    "outdir = '.'\n",
    "shpname = 'out_{0}_{1}_{2}_{3}.shp'.format(tag_af, tag_lct, tag_vcf, tag_regnum)"
   ]
  },
  {
   "cell_type": "code",
   "execution_count": 28,
   "metadata": {},
   "outputs": [],
   "source": [
    "schema = 'af_' + tag_af\n",
    "tblname = 'out_{0}_{1}_{2}'.format(tag_lct, tag_vcf, tag_regnum)\n",
    "flds = ('v_lct', 'f_lct', 'v_tree', 'v_herb', 'v_bare', 'v_regnum')"
   ]
  },
  {
   "cell_type": "code",
   "execution_count": 29,
   "metadata": {},
   "outputs": [
    {
     "name": "stdout",
     "output_type": "stream",
     "text": [
      "exporting: ./out_testLouisiana2012_keptpersistent_modlct_2012_modvcf_2012_regnum.csv ... Done\n",
      "exporting: ./out_testLouisiana2012_keptpersistent_modlct_2012_modvcf_2012_regnum.shp ... Done\n"
     ]
    }
   ],
   "source": [
    "reload(export_shp)\n",
    "export_shp.main(outdir, schema, tblname, flds, shpname)"
   ]
  },
  {
   "cell_type": "markdown",
   "metadata": {},
   "source": [
    "## 8. Disk use summary and clean up (if you wish)"
   ]
  },
  {
   "cell_type": "markdown",
   "metadata": {},
   "source": [
    "You see summary of disk use and code which optionally cleans up disk use by removing intermediates."
   ]
  },
  {
   "cell_type": "markdown",
   "metadata": {},
   "source": [
    "### Point/Polygons"
   ]
  },
  {
   "cell_type": "markdown",
   "metadata": {},
   "source": [
    "All intermediate datasets for vector processing are stored in the database.  See the usage of individual tables and grand total below.   "
   ]
  },
  {
   "cell_type": "code",
   "execution_count": 30,
   "metadata": {},
   "outputs": [
    {
     "name": "stdout",
     "output_type": "stream",
     "text": [
      "Disk use by AF processing intermediate tables inside the database\n",
      "\n",
      "                            table_full_name                             |    size    \n",
      "------------------------------------------------------------------------+------------\n",
      " af_testLouisiana2012_keptpersistent.work_pnt                           | 6152 kB\n",
      " af_testLouisiana2012_keptpersistent.af_in_2                            | 2960 kB\n",
      " af_testLouisiana2012_keptpersistent.out_modlct_2012_modvcf_2012_regnum | 2656 kB\n",
      " af_testLouisiana2012_keptpersistent.out_modlct_2012_modvcf_2012        | 2576 kB\n",
      " af_testLouisiana2012_keptpersistent.out_modlct_2012                    | 2328 kB\n",
      " af_testLouisiana2012_keptpersistent.work_div                           | 2240 kB\n",
      " af_testLouisiana2012_keptpersistent.work_lrg                           | 1880 kB\n",
      " af_testLouisiana2012_keptpersistent.af_in_1                            | 864 kB\n",
      " af_testLouisiana2012_keptpersistent.tbl_modvcf_2012                    | 720 kB\n",
      " af_testLouisiana2012_keptpersistent.tbl_modlct_2012                    | 552 kB\n",
      " af_testLouisiana2012_keptpersistent.tbl_regnum                         | 384 kB\n",
      " af_testLouisiana2012_keptpersistent.tbl_log                            | 128 kB\n",
      " af_testLouisiana2012_keptpersistent.af_ins                             | 16 kB\n",
      " af_testLouisiana2012_keptpersistent.tbl_options                        | 16 kB\n",
      " af_testLouisiana2012_keptpersistent.tbl_flddefs                        | 8192 bytes\n",
      "(15 rows)\n",
      "\n",
      "\n",
      "Total\n",
      "\n",
      "            table_schema             | size  \n",
      "-------------------------------------+-------\n",
      " af_testLouisiana2012_keptpersistent | 23 MB\n",
      "(1 row)\n",
      "\n",
      "\n"
     ]
    }
   ],
   "source": [
    "qry_af = \"\"\"SELECT table_schema || '.' || table_name AS table_full_name,\n",
    "pg_size_pretty(pg_total_relation_size('\"' || table_schema || '\".\"' || table_name || '\"')) AS size\n",
    "FROM information_schema.tables\n",
    "WHERE table_schema = '%(sch_af)s'   \n",
    "ORDER BY pg_total_relation_size('\"' || table_schema || '\".\"' || table_name || '\"') DESC;\"\"\" % dict(\n",
    "    sch_af=('af_%s' % tag_af),\n",
    ")\n",
    "\n",
    "qry_af_tot = \"\"\"SELECT table_schema,\n",
    "pg_size_pretty(sum(pg_total_relation_size('\"' || table_schema || '\".\"' || table_name || '\"'))) AS size\n",
    "FROM information_schema.tables\n",
    "WHERE table_schema = '%(sch_af)s'   \n",
    "GROUP BY table_schema;\"\"\" % dict(\n",
    "    sch_af=('af_%s' % tag_af),\n",
    ")\n",
    "\n",
    "\n",
    "print('Disk use by AF processing intermediate tables inside the database\\n')\n",
    "p = subprocess.run(['psql', '-d', 'finn', '-c', qry_af], stdout=subprocess.PIPE, check=True)\n",
    "print(p.stdout.decode())\n",
    "\n",
    "print('Total\\n')\n",
    "p = subprocess.run(['psql', '-d', 'finn', '-c', qry_af_tot], stdout=subprocess.PIPE, check=True)\n",
    "print(p.stdout.decode())\n"
   ]
  },
  {
   "cell_type": "markdown",
   "metadata": {},
   "source": [
    "If all processing above is successful and you would like to reclaim the diskspace, you can (1) change value of `wipe_intermediate_vector` below to `True` and run the cell."
   ]
  },
  {
   "cell_type": "code",
   "execution_count": 31,
   "metadata": {},
   "outputs": [],
   "source": [
    "wipe_intermediate_vector = False\n",
    "if wipe_intermediate_vector == True:\n",
    "    print(tag_af)\n",
    "    sch_af = 'af_%s' % tag_af\n",
    "    print(sch_af)\n",
    "    qry = 'DROP SCHEMA \"%s\" CASCADE;' % sch_af\n",
    "    cmd = ['psql',  '-d', os.environ[\"PGDATABASE\"], '-c', qry]\n",
    "    subprocess.run(cmd, check=True)"
   ]
  },
  {
   "cell_type": "markdown",
   "metadata": {},
   "source": [
    "### Raster"
   ]
  },
  {
   "cell_type": "markdown",
   "metadata": {},
   "source": [
    "Intermediate data for raster dataset are located in three different places.  First the original HDF format file you downloaded from EarthData website.  Seond is GeoTiff format data prepared for importing into PostGIS dataset.  The third is raster dataset inside PostGIS dataset.  Diskspace usage of each are summarized below."
   ]
  },
  {
   "cell_type": "code",
   "execution_count": 32,
   "metadata": {},
   "outputs": [
    {
     "name": "stdout",
     "output_type": "stream",
     "text": [
      "Disk use by downloaded raster hdf files\n",
      "2.8G\t../downloads/e4ftl01.cr.usgs.gov/MOTA/MCD12Q1.006/2012.01.01/\n",
      "2.1G\t../downloads/e4ftl01.cr.usgs.gov/MOLT/MOD44B.006/2012.03.05/\n",
      "4.9G\ttotal\n",
      "\n"
     ]
    }
   ],
   "source": [
    "cmd = ['du', '-csh', ddir_lct, ddir_vcf]\n",
    "\n",
    "p = subprocess.run(cmd, stdout=subprocess.PIPE)\n",
    "print('Disk use by downloaded raster hdf files')\n",
    "print(p.stdout.decode())"
   ]
  },
  {
   "cell_type": "code",
   "execution_count": 33,
   "metadata": {},
   "outputs": [
    {
     "name": "stdout",
     "output_type": "stream",
     "text": [
      "Disk use by intermediate raster processing files\n",
      "87M\t../proc_rst_modlct_2012\n",
      "2.8G\t../proc_rst_modvcf_2012\n",
      "2.9G\ttotal\n",
      "\n"
     ]
    }
   ],
   "source": [
    "cmd = ['du', '-csh', workdir_lct, workdir_vcf]\n",
    "p = subprocess.run(cmd, stdout=subprocess.PIPE)\n",
    "print('Disk use by intermediate raster processing files')\n",
    "print(p.stdout.decode())"
   ]
  },
  {
   "cell_type": "code",
   "execution_count": 34,
   "metadata": {},
   "outputs": [
    {
     "name": "stdout",
     "output_type": "stream",
     "text": [
      "Disk use by raster dataset in the database\n",
      "\n",
      "       table_full_name        |  size   \n",
      "------------------------------+---------\n",
      " raster.rst_modvcf_2012       | 2139 MB\n",
      " raster.rst_modlct_2012       | 117 MB\n",
      " raster.o_32_rst_modvcf_2012  | 3480 kB\n",
      " raster.o_32_rst_modlct_2012  | 448 kB\n",
      " raster.skel_rst_modlct_2012  | 184 kB\n",
      " raster.skel_rst_modvcf_2012  | 184 kB\n",
      " raster.o_256_rst_modvcf_2012 | 96 kB\n",
      " raster.o_256_rst_modlct_2012 | 40 kB\n",
      "(8 rows)\n",
      "\n",
      "\n",
      "Total for modlct_2012 and modvcf_2012\n",
      "\n",
      " table_schema |  size   \n",
      "--------------+---------\n",
      " raster       | 2260 MB\n",
      "(1 row)\n",
      "\n",
      "\n"
     ]
    }
   ],
   "source": [
    "qry_rst = \"\"\"SELECT table_schema || '.' || table_name AS table_full_name,\n",
    "pg_size_pretty(pg_total_relation_size('\"' || table_schema || '\".\"' || table_name || '\"')) AS size\n",
    "FROM information_schema.tables\n",
    "WHERE table_name ~ '^.*(%(tbl_lct)s|%(tbl_vcf)s)'   \n",
    "ORDER BY pg_total_relation_size('\"' || table_schema || '\".\"' || table_name || '\"') DESC;\"\"\" % dict(\n",
    "    tbl_lct=('rst_%s' % tag_lct),\n",
    "    tbl_vcf=('rst_%s' % tag_vcf),\n",
    ")\n",
    "qry_rst_tot = \"\"\"SELECT table_schema,\n",
    "pg_size_pretty(sum(pg_total_relation_size('\"' || table_schema || '\".\"' || table_name || '\"'))) AS size\n",
    "FROM information_schema.tables\n",
    "WHERE table_name ~ '^.*(%(tbl_lct)s|%(tbl_vcf)s)'   \n",
    "GROUP BY table_schema;\"\"\" % dict(\n",
    "    sch_af=('af_%s' % tag_af),\n",
    "    tbl_lct=('rst_%s' % tag_lct),\n",
    "    tbl_vcf=('rst_%s' % tag_vcf),\n",
    ")\n",
    "print('Disk use by raster dataset in the database\\n')\n",
    "p = subprocess.run(['psql', '-d', 'finn', '-c', qry_rst], stdout=subprocess.PIPE, check=True)\n",
    "print(p.stdout.decode())\n",
    "print('Total for %(tag_lct)s and %(tag_vcf)s\\n' % dict(tag_lct=tag_lct, tag_vcf=tag_vcf))\n",
    "p = subprocess.run(['psql', '-d', 'finn', '-c', qry_rst_tot], stdout=subprocess.PIPE, check=True)\n",
    "print(p.stdout.decode())"
   ]
  },
  {
   "cell_type": "code",
   "execution_count": 35,
   "metadata": {},
   "outputs": [],
   "source": [
    "wipe_downloaded_hdf = False\n",
    "wipe_intermediate_geotiff = False\n",
    "wipe_intermediate_rst_in_db = False\n",
    "\n",
    "if wipe_downloaded_hdf == True:\n",
    "    # ditch entire download directory for the year\n",
    "    tgts = [ddir_lct, ddir_vcf]\n",
    "    cmd = ['rm', '-fr', ] + tgts\n",
    "\n",
    "    subprocess.run(cmd, check=True)\n",
    "    \n",
    "if wipe_intermediate_geotiff == True:\n",
    "    # ditch entire processing directory \n",
    "    tgts = [workdir_lct, workdir_vcf]\n",
    "    cmd = ['rm', '-fr', ] + tgts\n",
    "    print(cmd)\n",
    "    subprocess.run(cmd, check=True)\n",
    "    \n",
    "\n",
    "if wipe_intermediate_rst_in_db == True:\n",
    "    # delete each table from the schema 'raster'\n",
    "    reload(rst_import)\n",
    "    \n",
    "    rst_import.drop_tables(tag_lct)\n",
    "    rst_import.drop_tables(tag_vcf)\n"
   ]
  },
  {
   "cell_type": "code",
   "execution_count": null,
   "metadata": {},
   "outputs": [],
   "source": []
  }
 ],
 "metadata": {
  "kernelspec": {
   "display_name": "Python 3",
   "language": "python",
   "name": "python3"
  },
  "language_info": {
   "codemirror_mode": {
    "name": "ipython",
    "version": 3
   },
   "file_extension": ".py",
   "mimetype": "text/x-python",
   "name": "python",
   "nbconvert_exporter": "python",
   "pygments_lexer": "ipython3",
   "version": "3.7.3"
  }
 },
 "nbformat": 4,
 "nbformat_minor": 2
}
