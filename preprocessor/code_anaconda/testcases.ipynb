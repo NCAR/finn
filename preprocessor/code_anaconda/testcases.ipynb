{
 "cells": [
  {
   "cell_type": "markdown",
   "metadata": {},
   "source": [
    "\n",
    "# FINN Preprocessor"
   ]
  },
  {
   "cell_type": "markdown",
   "metadata": {},
   "source": [
    "## 1. User specified configurations"
   ]
  },
  {
   "cell_type": "markdown",
   "metadata": {},
   "source": [
    "Below you have example for the first cell.  AF file comes with repository for these test cases.\n",
    "\n",
    "Example 1.  Example usage with small local dataset.  Uses both MODIS and VIIRS active fire, which came with the source code, in \"sample_datasets\" directory.\n",
    "```python\n",
    "# tag to identify active fire dataset\n",
    "tag_af = 'testOTS_092018'\n",
    "\n",
    "# active fire shp file name and path\n",
    "af_fnames = [\n",
    "    '../sample_datasets/fire/testOTS_092018/fire_archive_M6_23960.shp',\n",
    "    '../sample_datasets/fire/testOTS_092018/fire_archive_V1_23961.shp',\n",
    "]\n",
    "\n",
    "# MODIS raster datasets' year\n",
    "year_rst = 2017\n",
    "```\n",
    "\n",
    "Example 2.  Another local fire example, using NRT dataset\n",
    "\n",
    "```python\n",
    "# tag to identify active fire dataset\n",
    "# USA (excl. ALK) 7 days fire downloaded 2019-01-13 \n",
    "tag_af = 'testUSA_012019'\n",
    "\n",
    "# shp file names\n",
    "af_fnames = [\n",
    "    '../sample_datasets/fire/testUSA_012019/MODIS_C6_USA_contiguous_and_Hawaii_7d.shp',\n",
    "    '../sample_datasets/fire/testUSA_012019/VNP14IMGTDL_NRT_USA_contiguous_and_Hawaii_7d.shp',\n",
    "]\n",
    "\n",
    "# MODIS raster datasets' year\n",
    "year_rst = 2017\n",
    "```\n",
    "\n",
    "\n",
    "Example 3.  Example usage for global 2016 run.  AF file is provided by us but will be downloaded from AWS that we host.\n",
    "```python\n",
    "# tag to identify active fire dataset\n",
    "tag_af = 'mod_global_2016'\n",
    "\n",
    "# shp file names\n",
    "af_fnames = [\n",
    "    '../sample_datasets/fire/global_2016/fire_archive_M6_28864.shp',\n",
    "]\n",
    "\n",
    "# MODIS raster datasets' year\n",
    "year_rst = 2016\n",
    "```\n",
    "\n",
    "\n"
   ]
  },
  {
   "cell_type": "code",
   "execution_count": null,
   "metadata": {},
   "outputs": [],
   "source": [
    "# tag to identify active fire dataset\n",
    "tag_af = 'testOTS_092018'\n",
    "\n",
    "# active fire shp file name and path\n",
    "af_fnames = [\n",
    "    '../sample_datasets/fire/testOTS_092018/fire_archive_M6_23960.shp',\n",
    "    '../sample_datasets/fire/testOTS_092018/fire_archive_V1_23961.shp',\n",
    "]\n",
    "\n",
    "# MODIS raster datasets' year\n",
    "year_rst = 2017"
   ]
  },
  {
   "cell_type": "markdown",
   "metadata": {},
   "source": [
    "The rest of code should run without user editing."
   ]
  }
 ],
 "metadata": {
  "kernelspec": {
   "display_name": "Python 3",
   "language": "python",
   "name": "python3"
  },
  "language_info": {
   "codemirror_mode": {
    "name": "ipython",
    "version": 3
   },
   "file_extension": ".py",
   "mimetype": "text/x-python",
   "name": "python",
   "nbconvert_exporter": "python",
   "pygments_lexer": "ipython3",
   "version": "3.6.7"
  }
 },
 "nbformat": 4,
 "nbformat_minor": 2
}
